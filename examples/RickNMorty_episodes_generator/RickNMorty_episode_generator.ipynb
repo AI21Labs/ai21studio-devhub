{
 "cells": [
  {
   "cell_type": "markdown",
   "id": "9d5b941f",
   "metadata": {},
   "source": [
    "# Rick and Morty episode generator"
   ]
  },
  {
   "cell_type": "markdown",
   "id": "4373f9b9",
   "metadata": {},
   "source": [
    "The goal of this notebook is to build a generator that would create an entire made-up episode for Rick and Morty with a title, summary, and a post-credits scene.\n",
    "\n",
    "As we go along, each piece will be generated based on what we've created previously.\n",
    "\n",
    "The flow of the process is as follows:\n",
    "1. Load the Rick and Morty dataset, which contains summaries of all episodes of the series' first six seasons.\n",
    "2. Create a title based on the titles of existing episodes.\n",
    "3. Produce a summary of the made-up episode based on the title and existing episode summaries.\n",
    "4. Generate a post-credits scene for the made-up episode based on the generated title, generated summary, and existing post-credits scenes.\n",
    "5. Create custom datasets for training models in AI21 Studio based on the full dataset."
   ]
  },
  {
   "cell_type": "markdown",
   "id": "164a24d4",
   "metadata": {},
   "source": [
    "### Imports and settings"
   ]
  },
  {
   "cell_type": "markdown",
   "id": "3259751c",
   "metadata": {},
   "source": [
    "Installations - just in case"
   ]
  },
  {
   "cell_type": "code",
   "execution_count": 1,
   "id": "5a4da3e5",
   "metadata": {},
   "outputs": [
    {
     "name": "stdout",
     "output_type": "stream",
     "text": [
      "Requirement already satisfied: pandas in /Users/yuvalbelfer/.pyenv/versions/3.9.6/envs/ai21studio-devhub/lib/python3.9/site-packages (1.4.3)\n",
      "Requirement already satisfied: pytz>=2020.1 in /Users/yuvalbelfer/.pyenv/versions/3.9.6/envs/ai21studio-devhub/lib/python3.9/site-packages (from pandas) (2022.1)\n",
      "Requirement already satisfied: numpy>=1.20.0 in /Users/yuvalbelfer/.pyenv/versions/3.9.6/envs/ai21studio-devhub/lib/python3.9/site-packages (from pandas) (1.23.1)\n",
      "Requirement already satisfied: python-dateutil>=2.8.1 in /Users/yuvalbelfer/.pyenv/versions/3.9.6/envs/ai21studio-devhub/lib/python3.9/site-packages (from pandas) (2.8.2)\n",
      "Requirement already satisfied: six>=1.5 in /Users/yuvalbelfer/.pyenv/versions/3.9.6/envs/ai21studio-devhub/lib/python3.9/site-packages (from python-dateutil>=2.8.1->pandas) (1.16.0)\n",
      "\n",
      "\u001b[1m[\u001b[0m\u001b[34;49mnotice\u001b[0m\u001b[1;39;49m]\u001b[0m\u001b[39;49m A new release of pip available: \u001b[0m\u001b[31;49m22.2.2\u001b[0m\u001b[39;49m -> \u001b[0m\u001b[32;49m23.1\u001b[0m\n",
      "\u001b[1m[\u001b[0m\u001b[34;49mnotice\u001b[0m\u001b[1;39;49m]\u001b[0m\u001b[39;49m To update, run: \u001b[0m\u001b[32;49mpython3.9 -m pip install --upgrade pip\u001b[0m\n",
      "Requirement already satisfied: numpy in /Users/yuvalbelfer/.pyenv/versions/3.9.6/envs/ai21studio-devhub/lib/python3.9/site-packages (1.23.1)\n",
      "\n",
      "\u001b[1m[\u001b[0m\u001b[34;49mnotice\u001b[0m\u001b[1;39;49m]\u001b[0m\u001b[39;49m A new release of pip available: \u001b[0m\u001b[31;49m22.2.2\u001b[0m\u001b[39;49m -> \u001b[0m\u001b[32;49m23.1\u001b[0m\n",
      "\u001b[1m[\u001b[0m\u001b[34;49mnotice\u001b[0m\u001b[1;39;49m]\u001b[0m\u001b[39;49m To update, run: \u001b[0m\u001b[32;49mpython3.9 -m pip install --upgrade pip\u001b[0m\n",
      "Collecting ai21\n",
      "  Downloading ai21-1.0.5.tar.gz (9.4 kB)\n",
      "  Preparing metadata (setup.py) ... \u001b[?25ldone\n",
      "\u001b[?25hRequirement already satisfied: requests in /Users/yuvalbelfer/.pyenv/versions/3.9.6/envs/ai21studio-devhub/lib/python3.9/site-packages (from ai21) (2.28.1)\n",
      "Requirement already satisfied: charset-normalizer<3,>=2 in /Users/yuvalbelfer/.pyenv/versions/3.9.6/envs/ai21studio-devhub/lib/python3.9/site-packages (from requests->ai21) (2.1.0)\n",
      "Requirement already satisfied: idna<4,>=2.5 in /Users/yuvalbelfer/.pyenv/versions/3.9.6/envs/ai21studio-devhub/lib/python3.9/site-packages (from requests->ai21) (3.3)\n",
      "Requirement already satisfied: certifi>=2017.4.17 in /Users/yuvalbelfer/.pyenv/versions/3.9.6/envs/ai21studio-devhub/lib/python3.9/site-packages (from requests->ai21) (2022.6.15)\n",
      "Requirement already satisfied: urllib3<1.27,>=1.21.1 in /Users/yuvalbelfer/.pyenv/versions/3.9.6/envs/ai21studio-devhub/lib/python3.9/site-packages (from requests->ai21) (1.26.11)\n",
      "Building wheels for collected packages: ai21\n",
      "  Building wheel for ai21 (setup.py) ... \u001b[?25ldone\n",
      "\u001b[?25h  Created wheel for ai21: filename=ai21-1.0.5-py3-none-any.whl size=16659 sha256=1540f14fd8b64b6166016bfcf078a1305856b1198d6ee63e5a2408f7f9099efd\n",
      "  Stored in directory: /Users/yuvalbelfer/Library/Caches/pip/wheels/03/a8/f4/77b493ec691fad0cbdac10ef3fd0cf6769ced4b5a1911a3eda\n",
      "Successfully built ai21\n",
      "Installing collected packages: ai21\n",
      "Successfully installed ai21-1.0.5\n",
      "\n",
      "\u001b[1m[\u001b[0m\u001b[34;49mnotice\u001b[0m\u001b[1;39;49m]\u001b[0m\u001b[39;49m A new release of pip available: \u001b[0m\u001b[31;49m22.2.2\u001b[0m\u001b[39;49m -> \u001b[0m\u001b[32;49m23.1\u001b[0m\n",
      "\u001b[1m[\u001b[0m\u001b[34;49mnotice\u001b[0m\u001b[1;39;49m]\u001b[0m\u001b[39;49m To update, run: \u001b[0m\u001b[32;49mpython3.9 -m pip install --upgrade pip\u001b[0m\n"
     ]
    }
   ],
   "source": [
    "!pip install pandas\n",
    "!pip install numpy\n",
    "!pip install -U ai21"
   ]
  },
  {
   "cell_type": "code",
   "execution_count": 2,
   "id": "17d10c62",
   "metadata": {},
   "outputs": [],
   "source": [
    "import pandas as pd\n",
    "import numpy as np\n",
    "import json\n",
    "import ai21"
   ]
  },
  {
   "cell_type": "markdown",
   "id": "0988cd06",
   "metadata": {},
   "source": [
    "### API key\n",
    "In order to run this notebook, you will need an API key for AI21 Studio. How can you get it?\n",
    "\n",
    "Create a free account at [AI21 Studio](https://studio.ai21.com). You can see you API key in the *Account* tab."
   ]
  },
  {
   "cell_type": "code",
   "execution_count": 3,
   "id": "4b420afd",
   "metadata": {},
   "outputs": [],
   "source": [
    "# TODO: fill your API key from AI21 Studio account\n",
    "ai21.api_key = \"\"\n",
    "assert ai21.api_key != \"\", \"You must provide an API key!\""
   ]
  },
  {
   "cell_type": "markdown",
   "id": "57e6b6ff",
   "metadata": {},
   "source": [
    "### Load the Rick & Morty episodes dataset"
   ]
  },
  {
   "cell_type": "code",
   "execution_count": 4,
   "id": "5cfa3263",
   "metadata": {},
   "outputs": [],
   "source": [
    "rnm_df = pd.read_csv(\"RickNMorty.csv\")\n",
    "rnm_df.dropna(inplace=True) # Remove rows with missing entries"
   ]
  },
  {
   "cell_type": "markdown",
   "id": "6b01d7fa",
   "metadata": {},
   "source": [
    "Take a look at the dataset and what it contains"
   ]
  },
  {
   "cell_type": "code",
   "execution_count": 5,
   "id": "0ff43235",
   "metadata": {},
   "outputs": [
    {
     "data": {
      "text/html": [
       "<div>\n",
       "<style scoped>\n",
       "    .dataframe tbody tr th:only-of-type {\n",
       "        vertical-align: middle;\n",
       "    }\n",
       "\n",
       "    .dataframe tbody tr th {\n",
       "        vertical-align: top;\n",
       "    }\n",
       "\n",
       "    .dataframe thead th {\n",
       "        text-align: right;\n",
       "    }\n",
       "</style>\n",
       "<table border=\"1\" class=\"dataframe\">\n",
       "  <thead>\n",
       "    <tr style=\"text-align: right;\">\n",
       "      <th></th>\n",
       "      <th>Season</th>\n",
       "      <th>Episode</th>\n",
       "      <th>Episode Title</th>\n",
       "      <th>Episode Summary</th>\n",
       "      <th>Post-Credits Scene Summary</th>\n",
       "    </tr>\n",
       "  </thead>\n",
       "  <tbody>\n",
       "    <tr>\n",
       "      <th>1</th>\n",
       "      <td>1</td>\n",
       "      <td>2</td>\n",
       "      <td>Lawnmower Dog</td>\n",
       "      <td>On Jerry's demand, Rick gives Snuffles, the fa...</td>\n",
       "      <td>Back in Scary Terry's class, the old teacher h...</td>\n",
       "    </tr>\n",
       "    <tr>\n",
       "      <th>2</th>\n",
       "      <td>1</td>\n",
       "      <td>3</td>\n",
       "      <td>Anatomy Park</td>\n",
       "      <td>On Christmas, Rick sends Morty inside the body...</td>\n",
       "      <td>Rick contacts Annie and her other new associat...</td>\n",
       "    </tr>\n",
       "    <tr>\n",
       "      <th>3</th>\n",
       "      <td>1</td>\n",
       "      <td>4</td>\n",
       "      <td>M. Night Shaym-Aliens!</td>\n",
       "      <td>Aliens hold Rick and Jerry captive in a virtua...</td>\n",
       "      <td>Jerry is fired on the spot after debuting his ...</td>\n",
       "    </tr>\n",
       "    <tr>\n",
       "      <th>4</th>\n",
       "      <td>1</td>\n",
       "      <td>5</td>\n",
       "      <td>Meeseeks and Destroy</td>\n",
       "      <td>After killing deadly enemies in an alternative...</td>\n",
       "      <td>Two villagers find a box of incriminating phot...</td>\n",
       "    </tr>\n",
       "    <tr>\n",
       "      <th>5</th>\n",
       "      <td>1</td>\n",
       "      <td>6</td>\n",
       "      <td>Rick Potion #9</td>\n",
       "      <td>Morty is interested in going to the dance at h...</td>\n",
       "      <td>Jerry, Beth and Summer are happy to stay toget...</td>\n",
       "    </tr>\n",
       "  </tbody>\n",
       "</table>\n",
       "</div>"
      ],
      "text/plain": [
       "   Season  Episode           Episode Title  \\\n",
       "1       1        2           Lawnmower Dog   \n",
       "2       1        3            Anatomy Park   \n",
       "3       1        4  M. Night Shaym-Aliens!   \n",
       "4       1        5    Meeseeks and Destroy   \n",
       "5       1        6          Rick Potion #9   \n",
       "\n",
       "                                     Episode Summary  \\\n",
       "1  On Jerry's demand, Rick gives Snuffles, the fa...   \n",
       "2  On Christmas, Rick sends Morty inside the body...   \n",
       "3  Aliens hold Rick and Jerry captive in a virtua...   \n",
       "4  After killing deadly enemies in an alternative...   \n",
       "5  Morty is interested in going to the dance at h...   \n",
       "\n",
       "                          Post-Credits Scene Summary  \n",
       "1  Back in Scary Terry's class, the old teacher h...  \n",
       "2  Rick contacts Annie and her other new associat...  \n",
       "3  Jerry is fired on the spot after debuting his ...  \n",
       "4  Two villagers find a box of incriminating phot...  \n",
       "5  Jerry, Beth and Summer are happy to stay toget...  "
      ]
     },
     "execution_count": 5,
     "metadata": {},
     "output_type": "execute_result"
    }
   ],
   "source": [
    "rnm_df.head()"
   ]
  },
  {
   "cell_type": "markdown",
   "id": "ebac6936",
   "metadata": {},
   "source": [
    "### Parameters"
   ]
  },
  {
   "cell_type": "code",
   "execution_count": 6,
   "id": "06d24325",
   "metadata": {},
   "outputs": [],
   "source": [
    "SEPARATOR = '\\n##\\n'\n",
    "SUBSET_SIZE = 7\n",
    "SEED = 23"
   ]
  },
  {
   "cell_type": "markdown",
   "id": "1f496aa9",
   "metadata": {},
   "source": [
    "We want to use these examples to create a [few-shot prompt](https://docs.ai21.com/docs/prompt-engineering#-few-shot-prompts), where we feed several examples to the model as a prefix to the query. As the prompt is limited, we need to sample a subset of the full dataset."
   ]
  },
  {
   "cell_type": "code",
   "execution_count": 7,
   "id": "a77bcb4c",
   "metadata": {},
   "outputs": [],
   "source": [
    "# Sample a subset of the episodes for few-shot generations\n",
    "rnm_df_subset = rnm_df.sample(n=SUBSET_SIZE, random_state=SEED)"
   ]
  },
  {
   "cell_type": "markdown",
   "id": "1236c95c",
   "metadata": {},
   "source": [
    "## Title generator"
   ]
  },
  {
   "cell_type": "markdown",
   "id": "05fd2b0a",
   "metadata": {},
   "source": [
    "Create a title based on the titles of existing episodes."
   ]
  },
  {
   "cell_type": "code",
   "execution_count": 8,
   "id": "c8d722b6",
   "metadata": {},
   "outputs": [],
   "source": [
    "# Build the few-shot examples that will be in the few-shot prompt\n",
    "def make_single_example_title(title):\n",
    "    return f\"Generate a new made up Rick and Morty episode title:\\n{title}\"\n",
    "\n",
    "TITLE_FEW_SHOT_PREFIX = SEPARATOR.join(\n",
    "    make_single_example_title(title) for title in rnm_df_subset[\"Episode Title\"].tolist()\n",
    ")\n",
    "\n",
    "def create_title_fewshot_prompt():\n",
    "    \"\"\"\n",
    "    Create a few-shot prompt to generate episode titles\n",
    "    The few shot examples followed by a new query\n",
    "    \"\"\"\n",
    "    return TITLE_FEW_SHOT_PREFIX + SEPARATOR + make_single_example_title('')  # keep the title blank and let the model generate"
   ]
  },
  {
   "cell_type": "markdown",
   "id": "720b2fbb",
   "metadata": {},
   "source": [
    "Create a few-shot prompt for title generation and take a look at it"
   ]
  },
  {
   "cell_type": "code",
   "execution_count": 9,
   "id": "d8e3ac32",
   "metadata": {},
   "outputs": [
    {
     "name": "stdout",
     "output_type": "stream",
     "text": [
      "Generate a new made up Rick and Morty episode title:\n",
      "The Rickchurian Mortydate\n",
      "##\n",
      "Generate a new made up Rick and Morty episode title:\n",
      "The Whirly Dirly Conspiracy\n",
      "##\n",
      "Generate a new made up Rick and Morty episode title:\n",
      "Solaricks\n",
      "##\n",
      "Generate a new made up Rick and Morty episode title:\n",
      "Close Rick-counters of the Rick Kind\n",
      "##\n",
      "Generate a new made up Rick and Morty episode title:\n",
      "The ABC's of Beth\n",
      "##\n",
      "Generate a new made up Rick and Morty episode title:\n",
      "Look Who's Purging Now\n",
      "##\n",
      "Generate a new made up Rick and Morty episode title:\n",
      "Full Meta Jackrick\n",
      "##\n",
      "Generate a new made up Rick and Morty episode title:\n",
      "\n"
     ]
    }
   ],
   "source": [
    "prompt_title = create_title_fewshot_prompt()\n",
    "print(prompt_title)"
   ]
  },
  {
   "cell_type": "markdown",
   "id": "21db5804",
   "metadata": {},
   "source": [
    "#### Generation time! Send a request to AI21 Studio language model (here - Jurassic-2 Grande) and let it generate"
   ]
  },
  {
   "cell_type": "code",
   "execution_count": 12,
   "id": "a30c87dd",
   "metadata": {},
   "outputs": [
    {
     "name": "stdout",
     "output_type": "stream",
     "text": [
      "Rickmancing the Stone\n"
     ]
    }
   ],
   "source": [
    "response = ai21.Completion.execute(model=\"j2-grande\",\n",
    "                                   prompt=prompt_title,\n",
    "                                   maxTokens=20,\n",
    "                                   stopSequences=[SEPARATOR],\n",
    "                                   temperature=0.7\n",
    "                                  )\n",
    "\n",
    "generated_title = response['completions'][0]['data']['text']\n",
    "print(generated_title)"
   ]
  },
  {
   "cell_type": "markdown",
   "id": "cb586298",
   "metadata": {},
   "source": [
    "### Problem: In some cases, the model returns titles from real episodes!\n",
    "\n",
    "What is causing this? Since the model has been trained on Wikipedia, among other sources, it knows what episodes exist. Due to the fact that every example in the few-shot prompt corresponds to an actual episode, the model is biased towards creating real titles.\n",
    "\n",
    "### What can be done?\n",
    "\n",
    "Provide made-up examples to the model. Here are some titles we created for the prompt:"
   ]
  },
  {
   "cell_type": "code",
   "execution_count": 13,
   "id": "3545c87b",
   "metadata": {},
   "outputs": [],
   "source": [
    "made_up_titles = [\"Rickwarium Full of Mortfish\", \"Where Do The Ricks Play\", \"The Mortysburg Syndrome\", \"Where The Wild Mortys Go\", \"Outrickous\", \"Jerry\\'s Space Addiction\", \"Morty Christ Superstar\"]"
   ]
  },
  {
   "cell_type": "code",
   "execution_count": 14,
   "id": "0799a98b",
   "metadata": {},
   "outputs": [
    {
     "name": "stdout",
     "output_type": "stream",
     "text": [
      "Generate a new made up Rick and Morty episode title:\n",
      "Rickwarium Full of Mortfish\n",
      "##\n",
      "Generate a new made up Rick and Morty episode title:\n",
      "Where Do The Ricks Play\n",
      "##\n",
      "Generate a new made up Rick and Morty episode title:\n",
      "The Mortysburg Syndrome\n",
      "##\n",
      "Generate a new made up Rick and Morty episode title:\n",
      "Where The Wild Mortys Go\n",
      "##\n",
      "Generate a new made up Rick and Morty episode title:\n",
      "Outrickous\n",
      "##\n",
      "Generate a new made up Rick and Morty episode title:\n",
      "Jerry's Space Addiction\n",
      "##\n",
      "Generate a new made up Rick and Morty episode title:\n",
      "Morty Christ Superstar\n",
      "##\n",
      "Generate a new made up Rick and Morty episode title:\n",
      "\n"
     ]
    }
   ],
   "source": [
    "TITLE_FEW_SHOT_PREFIX = SEPARATOR.join(\n",
    "    make_single_example_title(title) for title in made_up_titles\n",
    ")\n",
    "\n",
    "prompt_title = create_title_fewshot_prompt()\n",
    "print(prompt_title)"
   ]
  },
  {
   "cell_type": "code",
   "execution_count": 17,
   "id": "2a50ffcd",
   "metadata": {},
   "outputs": [
    {
     "name": "stdout",
     "output_type": "stream",
     "text": [
      "A Mortyman on the Loose\n"
     ]
    }
   ],
   "source": [
    "response = ai21.Completion.execute(model=\"j2-grande\",\n",
    "                                   prompt=prompt_title,\n",
    "                                   maxTokens=20,\n",
    "                                   stopSequences=[SEPARATOR],\n",
    "                                   temperature=0.7\n",
    "                                  )\n",
    "\n",
    "generated_title = response['completions'][0]['data']['text']\n",
    "print(generated_title)"
   ]
  },
  {
   "cell_type": "markdown",
   "id": "fee212ef",
   "metadata": {},
   "source": [
    "## Episode generator"
   ]
  },
  {
   "cell_type": "markdown",
   "id": "5c0f1f31",
   "metadata": {},
   "source": [
    "Produce a summary of the made-up episode based on the title and existing episode summaries.\n",
    "\n",
    "Here are the functions we will use:\n",
    "\n",
    "- Make a prompt based on the title.\n",
    "- Create an example that includes a prompt-completion pair.\n",
    "- Build a prefix of a few examples for the prompt.\n",
    "- Combining the prefix of examples and a new title query, create a few-shot prompt."
   ]
  },
  {
   "cell_type": "code",
   "execution_count": 18,
   "id": "08b93d9f",
   "metadata": {},
   "outputs": [],
   "source": [
    "# Build the few-shot examples that will be in the few-shot prompt\n",
    "\n",
    "def create_prompt_for_summary(title):\n",
    "    prompt = \"Generate a Rick and Morty episode based on the title.\\n\"\n",
    "    prompt += \"Title: \"\n",
    "    prompt += title\n",
    "    prompt += \"\\n\"\n",
    "    prompt += \"Episode:\\n\"\n",
    "    \n",
    "    return prompt\n",
    "\n",
    "\n",
    "def make_single_example_summary(title, summary):\n",
    "    example = create_prompt_for_summary(title)\n",
    "    example += summary\n",
    "    \n",
    "    return example\n",
    "\n",
    "\n",
    "SUMMARY_FEW_SHOT_PREFIX = SEPARATOR.join(\n",
    "    rnm_df_subset.apply(lambda x: make_single_example_summary(x[\"Episode Title\"], x[\"Episode Summary\"]), axis=1)\n",
    ")"
   ]
  },
  {
   "cell_type": "code",
   "execution_count": 19,
   "id": "c33eb15a",
   "metadata": {},
   "outputs": [],
   "source": [
    "def create_summary_fewshot_prompt(title):\n",
    "    \"\"\"\n",
    "    Create a few-shot prompt to generate an episode summary\n",
    "    The few shot examples followed by a new query\n",
    "    \"\"\"\n",
    "    return SUMMARY_FEW_SHOT_PREFIX + SEPARATOR + create_prompt_for_summary(title)"
   ]
  },
  {
   "cell_type": "markdown",
   "id": "9d7d948c",
   "metadata": {},
   "source": [
    "Create a few-shot prompt for episode summary generation and take a look at it"
   ]
  },
  {
   "cell_type": "code",
   "execution_count": 20,
   "id": "dfe50f1b",
   "metadata": {},
   "outputs": [
    {
     "name": "stdout",
     "output_type": "stream",
     "text": [
      "Generate a Rick and Morty episode based on the title.\n",
      "Title: The Rickchurian Mortydate\n",
      "Episode:\n",
      "The President calls on Rick and Morty to defeat a monster in the tunnels underneath the White House, which they do with little effort. Annoyed that he constantly calls on them without any gratitude, they go back home to play Minecraft, with the President quickly finding out. The resulting argument leads to a battle of egos that culminates in a fight in the White House between Rick and the President's security. Meanwhile, fearing she might be a clone made by Rick, Beth reunites with Jerry to figure out the truth. Shortly after, the entire family gets together to hide from Rick, but he tracks them down. Rick eventually submits to Jerry once again being a family member. Rick ends his conflict with the President by pretending to be Fly Fishing Rick, a Rick from a different reality, and calling a truce. The episode ends with the family happy to be together again, except for Rick who is disappointed about losing his dominant position.\n",
      "##\n",
      "Generate a Rick and Morty episode based on the title.\n",
      "Title: The Whirly Dirly Conspiracy\n",
      "Episode:\n",
      "To bolster Jerry's self-esteem, Rick takes him on an adventure at Morty's request. They visit an otherworldly resort within an immortality field so Jerry won't be harmed while away. Jerry encounters Risotto Groupon, an alien who blames Rick for his kingdom being usurped. Risotto enlists Jerry in a plot to kill Rick, but Jerry backs out after Rick apologizes for ruining his marriage. The attempt fails, and Rick realizes Jerry's involvement, sparking a monologue of him accusing Jerry of deliberately acting helpless to guilt others into helping him, such as making Beth feel she was obligated to marry him. After Rick kills Risotto, he softens his attitude towards Jerry, but refuses to allow him to return to the family. Meanwhile, Summer deals with self-esteem issues as well. Her boyfriend, Ethan, leaves her for a larger-breasted girlfriend, and Summer attempts to enlarge her own breasts using one of Rick's devices. Her aim is off, and she grows to bizarre proportions. Morty wants to call Rick for assistance, but Beth refuses. Arrogantly trying to prove her own self-worth, Beth repeatedly fails to fix the problem and ends up turning Summer inside-out. Beth is then tricked into releasing three tiny technical support workers that were trapped inside the machine when she calls for tech support. Summer disappears to the campsite she and Ethan were supposed to go, still inside out. Beth turns herself inside out and talks to Summer. Once Morty figures out how the machine works, he restores Summer's size and spitefully uses it to deform Ethan in an act of vengeance.\n",
      "##\n",
      "Generate a Rick and Morty episode based on the title.\n",
      "Title: Solaricks\n",
      "Episode:\n",
      "Saved from the Citadel ruins by Space Beth, Rick attempts to reset the settings on his portal gun, but accidentally sends everyone who has traveled interdimensionally to their original dimensions. Morty returns to Cronenberg World from \"Rick Potion #9\", Jerry swaps places with \"Season Two Jerry\" because of the events of \"Mortynight Run\", and Rick is transported to his original universe where his wife Diane and his Beth were killed by Rick Prime,[2] who is Morty's true grandfather. As Summer and both Beths travel back to the Citadel to establish an interdimensional beacon, Rick learns that Rick Prime was also transported by the reset. The original Jerry tells Morty that his Beth and Summer did not survive being frozen in \"The Rickshank Rickdemption\"[a]. Jerry abandons Morty in order to move on. Rick rescues Morty and takes him to confront Rick Prime but finds an elaborate trap. Morty convinces him to save the rest of the family instead. However, once the family picks up Jerry and returns home, they are confronted by Season Two Jerry, who releases an alien named Mr. Frundles that rapidly replicates and forces the family to relocate to a replacement dimension where their counterparts all died.\n",
      "##\n",
      "Generate a Rick and Morty episode based on the title.\n",
      "Title: Close Rick-counters of the Rick Kind\n",
      "Episode:\n",
      "The show's original Rick is wrongfully accused of murdering twenty-seven Ricks from alternate dimensions and kidnapping their respective Mortys. The Trans-Dimensional Council of Ricks arrests him and finds him guilty, upon discovering incriminating evidence which was actually fabricated to frame him. Rick and Morty escape and are chased by a few duplicates of themselves. The Smith household is flooded with other Ricks and Jerry develops a friendship with the good-natured \"Doofus Rick\". The real culprits seem to be an \"Evil\" Rick and his Evil Morty, who have been using Mortys' low intelligence brainwaves as a way to conceal themselves. They capture the original Rick and Morty, but the original Morty leads a rebellion of alternate Mortys and releases the original Rick. Rick informs the Council about the real killer, thus clearing his own name. After Rick and Morty depart, the Council discovers that Evil Rick was actually under control by an unknown puppet-master, which was Evil Morty all along. Evil Morty escapes by blending into the crowd of Mortys without a Rick.\n",
      "##\n",
      "Generate a Rick and Morty episode based on the title.\n",
      "Title: The ABC's of Beth\n",
      "Episode:\n",
      "Rick and Beth enter Froopyland, a fantasy world created by Rick for young Beth. Their goal is to recover Tommy, Beth's childhood friend who has been trapped in Froopyland, and prevent the execution of his father, who is being falsely accused of eating him. Tommy, who has survived all these years by resorting to bestiality, incest and cannibalism, refuses to return to the real world. Rick and Beth manage to save his father's life by creating a clone of Tommy. Back at home, Beth is presented with the option of having a replacement clone of her created, so that she will be free to travel the world. Meanwhile, Jerry dates an alien hunter named Kiara, to Morty and Summer's dismay. When he decides to get out of the relationship, Kiara is enraged and tries to kill the kids, whom she holds responsible. The situation is resolved following the revelation that Kiara was using Jerry to get over her previous boyfriend, much like Jerry was doing with her.\n",
      "##\n",
      "Generate a Rick and Morty episode based on the title.\n",
      "Title: Look Who's Purging Now\n",
      "Episode:\n",
      "Rick and Morty visit another planet to purchase wiper fluid and witness \"The Festival\", an annual event where the local populace commits crimes for one night without consequence. After initial hesitation, Morty forces Rick to rescue Arthricia, a young alien girl, who proceeds to betray them, stealing Rick's gun and spaceship. Rick calls Summer, who transports them advanced armor suits. Morty then goes on a seemingly uncharacteristic killing spree before Rick knocks him out, and he and Arthricia—who desired to stop the Festival—storm the castle of the corrupt nobility who introduced it, slaughtering them. The planet's remaining inhabitants decide to create a new society; however, rioting breaks out over disputes, and one suggests keeping the Festival after all. Morty feels guilt over his rampage, but Rick (falsely) blames it on the effects of a candy bar he ate, and asserts that his character remains unchanged.\n",
      "##\n",
      "Generate a Rick and Morty episode based on the title.\n",
      "Title: Full Meta Jackrick\n",
      "Episode:\n",
      "After venturing beyond the fourth wall into the meta where all fictional characters exist, Rick and Morty fall into a trap set by Story Lord from \"Never Ricking Morty\". Story Lord steals Rick's device which allows him to travel to the real world and seek out his creator, Jan. Meanwhile, Rick and Morty, seeking a way back to the real world, infiltrate the fortress of the \"Self-Referential Six\", a group of \"meta nerds\" who all have reality-warping powers based on narrative techniques and devices (such as plot twists and continuity errors), but are attacked by the group and forced to flee back into the meta. They are rescued by Joseph Campbell, who assists them in creating a device to return to the real world to confront Story Lord. Jan and Story Lord have created a machine capable of siphoning motivation from the universe's inhabitants to fuel Story Lord's own \"motivation.\" Morty, with the assistance of a spectral Campbell, convinces Jan to stop operating the machine, depowering Story Lord and allowing Rick to defeat him. At Morty's and Campbell's prompting, Jan kills Story Lord. After Rick and Morty depart, he becomes inspired to continue writing, much to the spectral Campbell's dismay.\n",
      "##\n",
      "Generate a Rick and Morty episode based on the title.\n",
      "Title: A Mortyman on the Loose\n",
      "Episode:\n",
      "\n"
     ]
    }
   ],
   "source": [
    "prompt_summary = create_summary_fewshot_prompt(generated_title)\n",
    "print(prompt_summary)"
   ]
  },
  {
   "cell_type": "markdown",
   "id": "4acb8891",
   "metadata": {},
   "source": [
    "#### Generation time! Send a request to AI21 Studio language model (here - Jurassic-1 Grande) and let it generate"
   ]
  },
  {
   "cell_type": "code",
   "execution_count": 21,
   "id": "8bcc7caf",
   "metadata": {},
   "outputs": [
    {
     "name": "stdout",
     "output_type": "stream",
     "text": [
      "Title: A Mortyman on the Loose\n",
      "----------------\n",
      "Summary: Morty finds an alien cockroach living in Jerry's toilet, and decides to keep it as a pet. The alien, named Mr. Meeseeks, promises to do whatever Morty wants, and follows through with his requests. Morty asks him to search for a portal gun, and, after Meeseeks finds it, the cockroach continuously uses it to travel around the universe and fulfill more tasks. Rick and Morty have adventures in alternate dimensions, including a world where Rick is worshiped as a god, and one in which Morty is the dominant species. Morty becomes addicted to having Meeseeks fulfill his wishes, to the neglect of his family. He eventually has Meeseeks build him a portal gun, but realizes how horrible it is to be worshiped as a god and destroys the portal. Meeseeks asks Rick to destroy him, but Rick refuses, leaving Meeseeks trapped on the Smiths' bathroom floor. Morty finally realizes how obsessed and pathetic he is, and begs Meeseeks to kill him. Meeseeks agrees, but first takes Morty to a world where the citizens of the Galactic Federation have invited him to a palace. Meeseeks reveals that he is actually a god-like being from another universe, and explains that he has come to Earth as part of a greater plan. He sends Morty back to Earth, but Morty's family, believing that Morty has returned as a hero, celebrates his birthday. Meeseeks is unable to find Morty, and disappears in frustration.\n"
     ]
    }
   ],
   "source": [
    "response = ai21.Completion.execute(model=\"j2-grande\",\n",
    "                                   prompt=prompt_summary,\n",
    "                                   maxTokens=300,\n",
    "                                   stopSequences=[SEPARATOR],\n",
    "                                   temperature=0.7\n",
    "                                  )\n",
    "\n",
    "generated_summary = response['completions'][0]['data']['text']\n",
    "print(f\"Title: {generated_title}\")\n",
    "print(\"----------------\")\n",
    "print(f\"Summary: {generated_summary}\")"
   ]
  },
  {
   "cell_type": "markdown",
   "id": "b4c7166c",
   "metadata": {},
   "source": [
    "#### Tangent - use task-specific model"
   ]
  },
  {
   "cell_type": "code",
   "execution_count": 23,
   "id": "1ed21845",
   "metadata": {},
   "outputs": [
    {
     "name": "stdout",
     "output_type": "stream",
     "text": [
      "Morty keeps an alien cockroach named Mr. Meeseeks as a pet, and asks him to search for a portal gun.\n",
      "Rick and Morty have adventures in alternate dimensions, including one where Rick is worshiped as a god and one in which Morty is the dominant species. Morty becomes addicted to having Meeseeks fulfill his wishes, but Meeseeks eventually destroys the portal gun and disappears in frustration.\n"
     ]
    }
   ],
   "source": [
    "summary_summarize = ai21.Summarize.execute(\n",
    "    source=generated_summary,\n",
    "    sourceType='TEXT')\n",
    "\n",
    "print(summary_summarize.summary)"
   ]
  },
  {
   "cell_type": "markdown",
   "id": "fb8724f2",
   "metadata": {},
   "source": [
    "## Post-credit scene generator"
   ]
  },
  {
   "cell_type": "markdown",
   "id": "3af6bdd7",
   "metadata": {},
   "source": [
    "Produce a post-credits scene of the made-up episode based on the generated title and summary, and existing episodes post-credits scenes.\n",
    "\n",
    "We will use a similar process to the summary generation."
   ]
  },
  {
   "cell_type": "code",
   "execution_count": 24,
   "id": "ef5bc3a7",
   "metadata": {},
   "outputs": [],
   "source": [
    "# Build the few-shot examples that will be in the few-shot prompt\n",
    "def create_prompt_for_postscene(title, summary):\n",
    "    prompt = \"Generate a Post-credits scene for the following Rick and Morty episode based on the title and summary.\\n\"\n",
    "    prompt += \"Title: \"\n",
    "    prompt += title\n",
    "    prompt += \"\\n\"\n",
    "    prompt += \"Summary:\\n\"\n",
    "    prompt += summary\n",
    "    prompt += \"\\n\"\n",
    "    prompt += \"Post-credits scene:\\n\"\n",
    "    \n",
    "    return prompt\n",
    "\n",
    "\n",
    "def make_single_example_post(title, summary, post_credit):   \n",
    "    example = create_prompt_for_postscene(title=title, summary=summary)\n",
    "    example += post_credit\n",
    "    \n",
    "    return example\n",
    "\n",
    "\n",
    "POST_FEW_SHOT_PREFIX = SEPARATOR.join(\n",
    "    rnm_df_subset.apply(lambda x: make_single_example_post(x[\"Episode Title\"], x[\"Episode Summary\"], x[\"Post-Credits Scene Summary\"]), axis=1)\n",
    ")"
   ]
  },
  {
   "cell_type": "code",
   "execution_count": 25,
   "id": "2ac9ce0c",
   "metadata": {},
   "outputs": [],
   "source": [
    "def create_post_credit_fewshot_prompt(title, summary):\n",
    "    \"\"\"\n",
    "    Create a few-shot prompt to generate an episode post-credits scene\n",
    "    The few shot examples followed by a new query\n",
    "    \"\"\"\n",
    "    return POST_FEW_SHOT_PREFIX + SEPARATOR + create_prompt_for_postscene(title, summary)"
   ]
  },
  {
   "cell_type": "markdown",
   "id": "57f673bf",
   "metadata": {},
   "source": [
    "Create a few-shot prompt for post-credits scene generation and take a look at it"
   ]
  },
  {
   "cell_type": "code",
   "execution_count": 26,
   "id": "19943c12",
   "metadata": {},
   "outputs": [
    {
     "name": "stdout",
     "output_type": "stream",
     "text": [
      "Generate a Post-credits scene for the following Rick and Morty episode based on the title and summary.\n",
      "Title: The Rickchurian Mortydate\n",
      "Summary:\n",
      "The President calls on Rick and Morty to defeat a monster in the tunnels underneath the White House, which they do with little effort. Annoyed that he constantly calls on them without any gratitude, they go back home to play Minecraft, with the President quickly finding out. The resulting argument leads to a battle of egos that culminates in a fight in the White House between Rick and the President's security. Meanwhile, fearing she might be a clone made by Rick, Beth reunites with Jerry to figure out the truth. Shortly after, the entire family gets together to hide from Rick, but he tracks them down. Rick eventually submits to Jerry once again being a family member. Rick ends his conflict with the President by pretending to be Fly Fishing Rick, a Rick from a different reality, and calling a truce. The episode ends with the family happy to be together again, except for Rick who is disappointed about losing his dominant position.\n",
      "Post-credits scene:\n",
      "Mr. Poopybutthole returns to apologize for not appearing in Season 3, but he has gotten married and has a wife and son. He ends the scene by saying that it will be a long wait until Season 4.\n",
      "##\n",
      "Generate a Post-credits scene for the following Rick and Morty episode based on the title and summary.\n",
      "Title: The Whirly Dirly Conspiracy\n",
      "Summary:\n",
      "To bolster Jerry's self-esteem, Rick takes him on an adventure at Morty's request. They visit an otherworldly resort within an immortality field so Jerry won't be harmed while away. Jerry encounters Risotto Groupon, an alien who blames Rick for his kingdom being usurped. Risotto enlists Jerry in a plot to kill Rick, but Jerry backs out after Rick apologizes for ruining his marriage. The attempt fails, and Rick realizes Jerry's involvement, sparking a monologue of him accusing Jerry of deliberately acting helpless to guilt others into helping him, such as making Beth feel she was obligated to marry him. After Rick kills Risotto, he softens his attitude towards Jerry, but refuses to allow him to return to the family. Meanwhile, Summer deals with self-esteem issues as well. Her boyfriend, Ethan, leaves her for a larger-breasted girlfriend, and Summer attempts to enlarge her own breasts using one of Rick's devices. Her aim is off, and she grows to bizarre proportions. Morty wants to call Rick for assistance, but Beth refuses. Arrogantly trying to prove her own self-worth, Beth repeatedly fails to fix the problem and ends up turning Summer inside-out. Beth is then tricked into releasing three tiny technical support workers that were trapped inside the machine when she calls for tech support. Summer disappears to the campsite she and Ethan were supposed to go, still inside out. Beth turns herself inside out and talks to Summer. Once Morty figures out how the machine works, he restores Summer's size and spitefully uses it to deform Ethan in an act of vengeance.\n",
      "Post-credits scene:\n",
      "The three tiny workers are enjoying their retirement next to a river. As an extremely deformed Ethan walks by, one of them is snatched by an eagle.\n",
      "##\n",
      "Generate a Post-credits scene for the following Rick and Morty episode based on the title and summary.\n",
      "Title: Solaricks\n",
      "Summary:\n",
      "Saved from the Citadel ruins by Space Beth, Rick attempts to reset the settings on his portal gun, but accidentally sends everyone who has traveled interdimensionally to their original dimensions. Morty returns to Cronenberg World from \"Rick Potion #9\", Jerry swaps places with \"Season Two Jerry\" because of the events of \"Mortynight Run\", and Rick is transported to his original universe where his wife Diane and his Beth were killed by Rick Prime,[2] who is Morty's true grandfather. As Summer and both Beths travel back to the Citadel to establish an interdimensional beacon, Rick learns that Rick Prime was also transported by the reset. The original Jerry tells Morty that his Beth and Summer did not survive being frozen in \"The Rickshank Rickdemption\"[a]. Jerry abandons Morty in order to move on. Rick rescues Morty and takes him to confront Rick Prime but finds an elaborate trap. Morty convinces him to save the rest of the family instead. However, once the family picks up Jerry and returns home, they are confronted by Season Two Jerry, who releases an alien named Mr. Frundles that rapidly replicates and forces the family to relocate to a replacement dimension where their counterparts all died.\n",
      "Post-credits scene:\n",
      "Rick Prime lands back on Cronenberg World, where he kills Jerry Prime after rejecting an offer to team up to hunt down Rick and Morty.\n",
      "##\n",
      "Generate a Post-credits scene for the following Rick and Morty episode based on the title and summary.\n",
      "Title: Close Rick-counters of the Rick Kind\n",
      "Summary:\n",
      "The show's original Rick is wrongfully accused of murdering twenty-seven Ricks from alternate dimensions and kidnapping their respective Mortys. The Trans-Dimensional Council of Ricks arrests him and finds him guilty, upon discovering incriminating evidence which was actually fabricated to frame him. Rick and Morty escape and are chased by a few duplicates of themselves. The Smith household is flooded with other Ricks and Jerry develops a friendship with the good-natured \"Doofus Rick\". The real culprits seem to be an \"Evil\" Rick and his Evil Morty, who have been using Mortys' low intelligence brainwaves as a way to conceal themselves. They capture the original Rick and Morty, but the original Morty leads a rebellion of alternate Mortys and releases the original Rick. Rick informs the Council about the real killer, thus clearing his own name. After Rick and Morty depart, the Council discovers that Evil Rick was actually under control by an unknown puppet-master, which was Evil Morty all along. Evil Morty escapes by blending into the crowd of Mortys without a Rick.\n",
      "Post-credits scene:\n",
      "Jerry waves at Doofus Rick from the window, prompting Rick to make fun of him.\n",
      "##\n",
      "Generate a Post-credits scene for the following Rick and Morty episode based on the title and summary.\n",
      "Title: The ABC's of Beth\n",
      "Summary:\n",
      "Rick and Beth enter Froopyland, a fantasy world created by Rick for young Beth. Their goal is to recover Tommy, Beth's childhood friend who has been trapped in Froopyland, and prevent the execution of his father, who is being falsely accused of eating him. Tommy, who has survived all these years by resorting to bestiality, incest and cannibalism, refuses to return to the real world. Rick and Beth manage to save his father's life by creating a clone of Tommy. Back at home, Beth is presented with the option of having a replacement clone of her created, so that she will be free to travel the world. Meanwhile, Jerry dates an alien hunter named Kiara, to Morty and Summer's dismay. When he decides to get out of the relationship, Kiara is enraged and tries to kill the kids, whom she holds responsible. The situation is resolved following the revelation that Kiara was using Jerry to get over her previous boyfriend, much like Jerry was doing with her.\n",
      "Post-credits scene:\n",
      "Jerry's answering machine plays messages warning him that Kiara's boyfriend is coming to kill him, and Rick saying that he has killed Kiara's boyfriend, but also had sex with her.\n",
      "##\n",
      "Generate a Post-credits scene for the following Rick and Morty episode based on the title and summary.\n",
      "Title: Look Who's Purging Now\n",
      "Summary:\n",
      "Rick and Morty visit another planet to purchase wiper fluid and witness \"The Festival\", an annual event where the local populace commits crimes for one night without consequence. After initial hesitation, Morty forces Rick to rescue Arthricia, a young alien girl, who proceeds to betray them, stealing Rick's gun and spaceship. Rick calls Summer, who transports them advanced armor suits. Morty then goes on a seemingly uncharacteristic killing spree before Rick knocks him out, and he and Arthricia—who desired to stop the Festival—storm the castle of the corrupt nobility who introduced it, slaughtering them. The planet's remaining inhabitants decide to create a new society; however, rioting breaks out over disputes, and one suggests keeping the Festival after all. Morty feels guilt over his rampage, but Rick (falsely) blames it on the effects of a candy bar he ate, and asserts that his character remains unchanged.\n",
      "Post-credits scene:\n",
      "Beth discovers that Jerry wasted $700 calling Taddy Mason, who charges money just to talk on the phone.\n",
      "##\n",
      "Generate a Post-credits scene for the following Rick and Morty episode based on the title and summary.\n",
      "Title: Full Meta Jackrick\n",
      "Summary:\n",
      "After venturing beyond the fourth wall into the meta where all fictional characters exist, Rick and Morty fall into a trap set by Story Lord from \"Never Ricking Morty\". Story Lord steals Rick's device which allows him to travel to the real world and seek out his creator, Jan. Meanwhile, Rick and Morty, seeking a way back to the real world, infiltrate the fortress of the \"Self-Referential Six\", a group of \"meta nerds\" who all have reality-warping powers based on narrative techniques and devices (such as plot twists and continuity errors), but are attacked by the group and forced to flee back into the meta. They are rescued by Joseph Campbell, who assists them in creating a device to return to the real world to confront Story Lord. Jan and Story Lord have created a machine capable of siphoning motivation from the universe's inhabitants to fuel Story Lord's own \"motivation.\" Morty, with the assistance of a spectral Campbell, convinces Jan to stop operating the machine, depowering Story Lord and allowing Rick to defeat him. At Morty's and Campbell's prompting, Jan kills Story Lord. After Rick and Morty depart, he becomes inspired to continue writing, much to the spectral Campbell's dismay.\n",
      "Post-credits scene:\n",
      "An enormous, cheerful creature named \"Tag-Man\" fights multiple aliens, police officers, soldiers, and businessmen while yelling about himself.\n",
      "##\n",
      "Generate a Post-credits scene for the following Rick and Morty episode based on the title and summary.\n",
      "Title: A Mortyman on the Loose\n",
      "Summary:\n",
      "Morty finds an alien cockroach living in Jerry's toilet, and decides to keep it as a pet. The alien, named Mr. Meeseeks, promises to do whatever Morty wants, and follows through with his requests. Morty asks him to search for a portal gun, and, after Meeseeks finds it, the cockroach continuously uses it to travel around the universe and fulfill more tasks. Rick and Morty have adventures in alternate dimensions, including a world where Rick is worshiped as a god, and one in which Morty is the dominant species. Morty becomes addicted to having Meeseeks fulfill his wishes, to the neglect of his family. He eventually has Meeseeks build him a portal gun, but realizes how horrible it is to be worshiped as a god and destroys the portal. Meeseeks asks Rick to destroy him, but Rick refuses, leaving Meeseeks trapped on the Smiths' bathroom floor. Morty finally realizes how obsessed and pathetic he is, and begs Meeseeks to kill him. Meeseeks agrees, but first takes Morty to a world where the citizens of the Galactic Federation have invited him to a palace. Meeseeks reveals that he is actually a god-like being from another universe, and explains that he has come to Earth as part of a greater plan. He sends Morty back to Earth, but Morty's family, believing that Morty has returned as a hero, celebrates his birthday. Meeseeks is unable to find Morty, and disappears in frustration.\n",
      "Post-credits scene:\n",
      "\n"
     ]
    }
   ],
   "source": [
    "prompt_postscene = create_post_credit_fewshot_prompt(generated_title, generated_summary)\n",
    "print(prompt_postscene)"
   ]
  },
  {
   "cell_type": "markdown",
   "id": "c6bd5e1d",
   "metadata": {},
   "source": [
    "#### Generation time! Send a request to AI21 Studio language model (here - Jurassic-1 Grande) and let it generate"
   ]
  },
  {
   "cell_type": "code",
   "execution_count": 27,
   "id": "9d892459",
   "metadata": {},
   "outputs": [
    {
     "name": "stdout",
     "output_type": "stream",
     "text": [
      "Title: A Mortyman on the Loose\n",
      "----------------\n",
      "Summary: Morty finds an alien cockroach living in Jerry's toilet, and decides to keep it as a pet. The alien, named Mr. Meeseeks, promises to do whatever Morty wants, and follows through with his requests. Morty asks him to search for a portal gun, and, after Meeseeks finds it, the cockroach continuously uses it to travel around the universe and fulfill more tasks. Rick and Morty have adventures in alternate dimensions, including a world where Rick is worshiped as a god, and one in which Morty is the dominant species. Morty becomes addicted to having Meeseeks fulfill his wishes, to the neglect of his family. He eventually has Meeseeks build him a portal gun, but realizes how horrible it is to be worshiped as a god and destroys the portal. Meeseeks asks Rick to destroy him, but Rick refuses, leaving Meeseeks trapped on the Smiths' bathroom floor. Morty finally realizes how obsessed and pathetic he is, and begs Meeseeks to kill him. Meeseeks agrees, but first takes Morty to a world where the citizens of the Galactic Federation have invited him to a palace. Meeseeks reveals that he is actually a god-like being from another universe, and explains that he has come to Earth as part of a greater plan. He sends Morty back to Earth, but Morty's family, believing that Morty has returned as a hero, celebrates his birthday. Meeseeks is unable to find Morty, and disappears in frustration.\n",
      "----------------\n",
      "Post-credits scene: Meeseeks, now floating through space, is met by another Meeseeks, who tells him that he is no longer alone, as they now have plenty of tasks to do.\n"
     ]
    }
   ],
   "source": [
    "response = ai21.Completion.execute(model=\"j2-grande\",\n",
    "                                   prompt=prompt_postscene,\n",
    "                                   maxTokens=100,\n",
    "                                   stopSequences=[SEPARATOR],\n",
    "                                   temperature=0.7\n",
    "                                  )\n",
    "\n",
    "generated_post_scene = response['completions'][0]['data']['text']\n",
    "print(f\"Title: {generated_title}\")\n",
    "print(\"----------------\")\n",
    "print(f\"Summary: {generated_summary}\")\n",
    "print(\"----------------\")\n",
    "print(f\"Post-credits scene: {generated_post_scene}\")"
   ]
  },
  {
   "cell_type": "markdown",
   "id": "f6c5b2a7",
   "metadata": {},
   "source": [
    "## Building a dataset"
   ]
  },
  {
   "cell_type": "markdown",
   "id": "9d3c81ae",
   "metadata": {},
   "source": [
    "You can build a dataset to train a [custom model](https://docs.ai21.com/docs/custom-models).\n",
    "Below we will build datasets based on the entire dataframe for both summary generation and post-credits scene generation."
   ]
  },
  {
   "cell_type": "code",
   "execution_count": 28,
   "id": "f3d3159b",
   "metadata": {},
   "outputs": [
    {
     "data": {
      "text/html": [
       "<div>\n",
       "<style scoped>\n",
       "    .dataframe tbody tr th:only-of-type {\n",
       "        vertical-align: middle;\n",
       "    }\n",
       "\n",
       "    .dataframe tbody tr th {\n",
       "        vertical-align: top;\n",
       "    }\n",
       "\n",
       "    .dataframe thead th {\n",
       "        text-align: right;\n",
       "    }\n",
       "</style>\n",
       "<table border=\"1\" class=\"dataframe\">\n",
       "  <thead>\n",
       "    <tr style=\"text-align: right;\">\n",
       "      <th></th>\n",
       "      <th>Season</th>\n",
       "      <th>Episode</th>\n",
       "      <th>Episode Title</th>\n",
       "      <th>Episode Summary</th>\n",
       "      <th>Post-Credits Scene Summary</th>\n",
       "    </tr>\n",
       "  </thead>\n",
       "  <tbody>\n",
       "    <tr>\n",
       "      <th>1</th>\n",
       "      <td>1</td>\n",
       "      <td>2</td>\n",
       "      <td>Lawnmower Dog</td>\n",
       "      <td>On Jerry's demand, Rick gives Snuffles, the fa...</td>\n",
       "      <td>Back in Scary Terry's class, the old teacher h...</td>\n",
       "    </tr>\n",
       "    <tr>\n",
       "      <th>2</th>\n",
       "      <td>1</td>\n",
       "      <td>3</td>\n",
       "      <td>Anatomy Park</td>\n",
       "      <td>On Christmas, Rick sends Morty inside the body...</td>\n",
       "      <td>Rick contacts Annie and her other new associat...</td>\n",
       "    </tr>\n",
       "    <tr>\n",
       "      <th>3</th>\n",
       "      <td>1</td>\n",
       "      <td>4</td>\n",
       "      <td>M. Night Shaym-Aliens!</td>\n",
       "      <td>Aliens hold Rick and Jerry captive in a virtua...</td>\n",
       "      <td>Jerry is fired on the spot after debuting his ...</td>\n",
       "    </tr>\n",
       "    <tr>\n",
       "      <th>4</th>\n",
       "      <td>1</td>\n",
       "      <td>5</td>\n",
       "      <td>Meeseeks and Destroy</td>\n",
       "      <td>After killing deadly enemies in an alternative...</td>\n",
       "      <td>Two villagers find a box of incriminating phot...</td>\n",
       "    </tr>\n",
       "    <tr>\n",
       "      <th>5</th>\n",
       "      <td>1</td>\n",
       "      <td>6</td>\n",
       "      <td>Rick Potion #9</td>\n",
       "      <td>Morty is interested in going to the dance at h...</td>\n",
       "      <td>Jerry, Beth and Summer are happy to stay toget...</td>\n",
       "    </tr>\n",
       "  </tbody>\n",
       "</table>\n",
       "</div>"
      ],
      "text/plain": [
       "   Season  Episode           Episode Title  \\\n",
       "1       1        2           Lawnmower Dog   \n",
       "2       1        3            Anatomy Park   \n",
       "3       1        4  M. Night Shaym-Aliens!   \n",
       "4       1        5    Meeseeks and Destroy   \n",
       "5       1        6          Rick Potion #9   \n",
       "\n",
       "                                     Episode Summary  \\\n",
       "1  On Jerry's demand, Rick gives Snuffles, the fa...   \n",
       "2  On Christmas, Rick sends Morty inside the body...   \n",
       "3  Aliens hold Rick and Jerry captive in a virtua...   \n",
       "4  After killing deadly enemies in an alternative...   \n",
       "5  Morty is interested in going to the dance at h...   \n",
       "\n",
       "                          Post-Credits Scene Summary  \n",
       "1  Back in Scary Terry's class, the old teacher h...  \n",
       "2  Rick contacts Annie and her other new associat...  \n",
       "3  Jerry is fired on the spot after debuting his ...  \n",
       "4  Two villagers find a box of incriminating phot...  \n",
       "5  Jerry, Beth and Summer are happy to stay toget...  "
      ]
     },
     "execution_count": 28,
     "metadata": {},
     "output_type": "execute_result"
    }
   ],
   "source": [
    "# Recall the dataframe\n",
    "rnm_df.head()"
   ]
  },
  {
   "cell_type": "code",
   "execution_count": 29,
   "id": "54ebf0fd",
   "metadata": {},
   "outputs": [],
   "source": [
    "# Build dataset for summary generation\n",
    "# Each dataset have 2 columns: prompt, completion\n",
    "custom_summary = pd.DataFrame(columns=[\"prompt\", \"completion\"])"
   ]
  },
  {
   "cell_type": "code",
   "execution_count": 30,
   "id": "7168983c",
   "metadata": {},
   "outputs": [],
   "source": [
    "custom_summary[\"prompt\"] = rnm_df.apply(lambda x: create_prompt_for_summary(x[\"Episode Title\"]), axis=1)\n",
    "custom_summary[\"completion\"] = rnm_df.apply(lambda x: x[\"Episode Summary\"], axis=1)"
   ]
  },
  {
   "cell_type": "code",
   "execution_count": 31,
   "id": "9e0f96de",
   "metadata": {},
   "outputs": [
    {
     "data": {
      "text/html": [
       "<div>\n",
       "<style scoped>\n",
       "    .dataframe tbody tr th:only-of-type {\n",
       "        vertical-align: middle;\n",
       "    }\n",
       "\n",
       "    .dataframe tbody tr th {\n",
       "        vertical-align: top;\n",
       "    }\n",
       "\n",
       "    .dataframe thead th {\n",
       "        text-align: right;\n",
       "    }\n",
       "</style>\n",
       "<table border=\"1\" class=\"dataframe\">\n",
       "  <thead>\n",
       "    <tr style=\"text-align: right;\">\n",
       "      <th></th>\n",
       "      <th>prompt</th>\n",
       "      <th>completion</th>\n",
       "    </tr>\n",
       "  </thead>\n",
       "  <tbody>\n",
       "    <tr>\n",
       "      <th>1</th>\n",
       "      <td>Generate a Rick and Morty episode based on the...</td>\n",
       "      <td>On Jerry's demand, Rick gives Snuffles, the fa...</td>\n",
       "    </tr>\n",
       "    <tr>\n",
       "      <th>2</th>\n",
       "      <td>Generate a Rick and Morty episode based on the...</td>\n",
       "      <td>On Christmas, Rick sends Morty inside the body...</td>\n",
       "    </tr>\n",
       "    <tr>\n",
       "      <th>3</th>\n",
       "      <td>Generate a Rick and Morty episode based on the...</td>\n",
       "      <td>Aliens hold Rick and Jerry captive in a virtua...</td>\n",
       "    </tr>\n",
       "    <tr>\n",
       "      <th>4</th>\n",
       "      <td>Generate a Rick and Morty episode based on the...</td>\n",
       "      <td>After killing deadly enemies in an alternative...</td>\n",
       "    </tr>\n",
       "    <tr>\n",
       "      <th>5</th>\n",
       "      <td>Generate a Rick and Morty episode based on the...</td>\n",
       "      <td>Morty is interested in going to the dance at h...</td>\n",
       "    </tr>\n",
       "  </tbody>\n",
       "</table>\n",
       "</div>"
      ],
      "text/plain": [
       "                                              prompt  \\\n",
       "1  Generate a Rick and Morty episode based on the...   \n",
       "2  Generate a Rick and Morty episode based on the...   \n",
       "3  Generate a Rick and Morty episode based on the...   \n",
       "4  Generate a Rick and Morty episode based on the...   \n",
       "5  Generate a Rick and Morty episode based on the...   \n",
       "\n",
       "                                          completion  \n",
       "1  On Jerry's demand, Rick gives Snuffles, the fa...  \n",
       "2  On Christmas, Rick sends Morty inside the body...  \n",
       "3  Aliens hold Rick and Jerry captive in a virtua...  \n",
       "4  After killing deadly enemies in an alternative...  \n",
       "5  Morty is interested in going to the dance at h...  "
      ]
     },
     "execution_count": 31,
     "metadata": {},
     "output_type": "execute_result"
    }
   ],
   "source": [
    "custom_summary.head()"
   ]
  },
  {
   "cell_type": "code",
   "execution_count": 32,
   "id": "5c442685",
   "metadata": {},
   "outputs": [],
   "source": [
    "custom_summary.to_csv(\"RnM_episodes.csv\")"
   ]
  },
  {
   "cell_type": "markdown",
   "id": "45fed023",
   "metadata": {},
   "source": [
    "### Dataset upload"
   ]
  },
  {
   "cell_type": "code",
   "execution_count": 34,
   "id": "9fa1da51",
   "metadata": {},
   "outputs": [],
   "source": [
    "resp = ai21.Dataset.upload(file_path=\"RnM_episodes.csv\", dataset_name='RnM_episodes')"
   ]
  },
  {
   "cell_type": "markdown",
   "id": "3760cd03",
   "metadata": {},
   "source": [
    "### Training a custom model\n",
    "In order to send a train request through the API, you need the dataset id\n",
    "For that, you can use the following function"
   ]
  },
  {
   "cell_type": "code",
   "execution_count": 35,
   "id": "933df38d",
   "metadata": {},
   "outputs": [],
   "source": [
    "def get_dataset_id(dataset_name):\n",
    "    result = ai21.Dataset.list()\n",
    "    dataset_idx = [r.datasetName for r in result].index(dataset_name)\n",
    "    dataset_id = [r.id for r in result][dataset_idx]\n",
    "    return dataset_id"
   ]
  },
  {
   "cell_type": "code",
   "execution_count": 36,
   "id": "b05c73c8",
   "metadata": {},
   "outputs": [],
   "source": [
    "dataset_id = get_dataset_id(dataset_name=\"RnM_episodes_new\")"
   ]
  },
  {
   "cell_type": "code",
   "execution_count": 37,
   "id": "3b19c049",
   "metadata": {},
   "outputs": [],
   "source": [
    "ai21.CustomModel.create(dataset_id=dataset_id, model_name='RnM_episodes_gen2', model_type='j2-grande')"
   ]
  },
  {
   "cell_type": "markdown",
   "id": "a08f0305",
   "metadata": {},
   "source": [
    "### Post scene dataset"
   ]
  },
  {
   "cell_type": "code",
   "execution_count": 31,
   "id": "f064e87d",
   "metadata": {},
   "outputs": [],
   "source": [
    "# Build dataset for post-credits scene generation\n",
    "# Each dataset have 2 columns: prompt, completion\n",
    "custom_postscene = pd.DataFrame(columns=[\"prompt\", \"completion\"])"
   ]
  },
  {
   "cell_type": "code",
   "execution_count": 32,
   "id": "cdc1a89e",
   "metadata": {},
   "outputs": [],
   "source": [
    "custom_postscene[\"prompt\"] = rnm_df.apply(lambda x: create_prompt_for_postscene(x[\"Episode Title\"], x[\"Episode Summary\"]), axis=1)\n",
    "custom_postscene[\"completion\"] = rnm_df.apply(lambda x: x[\"Post-Credits Scene Summary\"], axis=1)"
   ]
  },
  {
   "cell_type": "code",
   "execution_count": 33,
   "id": "78de556d",
   "metadata": {},
   "outputs": [],
   "source": [
    "custom_postscene.to_csv(\"RnM_postscene.csv\")"
   ]
  },
  {
   "cell_type": "markdown",
   "id": "4b49340d",
   "metadata": {},
   "source": [
    "### Dataset upload"
   ]
  },
  {
   "cell_type": "code",
   "execution_count": 34,
   "id": "ff51ac71",
   "metadata": {},
   "outputs": [],
   "source": [
    "ai21.Dataset.upload(file_path=\"RnM_postscene.csv\", dataset_name='RnM_postscene')"
   ]
  },
  {
   "cell_type": "markdown",
   "id": "e113c00f",
   "metadata": {},
   "source": [
    "### Training a custom model"
   ]
  },
  {
   "cell_type": "code",
   "execution_count": 35,
   "id": "0418917b",
   "metadata": {},
   "outputs": [],
   "source": [
    "dataset_id_post = get_dataset_id(dataset_name=\"RnM_postscene\")\n",
    "ai21.CustomModel.create(dataset_id=dataset_id_post, model_name='RnM_postscene_gen', model_type='j2-grande')"
   ]
  },
  {
   "cell_type": "markdown",
   "id": "d7d2d421",
   "metadata": {},
   "source": [
    "### Query a custom model"
   ]
  },
  {
   "cell_type": "markdown",
   "id": "8cb3430d",
   "metadata": {},
   "source": [
    "When querying a custom model, there's no need to use few-shot prompts"
   ]
  },
  {
   "cell_type": "code",
   "execution_count": 36,
   "id": "92e809f6",
   "metadata": {},
   "outputs": [
    {
     "name": "stdout",
     "output_type": "stream",
     "text": [
      "Generate a Rick and Morty episode based on the title.\n",
      "Title: Morty's Shave\n",
      "Episode:\n",
      "\n"
     ]
    }
   ],
   "source": [
    "custom_model_episode_prompt = create_prompt_for_summary(generated_title)\n",
    "print(custom_model_episode_prompt)"
   ]
  },
  {
   "cell_type": "code",
   "execution_count": 38,
   "id": "a339cbb2",
   "metadata": {},
   "outputs": [
    {
     "name": "stdout",
     "output_type": "stream",
     "text": [
      "Title: Morty's Shave\n",
      "----------------\n",
      "Summary: Morty and Summer are sent on a scavenger hunt by Rick and Smith. They run afoul of a clown who wants them to retrieve a \"shave\". Rick eventually reveals all he wants is for Morty and Summer to become \"more proactive.\" Back at Smith headquarters, Rick and Smith are revealed to be robots. The clown is revealed to be the creator of Rick and Smith, and after Rick and Smith tell him what he wants, he reprograms them. Rick and Smith then attempt to destroy Morty and Summer, but Smith is convinced by Morty to spare Summer's life. Rick and Smith are reprogrammed by Summer and Morty to become \"more proactive\". Summer and Morty are freed from their hypnosis and return home. Rick and Smith confront the clown, who reveals that, rather than destroying Rick and Smith, he was planning on using them to destroy the universe.\n"
     ]
    }
   ],
   "source": [
    "response = ai21.Completion.execute(model=\"j2-grande\",\n",
    "                                   custom_model=\"RnM_episodes_gen\",\n",
    "                                   prompt=custom_model_episode_prompt,\n",
    "                                   maxTokens=300,\n",
    "                                   stopSequences=[SEPARATOR],\n",
    "                                   temperature=0.7\n",
    "                                  )\n",
    "\n",
    "generated_summary = response['completions'][0]['data']['text']\n",
    "print(f\"Title: {generated_title}\")\n",
    "print(\"----------------\")\n",
    "print(f\"Summary: {generated_summary}\")"
   ]
  }
 ],
 "metadata": {
  "kernelspec": {
   "display_name": "Python 3 (ipykernel)",
   "language": "python",
   "name": "python3"
  },
  "language_info": {
   "codemirror_mode": {
    "name": "ipython",
    "version": 3
   },
   "file_extension": ".py",
   "mimetype": "text/x-python",
   "name": "python",
   "nbconvert_exporter": "python",
   "pygments_lexer": "ipython3",
   "version": "3.9.6"
  }
 },
 "nbformat": 4,
 "nbformat_minor": 5
}
