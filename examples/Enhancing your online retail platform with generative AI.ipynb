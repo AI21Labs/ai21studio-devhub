{
 "cells": [
  {
   "cell_type": "markdown",
   "id": "64d35357",
   "metadata": {},
   "source": [
    "# Enhancing your online retail platform with generative AI"
   ]
  },
  {
   "cell_type": "markdown",
   "id": "ae340500",
   "metadata": {},
   "source": [
    "The purpose of this notebook is to show how generative AI can be integrated into an existing platform, in this case, an online retail store. We will explore several ways to improve user experience and increase efficiency. We will use the Jurassic-2 large language models series, which offers you the maximal flexibility and customization to your data. We will also see instances where task-specific models, which don't require any prompting or tweaking, can be integrated into your system in minutes.\n",
    "\n",
    "Are you ready to get started?"
   ]
  },
  {
   "cell_type": "markdown",
   "id": "d1801500",
   "metadata": {},
   "source": [
    "## Imports and settings"
   ]
  },
  {
   "cell_type": "code",
   "execution_count": 1,
   "id": "6b238523",
   "metadata": {},
   "outputs": [],
   "source": [
    "import ai21\n",
    "import pandas as pd\n",
    "import requests"
   ]
  },
  {
   "cell_type": "markdown",
   "id": "f98bb5d4",
   "metadata": {},
   "source": [
    "### API key\n",
    "In order to run this notebook, you will need an API key for AI21 Studio. How can you get it?\n",
    "\n",
    "Create a free account at [AI21 Studio](https://studio.ai21.com). You can see your API key in the *Account* tab."
   ]
  },
  {
   "cell_type": "code",
   "execution_count": 2,
   "id": "7b97a1ed",
   "metadata": {},
   "outputs": [],
   "source": [
    "# TODO: fill in your API key from your AI21 Studio account\n",
    "YOUR_API_KEY = \"\"\n",
    "ai21.api_key = YOUR_API_KEY\n",
    "assert ai21.api_key != \"\", \"You must provide an API key!\""
   ]
  },
  {
   "cell_type": "markdown",
   "id": "79623912",
   "metadata": {},
   "source": [
    "## Generating product descriptions"
   ]
  },
  {
   "cell_type": "markdown",
   "id": "f19d41db",
   "metadata": {},
   "source": [
    "For this section in the notebook, we will apply the model to create a product description for an eCommerce site."
   ]
  },
  {
   "cell_type": "markdown",
   "id": "7642d0b5",
   "metadata": {},
   "source": [
    "### Prompting with instructions\n",
    "**Why**? This is the most natural way for humans to interact.\n",
    "\n",
    "**When?** Drafting, seeking for inspiration, or when the format and guidelines are \"work in progress\".\n",
    "\n",
    "**How?** Just provide an instruction."
   ]
  },
  {
   "cell_type": "code",
   "execution_count": 3,
   "id": "a2b48ad6",
   "metadata": {},
   "outputs": [],
   "source": [
    "instruction = \"\"\"Write an engaging product description for a clothing eCommerce site.\n",
    "Product: Humor Men's Graphic T-Shirt.\n",
    "Description:\n",
    "\"\"\""
   ]
  },
  {
   "cell_type": "code",
   "execution_count": 4,
   "id": "0e7cf6ac",
   "metadata": {},
   "outputs": [
    {
     "name": "stdout",
     "output_type": "stream",
     "text": [
      "This Humor Men's Graphic T-Shirt is perfect for anyone who wants to show their sense of humor. The shirt is made of high-quality materials and is comfortable to wear. It's also machine-washable, so it's easy to care for. The shirt comes in a variety of colors and sizes, so you're sure to find the perfect one for you.\n"
     ]
    }
   ],
   "source": [
    "response = ai21.Completion.execute(model=\"j2-jumbo-instruct\",\n",
    "                                   prompt=instruction,\n",
    "                                   maxTokens=100,\n",
    "                                   temperature=0,\n",
    "                                   numResults=1)\n",
    "\n",
    "print(response['completions'][0]['data']['text'])"
   ]
  },
  {
   "cell_type": "markdown",
   "id": "a28bb53c",
   "metadata": {},
   "source": [
    "#### Adjust the parameters"
   ]
  },
  {
   "cell_type": "markdown",
   "id": "25b11253",
   "metadata": {},
   "source": [
    "A useful parameter is the temperature. You can increase creativity by tweaking the temperature. With temperature 0, the model will always choose the most probable completion, so it will always be the same. Increasing the temperature will provide varying completions, where the completion may be different with every generation. We recommend starting with a value of 0.7."
   ]
  },
  {
   "cell_type": "code",
   "execution_count": 5,
   "id": "2c91994c",
   "metadata": {},
   "outputs": [
    {
     "name": "stdout",
     "output_type": "stream",
     "text": [
      "Our Humor Men's Graphic T-Shirt is a fun and unique way to show your sense of humor! This shirt features a bold, colorful design that is sure to turn heads. Whether you're wearing it to a party or just running errands, this shirt is sure to start a conversation.\n",
      "=============\n",
      "This Humor Men's Graphic T-Shirt is a fun way to show your personality. The shirt features a unique graphic on the front, and is made of soft and comfortable material. It's perfect for everyday wear or as a special gift for a loved one.\n",
      "=============\n",
      "This t-shirt is the perfect shirt for anyone who wants to show their love for humor. The shirt features a funny design that is sure to get laughs, and is made from high-quality materials that will last. It's the perfect gift for a friend or family member who loves to laugh.\n",
      "=============\n"
     ]
    }
   ],
   "source": [
    "response = ai21.Completion.execute(model=\"j2-jumbo-instruct\",\n",
    "                                   prompt=instruction,\n",
    "                                   maxTokens=100,\n",
    "                                   temperature=0.7,\n",
    "                                   numResults=3) # this will make the model generate 3 optional completions\n",
    "\n",
    "for comp in response['completions']:\n",
    "    print(comp['data']['text'].strip())\n",
    "    print(\"=============\")"
   ]
  },
  {
   "cell_type": "markdown",
   "id": "7a7add9e",
   "metadata": {},
   "source": [
    "#### Personalize your prompt"
   ]
  },
  {
   "cell_type": "markdown",
   "id": "ab7fe7d9",
   "metadata": {},
   "source": [
    "The model can generate clever descriptions based on an instruction, but these descriptions may not be aligned with your actual product. If you have special features, ask the model to include them:"
   ]
  },
  {
   "cell_type": "code",
   "execution_count": 6,
   "id": "5725d833",
   "metadata": {},
   "outputs": [
    {
     "name": "stdout",
     "output_type": "stream",
     "text": [
      "This Humor Men's Graphic T-Shirt is the perfect way to show your sense of humor. The soft cotton and short sleeve make it comfortable to wear, while the print of Einstein's quote is eye-catching and thought-provoking. Whether you're dressing up or dressing down, this shirt is sure to start a conversation.\n",
      "=============\n",
      "The Humor Men's Graphic T-Shirt is the perfect shirt for anyone who wants to add a bit of humor to their wardrobe. Made from soft cotton, this shirt is comfortable and stylish. The print of Einstein's quote is sure to get a few laughs, and it's a great way to show off your personality.\n",
      "=============\n",
      "This t-shirt is made of soft cotton and has a short sleeve. The print of Einstein's quote is on the front. This t-shirt is perfect for those who like to look good and have a good sense of humor.\n",
      "=============\n"
     ]
    }
   ],
   "source": [
    "detailed_instruction = \"\"\"Write an engaging product description for a clothing eCommerce site. Make sure to include the following features in the description.\n",
    "Product: Humor Men's Graphic T-Shirt.\n",
    "Features:\n",
    "- Soft cotton\n",
    "- Short sleeve\n",
    "- Have a print of Einstein's quote: \"artificial intelligence is no match for natural stupidity”\n",
    "Description:\n",
    "\"\"\"\n",
    "\n",
    "response = ai21.Completion.execute(model=\"j2-jumbo-instruct\",\n",
    "                                   prompt=detailed_instruction,\n",
    "                                   maxTokens=100,\n",
    "                                   temperature=0.7,\n",
    "                                   numResults=3)\n",
    "\n",
    "for comp in response['completions']:\n",
    "    print(comp['data']['text'].strip())\n",
    "    print(\"=============\")"
   ]
  },
  {
   "cell_type": "markdown",
   "id": "b93072f7",
   "metadata": {},
   "source": [
    "#### Try another prompt!\n",
    "You can (and should) check several phrasing in order to get the best completion for your use case. Here is an example of what often refered to as \"System message\" prompt:"
   ]
  },
  {
   "cell_type": "code",
   "execution_count": 7,
   "id": "b497009f",
   "metadata": {},
   "outputs": [
    {
     "name": "stdout",
     "output_type": "stream",
     "text": [
      "This funny t-shirt is perfect for anyone who enjoys a good joke. The quote by Einstein is sure to get a laugh, and the soft and comfy cotton will keep you comfortable all day long.\n",
      "=============\n",
      "This funny T-shirt is perfect for anyone who wants to make a statement. The quote is by Einstein, and it's a reminder that no matter how smart technology gets, some people will always do dumb things. The shirt is made of soft cotton, and it's comfortable to wear. It's also machine washable, so it's easy to care for.\n",
      "=============\n",
      "Add some humor to your look with our \"Artificial Intelligence Is No Match For Natural Stupidity\" men's t-shirt. This witty tee is sure to get a chuckle out of anyone who sees it. Made from soft cotton, it's comfortable to wear and perfect for everyday wear. The short sleeve design makes it ideal for warm weather.\n",
      "=============\n"
     ]
    }
   ],
   "source": [
    "detailed_instruction = \"\"\"You are a witty copywriter with great sales skills.\n",
    "Product: Humor Men's Graphic T-Shirt.\n",
    "Features:\n",
    "- Funny print of Einstein's quote: \"artificial intelligence is no match for natural stupidity”\n",
    "- Soft cotton\n",
    "- Short sleeve\n",
    "\n",
    "Write an engaging product description for a clothing eCommerce site. Make sure to include the above features in the description.\n",
    "Description:\n",
    "\"\"\"\n",
    "\n",
    "response = ai21.Completion.execute(model=\"j2-jumbo-instruct\",\n",
    "                                   prompt=detailed_instruction,\n",
    "                                   maxTokens=100,\n",
    "                                   temperature=0.7,\n",
    "                                   numResults=3)\n",
    "\n",
    "for comp in response['completions']:\n",
    "    print(comp['data']['text'].strip())\n",
    "    print(\"=============\")"
   ]
  },
  {
   "cell_type": "markdown",
   "id": "a7e92f27",
   "metadata": {},
   "source": [
    "### Prompting with examples\n",
    "**Why?** Examples are helpful in assisting the model to comprehend and generate responses that adhere to the intended format.\n",
    "\n",
    "**When?** Examples are particularly useful when there are stringent format constraints, a well-defined objective, and an overall structure to be maintained.\n",
    "\n",
    "**How?** To establish a pattern for the model to follow, present a few instances (“shots”) of input-output pairs in the prompt. This enables the model to mimic the pattern. Then, provide the input for a query example and allow the model to generate a suitable completion. This approach is commonly referred to as a \"*few-shot prompt*\"."
   ]
  },
  {
   "cell_type": "markdown",
   "id": "0f56ed7e",
   "metadata": {},
   "source": [
    "#### Create a few-shot prompt"
   ]
  },
  {
   "cell_type": "markdown",
   "id": "5a23345f",
   "metadata": {},
   "source": [
    "We will build a few-shot prompt comprised of the following:\n",
    "\n",
    "1. Prefix with 3 examples. Each example contains the relevant inputs (a product name and some features to incorporate) and the output (an engaging product description). They are separated by \"##\".\n",
    "\n",
    "2. The query inputs. An unseen product name and set of features for which we would like the model to output a new product description. These should follow the same format of the inputs in the prefix."
   ]
  },
  {
   "cell_type": "markdown",
   "id": "bfe27898",
   "metadata": {},
   "source": [
    "First, we collect some example data for the prompt prefix:"
   ]
  },
  {
   "cell_type": "code",
   "execution_count": 8,
   "id": "fd6fc9dc",
   "metadata": {},
   "outputs": [],
   "source": [
    "EXAMPLES_DATA = [\n",
    "    {\"product\": \"Humor Men's Graphic T-Shirt\", \n",
    "     \"features\": [\"Funny print\", \"Soft cotton\", \"Short sleeve\"], \n",
    "     \"description\": \"Funny is cool with this Graphic Print T-Shirt. Crafted in soft cotton fabric and featuring a classic short sleeve silhouette for a laid-back look and style, this men’s tee pairs with your favorite jeans or shorts and easily earns a spot on the graphic tee rotation—perfect for fun weekends or your everyday look!\"},\n",
    "    {\"product\": \"Women's Boho Beach Dress\", \n",
    "     \"features\": [\"Midi dress\", \"Swing hem\", \"Slimming\", \"Special for summer\"], \n",
    "     \"description\": \"Women's Boho Beach Dress The style of midi dress with swing hem is slimming, It will make your tummy look flatter. This dress for women could not only make you feel cool, but also perfectly present the curve of female waist. Even in hot summer, it still keeps your elegant.\"},\n",
    "    {\"product\":\"Men's Soho Trousers\", \n",
    "     \"features\": [\"Designed by Retrolicious\", \"Stretch cotton fabric\", \"Side pockets\", \"Stripes print\"],\n",
    "     \"description\": \"Designed with a side stripe and a modern slim fit, these Retrolicious Soho Trousers are the perfect pair for everyday wear. Its stretch cotton fabric makes it comfortable to wear all day long, while side pockets offer convenient storage.\"}\n",
    "]"
   ]
  },
  {
   "cell_type": "markdown",
   "id": "c67fea50",
   "metadata": {},
   "source": [
    "Then, we use the following helper functions to construct the prefix:"
   ]
  },
  {
   "cell_type": "code",
   "execution_count": 9,
   "id": "60d2eee9",
   "metadata": {},
   "outputs": [],
   "source": [
    "def list_features(features):\n",
    "    return \"\\n\".join(\n",
    "        f\"- {feat}\" for feat in features\n",
    "    )\n",
    "\n",
    "def make_single_example(product, features, description):\n",
    "    example = \"Write an engaging product description for a clothing eCommerce site. Make sure to include the following features in the description.\\n\"\n",
    "    example += f\"Product: {product}\\n\"\n",
    "    example += \"Features:\\n\"\n",
    "    example += list_features(features)\n",
    "    example += \"\\nDescription:\\n\"\n",
    "    example += description\n",
    "    \n",
    "    return example\n",
    "\n",
    "SEPARATOR = \"\\n\\n##\\n\\n\"\n",
    "\n",
    "FEW_SHOT_PREFIX = SEPARATOR.join(\n",
    "    make_single_example(x[\"product\"], x[\"features\"], x[\"description\"]) for x in EXAMPLES_DATA\n",
    ")"
   ]
  },
  {
   "cell_type": "markdown",
   "id": "2a70bbdd",
   "metadata": {},
   "source": [
    "And finally, we create a function to handle query inputs and create the full prompt:"
   ]
  },
  {
   "cell_type": "code",
   "execution_count": 10,
   "id": "9ac4f565",
   "metadata": {},
   "outputs": [],
   "source": [
    "def create_product_description_prompt(product, features):\n",
    "    \"\"\"\n",
    "    Create a few-shot prompt to generate a product description with Jurassic-2 models given a name and features\n",
    "    The prompt contains a preset sequence of examples followed by the query product name and features\n",
    "    \"\"\"\n",
    "    return FEW_SHOT_PREFIX + SEPARATOR + make_single_example(product, features, '')  # keep the description blank and let the model generate"
   ]
  },
  {
   "cell_type": "markdown",
   "id": "25dca30a",
   "metadata": {},
   "source": [
    "Let's see how this looks for a bag with specific features:"
   ]
  },
  {
   "cell_type": "code",
   "execution_count": 11,
   "id": "e0bde916",
   "metadata": {},
   "outputs": [
    {
     "name": "stdout",
     "output_type": "stream",
     "text": [
      "Write an engaging product description for a clothing eCommerce site. Make sure to include the following features in the description.\n",
      "Product: Humor Men's Graphic T-Shirt\n",
      "Features:\n",
      "- Funny print\n",
      "- Soft cotton\n",
      "- Short sleeve\n",
      "Description:\n",
      "Funny is cool with this Graphic Print T-Shirt. Crafted in soft cotton fabric and featuring a classic short sleeve silhouette for a laid-back look and style, this men’s tee pairs with your favorite jeans or shorts and easily earns a spot on the graphic tee rotation—perfect for fun weekends or your everyday look!\n",
      "\n",
      "##\n",
      "\n",
      "Write an engaging product description for a clothing eCommerce site. Make sure to include the following features in the description.\n",
      "Product: Women's Boho Beach Dress\n",
      "Features:\n",
      "- Midi dress\n",
      "- Swing hem\n",
      "- Slimming\n",
      "- Special for summer\n",
      "Description:\n",
      "Women's Boho Beach Dress The style of midi dress with swing hem is slimming, It will make your tummy look flatter. This dress for women could not only make you feel cool, but also perfectly present the curve of female waist. Even in hot summer, it still keeps your elegant.\n",
      "\n",
      "##\n",
      "\n",
      "Write an engaging product description for a clothing eCommerce site. Make sure to include the following features in the description.\n",
      "Product: Men's Soho Trousers\n",
      "Features:\n",
      "- Designed by Retrolicious\n",
      "- Stretch cotton fabric\n",
      "- Side pockets\n",
      "- Stripes print\n",
      "Description:\n",
      "Designed with a side stripe and a modern slim fit, these Retrolicious Soho Trousers are the perfect pair for everyday wear. Its stretch cotton fabric makes it comfortable to wear all day long, while side pockets offer convenient storage.\n",
      "\n",
      "##\n",
      "\n",
      "Write an engaging product description for a clothing eCommerce site. Make sure to include the following features in the description.\n",
      "Product: Camp Director Crossbody Bag\n",
      "Features:\n",
      "- Black canvas purse\n",
      "- Rainbow space print\n",
      "- Leather trim\n",
      "- Two securely-zipped compartments\n",
      "Description:\n",
      "\n"
     ]
    }
   ],
   "source": [
    "few_shot_prompt = create_product_description_prompt(\n",
    "    product=\"Camp Director Crossbody Bag\", \n",
    "    features=[\"Black canvas purse\", \"Rainbow space print\", \"Leather trim\", \"Two securely-zipped compartments\"]\n",
    ")\n",
    "\n",
    "print(few_shot_prompt)"
   ]
  },
  {
   "cell_type": "code",
   "execution_count": 12,
   "id": "025f1b13",
   "metadata": {},
   "outputs": [
    {
     "name": "stdout",
     "output_type": "stream",
     "text": [
      "This black canvas purse is perfect for camping enthusiasts. The rainbow space print is eye-catching, and the leather trim adds a touch of sophistication. The two securely-zipped compartments provide ample room for your belongings, and the crossbody strap is adjustable for a comfortable fit.\n",
      "=============\n",
      "The Camp Director Crossbody Bag by [Brand Name] is a must-have for summer camp lovers! This black canvas purse features a rainbow space print and leather trim, with two securely-zipped compartments to keep your belongings safe. The adjustable strap allows you to wear it as a crossbody bag or over the shoulder.\n",
      "=============\n",
      "This stylish crossbody bag is perfect for all your summer adventures. The canvas material is durable and easy to clean, while the rainbow space print is eye-catching and unique. The leather trim adds a touch of luxury, and the two securely-zipped compartments make it easy to keep your belongings organized. The Camp Director Crossbody Bag is perfect for a day at the beach, a casual day out, or a night on the town.\n",
      "=============\n"
     ]
    }
   ],
   "source": [
    "response = ai21.Completion.execute(model=\"j2-jumbo-instruct\",\n",
    "                                   prompt=few_shot_prompt,\n",
    "                                   maxTokens=100,\n",
    "                                   temperature=0.7,\n",
    "                                   stopSequences=[SEPARATOR],\n",
    "                                   numResults=3)\n",
    "\n",
    "for comp in response['completions']:\n",
    "    print(comp['data']['text'].strip())\n",
    "    print(\"=============\")\n"
   ]
  },
  {
   "cell_type": "markdown",
   "id": "05cf6df2",
   "metadata": {},
   "source": [
    "Creating a good prompt is a process that involves some trial and error, but it doesn't require a PhD in AI. So don't give up if your first attempt fails to produce good results. Look for good examples and keep iterating!"
   ]
  },
  {
   "cell_type": "markdown",
   "id": "24778d89",
   "metadata": {},
   "source": [
    "## Repurpose with Paraphrase API"
   ]
  },
  {
   "cell_type": "markdown",
   "id": "b6a4426b",
   "metadata": {},
   "source": [
    "Writing product descriptions requires understanding your customers' needs and communicating the features and benefits of your product in an engaging, informative, and compelling manner. Also, as a copywriter, they need to keep a consistent tone in descriptions. On top of that, there is often a strict length restriction, which may cause multiple descriptions for the same product on different platforms. Offering your users different paraphrasing styles, such as shortening, can improve their productivity and help them provide high-quality results, all with their own voice and consistency."
   ]
  },
  {
   "cell_type": "code",
   "execution_count": 13,
   "id": "0b8cc2a6",
   "metadata": {},
   "outputs": [
    {
     "name": "stdout",
     "output_type": "stream",
     "text": [
      "This black canvas purse is perfect for camping enthusiasts. The rainbow space print is eye-catching, and the leather trim adds a touch of sophistication. The two securely-zipped compartments provide ample room for your belongings, and the crossbody strap is adjustable for a comfortable fit.\n"
     ]
    }
   ],
   "source": [
    "# Take the product description we generated in the previous section\n",
    "product_description = response['completions'][0]['data']['text']\n",
    "print(product_description)"
   ]
  },
  {
   "cell_type": "code",
   "execution_count": 14,
   "id": "e17f5ad3",
   "metadata": {},
   "outputs": [],
   "source": [
    "# Let's make it shorter\n",
    "new_desc = ai21.Paraphrase.execute(text=product_description,\n",
    "                                   style=\"short\")"
   ]
  },
  {
   "cell_type": "code",
   "execution_count": 15,
   "id": "59de136e",
   "metadata": {},
   "outputs": [
    {
     "name": "stdout",
     "output_type": "stream",
     "text": [
      "The rainbow space print and leather trim make this black canvas purse a great choice for campers. The crossbody strap is adjustable for a comfortable fit, and the two securely-zipped compartments provide ample space for your belongings.\n",
      "=============\n",
      "Black canvas purses are perfect for camping enthusiasts. Two securely-zipped compartments provide ample room for your belongings, and the crossbody strap is adjustable for a comfortable fit.\n",
      "=============\n",
      "Camping enthusiasts will love this black canvas purse. With its rainbow space print and leather trim, the crossbody strap is adjustable for a comfortable fit and two securely-zipped compartments provide ample storage.\n",
      "=============\n",
      "The rainbow space print and leather trim make this black canvas purse perfect for camping enthusiasts. Two securely-zipped compartments provide plenty of room for your belongings. The crossbody strap is adjustable to fit comfortably.\n",
      "=============\n"
     ]
    }
   ],
   "source": [
    "# Paraphrase API will return up to 10 suggestion. Let's take a look at several of them:\n",
    "for suggestion in new_desc['suggestions'][:4]:\n",
    "    print(suggestion['text'] + \"\\n=============\")"
   ]
  },
  {
   "cell_type": "markdown",
   "id": "aa598a11",
   "metadata": {},
   "source": [
    "## Contextual-Answers on the product page"
   ]
  },
  {
   "cell_type": "markdown",
   "id": "aa98cce6",
   "metadata": {},
   "source": [
    "You can utilize the **AI21 Studio Contextual Answers** model to access our advanced question answering technology, which is tailored to respond to queries within a specific document context. By doing so, it mitigates any potential factual inaccuracies that can arise with generic language models, ensuring that the answers provided are firmly rooted in the provided context document.\n",
    "\n",
    "This model operates by receiving a document text, serving as the context, along with a question, and generating an answer exclusively based on the given context. Consequently, if the answer to your question is not present in the document, the model will indicate this fact rather than providing a false answer.\n",
    "\n",
    "To gain an understanding of the model’s behavior, let’s consider a simple example of asking about the height of the Eiffel Tower. Most language models would typically provide an answer based on their training data. However, this model’s response is solely dependent on the context you supply. For illustrative purposes, we can employ the following modified paragraph sourced from [Wikipedia](https://en.wikipedia.org/wiki/Eiffel_Tower#:~:text=The%20Eiffel%20Tower%20(%2F%CB%88a%C9%AA,from%20the%20Champ%20de%20Mars) as the context:"
   ]
  },
  {
   "cell_type": "code",
   "execution_count": 16,
   "id": "e33d7853",
   "metadata": {},
   "outputs": [],
   "source": [
    "# The question\n",
    "question = \"What is the height of the Eiffel tower?\"\n",
    "\n",
    "# Actual paragraph\n",
    "context = \"The tower is 330 metres (1,083 ft) tall,[6] about the same height as an 81-storey building, and the tallest structure in Paris. Its base is square, measuring 125 metres (410 ft) on each side. During its construction, the Eiffel Tower surpassed the Washington Monument to become the tallest human-made structure in the world, a title it held for 41 years until the Chrysler Building in New York City was finished in 1930. It was the first structure in the world to surpass both the 200-metre and 300-metre mark in height. Due to the addition of a broadcasting aerial at the top of the tower in 1957, it is now taller than the Chrysler Building by 5.2 metres (17 ft). Excluding transmitters, the Eiffel Tower is the second tallest free-standing structure in France after the Millau Viaduct.\"\n",
    "\n",
    "# The paragraph with manual changes of the height\n",
    "false_context = \"The tower is 3 metres (10 ft) tall,[6] about the same height as an 81-storey building, and the tallest structure in Paris. Its base is square, measuring 125 metres (410 ft) on each side. During its construction, the Eiffel Tower surpassed the Washington Monument to become the tallest human-made structure in the world, a title it held for 41 years until the Chrysler Building in New York City was finished in 1930. It was the first structure in the world to surpass both the 200-metre and 300-metre mark in height. Due to the addition of a broadcasting aerial at the top of the tower in 1957, it is now taller than the Chrysler Building by 5.2 metres (17 ft). Excluding transmitters, the Eiffel Tower is the second tallest free-standing structure in France after the Millau Viaduct.\"\n",
    "\n",
    "# The paragraph with the height omitted\n",
    "partial_context = \"Its base is square, measuring 125 metres (410 ft) on each side. During its construction, the Eiffel Tower surpassed the Washington Monument to become the tallest human-made structure in the world, a title it held for 41 years until the Chrysler Building in New York City was finished in 1930. It was the first structure in the world to surpass both the 200-metre and 300-metre mark in height. Due to the addition of a broadcasting aerial at the top of the tower in 1957, it is now taller than the Chrysler Building by 5.2 metres (17 ft). Excluding transmitters, the Eiffel Tower is the second tallest free-standing structure in France after the Millau Viaduct.\""
   ]
  },
  {
   "cell_type": "code",
   "execution_count": 17,
   "id": "4cb0fe29",
   "metadata": {},
   "outputs": [],
   "source": [
    "# Wrapper for http request - this API is in open Beta\n",
    "def ai21_contextual_answer(context, question):\n",
    "    url = \"https://api.ai21.com/studio/v1/experimental/answer\"\n",
    "\n",
    "    payload = {\n",
    "        \"context\": context,\n",
    "        \"question\": question\n",
    "    }\n",
    "    headers = {\n",
    "        \"accept\": \"application/json\",\n",
    "        \"content-type\": \"application/json\",\n",
    "        \"Authorization\": f\"Bearer {YOUR_API_KEY}\"\n",
    "    }\n",
    "\n",
    "    return requests.post(url, json=payload, headers=headers).json()"
   ]
  },
  {
   "cell_type": "code",
   "execution_count": 18,
   "id": "c74604d6",
   "metadata": {},
   "outputs": [
    {
     "name": "stdout",
     "output_type": "stream",
     "text": [
      "The Eiffel Tower is 330 metres (1,083 ft) tall, about the same height as an 81-storey building, and the tallest structure in Paris.\n"
     ]
    }
   ],
   "source": [
    "# True context\n",
    "true_response = ai21_contextual_answer(context=context, question=question)\n",
    "\n",
    "print(true_response['answer'])"
   ]
  },
  {
   "cell_type": "code",
   "execution_count": 19,
   "id": "2de36800",
   "metadata": {},
   "outputs": [
    {
     "name": "stdout",
     "output_type": "stream",
     "text": [
      "The Eiffel Tower is 3 metres (10 ft) tall.\n"
     ]
    }
   ],
   "source": [
    "# False context\n",
    "false_response = ai21_contextual_answer(context=false_context, question=question)\n",
    "\n",
    "print(false_response['answer'])"
   ]
  },
  {
   "cell_type": "code",
   "execution_count": 20,
   "id": "a0b2011e",
   "metadata": {},
   "outputs": [
    {
     "name": "stdout",
     "output_type": "stream",
     "text": [
      "Answer not in document\n"
     ]
    }
   ],
   "source": [
    "# Irrelevant context\n",
    "irrelevant_response = ai21_contextual_answer(context=partial_context, question=question)\n",
    "\n",
    "print(irrelevant_response['answer'])"
   ]
  },
  {
   "cell_type": "markdown",
   "id": "d558e1cd",
   "metadata": {},
   "source": [
    "### The context - product page"
   ]
  },
  {
   "cell_type": "markdown",
   "id": "516fb6e7",
   "metadata": {},
   "source": [
    "In order to provide your users with the best possible experience, you must provide excellent customer service. Most questions users ask can be answered directly by the site's content, but it may not be obvious where to look. With our contextual answers API, all you have to do is provide it with the context the content on the website, and it will respond based solely on that!\n",
    "\n",
    "*Note: This API is only part of the process for websites with a lot of content - you will need to retrieve the relevant context first. Here, we're assuming you did.*"
   ]
  },
  {
   "cell_type": "markdown",
   "id": "3b7941af",
   "metadata": {},
   "source": [
    "For this example, we are taking the description from the following [Nike](https://www.nike.com/il/t/sportswear-tech-fleece-joggers-h2Bmxs/CU4495-010) product, as well as terms and conditions in the Nike website."
   ]
  },
  {
   "cell_type": "code",
   "execution_count": 22,
   "id": "3f86a798",
   "metadata": {},
   "outputs": [],
   "source": [
    "NIKE_PANTS_DESC = \"\"\"Nike Sportswear Tech Fleece\n",
    "₪399.90\n",
    "\n",
    "ADDED WARMTH FOR YOUR FAVOURITE JOGGERS.\n",
    "\n",
    "\n",
    "Ready for cooler weather, the Nike Sportswear Tech Fleece Joggers feature an updated fit perfect for everyday wear. Roomy through the thigh, this tapered design narrows at the knee to give you a comfortable feel without losing the clean, tailored look you love. Tall ribbed cuffs complete the jogger look while a zipped pocket on the right leg provides secure small-item storage and elevates the look.\n",
    "\n",
    "\n",
    "Tech Fleece Fabric\n",
    "\n",
    "Smooth on both sides, Tech Fleece offers premium warmth and an elevated look without adding weight or bulk.\n",
    "\n",
    "\n",
    "Tech Fleece Pocket\n",
    "\n",
    "Bonded tape around the zipped pocket and at-seam detailing are signature Tech Fleece details. Within the zipped pocket is an extra interior pocket to help keep your keys, cards and phone in place and easy to grab.\n",
    "\n",
    "\n",
    "Tapered Fit\n",
    "\n",
    "Room in the thighs helps you move without restriction. Tapering at the knee provides a tailored look to help your sneakers shine.\n",
    "\n",
    "\n",
    "Adjustable Fit\n",
    "\n",
    "Elastic waistband with drawcord provides a snug fit.\n",
    "\n",
    "\n",
    "Product Details\n",
    "\n",
    "Slim fit for a tailored feel\n",
    "Ribbed cuffs and a tapered leg design\n",
    "Body: 66% cotton/34% polyester. Pocket bag, palm side: 69% cotton/31% polyester. Pocket bag, knuckle side: 100% cotton.\n",
    "Machine wash\n",
    "Imported\n",
    "Colour Shown: Saturn Gold/Black\n",
    "Style: CU4495-700\n",
    "Country/Region of Origin: Cambodia\"\"\"\n",
    "\n",
    "NIKE_TOF = \"\"\"During checkout, we'll provide an estimated delivery date. We'll also include that date in your order confirmation email.\n",
    "\n",
    "STANDARD\n",
    "\n",
    "Always free for signed-in Nike Members\n",
    "Free for guest orders of ₪ 800 or more\n",
    "₪ 40 for guest orders less than ₪ 800\n",
    "Arrives in 4–10 business days\n",
    "FAQs\n",
    "Does my order need to go through customs?\n",
    "Since your order is dispatched internationally, it has to be cleared through customs. Don't worry—just confirm your information at checkout and we'll handle clearing your order. The delivery date provided at checkout accounts for clearance times.\n",
    "\n",
    "What about duties and taxes?\n",
    "We eliminate the guesswork for you. All applicable taxes and duties are included in your order total at checkout.\n",
    "\n",
    "ADDITIONAL INFORMATION\n",
    "Orders are processed Sunday–Thursday, except for national holidays. Be aware that orders may experience longer processing and delivery times during holidays.\n",
    "Orders can't be delivered to PO boxes, Nike stores, re-shippers or package-forwarding services.\n",
    "Orders can't be delivered to addresses outside the country or region where they were placed, but you can shop for Nike products on a number of sites globally.\n",
    "Nike By You orders arrive within six weeks—standard delivery times do not apply.\n",
    "Refunds include the total value of any returned items. Please note that delivery fees are not refundable unless you receive an incorrect item.\n",
    "\n",
    "\n",
    "HOW DO I GET FREE DELIVERY ON NIKE ORDERS?\n",
    "Nike Members get free standard delivery on every order. Every time.\n",
    "\n",
    "If you're not already a Nike Member, join Nike today for free. Sign in to your Member Profile when you shop Nike and we'll automatically apply free standard delivery at checkout on every order (no promo code required).\n",
    "\n",
    "BECOME A NIKE MEMBER\n",
    "If you'd prefer to shop as a guest, standard delivery is free for orders that meet a minimum order total. Please refer to our delivery options for additional information.\n",
    "\n",
    "HOW LONG DOES IT TAKE TO GET A NIKE BY YOU ORDER?\n",
    "We custom-make Nike By You sneakers and deliver them to you in six weeks or less. Delivery time varies by style—we'll provide an estimated delivery date during checkout.\n",
    "\n",
    "GET STARTED WITH NIKE BY YOU\n",
    "FAQs\n",
    "Is expedited delivery an option for Nike By You orders?\n",
    "No, expedited delivery isn't an option for Nike By You shoes—but they're worth the wait.\n",
    "\n",
    "How much does delivery cost for Nike By You orders?\n",
    "Nike By You order delivery costs are the same as all Nike orders. Please see our delivery options for additional information.\n",
    "\n",
    "How do I check my order status?\n",
    "You can check your order status online at any time.\n",
    "\n",
    "Can I return my Nike By You sneakers?\n",
    "Yes, please see our returns policy for more information.\n",
    "\n",
    "DOES MY NIKE ORDER TOTAL INCLUDE DUTIES AND TAXES?\n",
    "Yes, any applicable duties or taxes are included in your order total during checkout. We calculate duties and taxes according to the laws governing the delivery address. And please note, we don't accept tax-exempt orders.\n",
    "\n",
    "DOES MY NIKE ORDER NEED TO CLEAR CUSTOMS?\n",
    "Since your Nike order is dispatched from abroad, local customs regulations require verification of your national ID, passport or delivery information to clear and deliver your order. Don't worry—we make clearing your order easy.\n",
    "\n",
    "Just enter your national ID during checkout—that's it. We'll work with the courier and customs to process and clear your order. The estimated delivery date provided with your order confirmation accounts for customs processing times.\n",
    "\"\"\"\n",
    "\n",
    "NIKE_CONTEXT = NIKE_PANTS_DESC + \"\\n\" + NIKE_TOF"
   ]
  },
  {
   "cell_type": "markdown",
   "id": "ccdd5fee",
   "metadata": {},
   "source": [
    "Let's see how the model answers the following questions (note that the last question is just straight up trolling):"
   ]
  },
  {
   "cell_type": "code",
   "execution_count": 23,
   "id": "cf9a23e4",
   "metadata": {},
   "outputs": [],
   "source": [
    "questions = [\"I need pants please send them fast, when will they arrive?\", # Should answer\n",
    "             \"What do you count as a business day?\", # Should answer\n",
    "             \"What shirt sizes do you have in stock?\", # There is no info on shirts in the context\n",
    "             \"Are the pants made locally?\", # Should answer\n",
    "             \"How much wood can a woodchuck chuck?\"] # There is no answer in the context"
   ]
  },
  {
   "cell_type": "code",
   "execution_count": 25,
   "id": "878c2df1",
   "metadata": {},
   "outputs": [
    {
     "name": "stdout",
     "output_type": "stream",
     "text": [
      "Question: I need pants please send them fast, when will they arrive?\n",
      "Answer: Standard delivery times for Nike pants are 4–10 business days.\n",
      "=========================\n",
      "Question: What do you count as a business day?\n",
      "Answer: Orders are processed Sunday–Thursday, except for national holidays.\n",
      "=========================\n",
      "Question: What shirt sizes do you have in stock?\n",
      "Answer: Answer not in document\n",
      "=========================\n",
      "Question: Are the pants made locally?\n",
      "Answer: The joggers Tech Fleece Joggers are made from Tech Fleece fabric in Cambodia.\n",
      "=========================\n",
      "Question: How much wood can a woodchuck chuck?\n",
      "Answer: Answer not in document\n",
      "=========================\n"
     ]
    }
   ],
   "source": [
    "for question in questions:\n",
    "    print(\"Question: \" + question)\n",
    "\n",
    "    response = ai21_contextual_answer(context=NIKE_CONTEXT, question=question)\n",
    "\n",
    "    print(\"Answer: \" + response['answer'])\n",
    "    print(\"=========================\")"
   ]
  }
 ],
 "metadata": {
  "kernelspec": {
   "display_name": "Python 3 (ipykernel)",
   "language": "python",
   "name": "python3"
  },
  "language_info": {
   "codemirror_mode": {
    "name": "ipython",
    "version": 3
   },
   "file_extension": ".py",
   "mimetype": "text/x-python",
   "name": "python",
   "nbconvert_exporter": "python",
   "pygments_lexer": "ipython3",
   "version": "3.9.6"
  }
 },
 "nbformat": 4,
 "nbformat_minor": 5
}
