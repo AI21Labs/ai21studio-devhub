{
 "cells": [
  {
   "cell_type": "markdown",
   "id": "c5e7b8d8",
   "metadata": {
    "id": "c5e7b8d8"
   },
   "source": [
    "# Analyzing Hotels reviews using sophisticated sentiment analysis"
   ]
  },
  {
   "cell_type": "markdown",
   "id": "58540dbc",
   "metadata": {
    "id": "58540dbc"
   },
   "source": [
    "## Imports"
   ]
  },
  {
   "cell_type": "code",
   "execution_count": 1,
   "id": "2497dacf",
   "metadata": {
    "executionInfo": {
     "elapsed": 848,
     "status": "ok",
     "timestamp": 1664805722944,
     "user": {
      "displayName": "Yuval Belfer",
      "userId": "07320741718658062934"
     },
     "user_tz": -180
    },
    "id": "2497dacf"
   },
   "outputs": [],
   "source": [
    "import pandas as pd\n",
    "import numpy as np\n",
    "import matplotlib.pyplot as plt\n",
    "from tqdm import tqdm\n",
    "import json\n",
    "import math\n",
    "import ai21\n",
    "import requests\n",
    "import ast\n",
    "from langdetect import detect"
   ]
  },
  {
   "cell_type": "markdown",
   "id": "cf2f1ca7",
   "metadata": {},
   "source": [
    "### API keys\n",
    "Note that we use two APIs throughout this notebook, hence two different keys are required. How you can get them?\n",
    "\n",
    "**RapidAPI key**: create a free account at [RapidAPI](https://rapidapi.com/hub).\n",
    "\n",
    "**AI21 Studio**: create a free account at [AI21 Studio](https://studio.ai21.com). You can see you API key in the *Account* tab."
   ]
  },
  {
   "cell_type": "code",
   "execution_count": 2,
   "id": "9c3e0d33",
   "metadata": {
    "executionInfo": {
     "elapsed": 339,
     "status": "ok",
     "timestamp": 1664805729641,
     "user": {
      "displayName": "Yuval Belfer",
      "userId": "07320741718658062934"
     },
     "user_tz": -180
    },
    "id": "9c3e0d33"
   },
   "outputs": [],
   "source": [
    "RAPID_API_KEY = \"\"\n",
    "ai21.api_key = \"\""
   ]
  },
  {
   "cell_type": "markdown",
   "id": "c243094f",
   "metadata": {
    "id": "c243094f"
   },
   "source": [
    "## Connect to Hotels API and collect reviews"
   ]
  },
  {
   "cell_type": "markdown",
   "id": "427d35e7",
   "metadata": {},
   "source": [
    "Note that this is v2 of the hotels.com API\n",
    "Collecting the reviews involved:\n",
    "- Converting the slug (what you see in the URL) to an internal ID\n",
    "- Collecting reviews based on the ID"
   ]
  },
  {
   "cell_type": "code",
   "execution_count": 3,
   "id": "9424d8ab",
   "metadata": {},
   "outputs": [],
   "source": [
    "GET_ID_URL = \"https://hotels-com-provider.p.rapidapi.com/v2/meta/convert/slug-id\"\n",
    "GET_REVIEWS_URL = \"https://hotels-com-provider.p.rapidapi.com/v2/hotels/reviews/list\"\n",
    "\n",
    "def get_hotel_id_from_slug(hotel_slug):\n",
    "\n",
    "    querystring = {\"slug\": hotel_slug}\n",
    "\n",
    "    headers = {\n",
    "        \"X-RapidAPI-Key\": RAPID_API_KEY,\n",
    "        \"X-RapidAPI-Host\": \"hotels-com-provider.p.rapidapi.com\"\n",
    "    }\n",
    "\n",
    "    response = requests.request(\"GET\", GET_ID_URL, headers=headers, params=querystring)\n",
    "    return response.json()['data']\n",
    "\n",
    "\n",
    "def get_hotel_reviews_page(hotel_id, page_number):\n",
    "    params = {\n",
    "        \"locale\": \"en_US\",\n",
    "        \"domain\": \"US\",\n",
    "        \"hotel_id\": hotel_id, \n",
    "        \"page_number\": str(page_number)\n",
    "    }\n",
    "    headers = {\n",
    "        \"X-RapidAPI-Key\": RAPID_API_KEY,\n",
    "        \"X-RapidAPI-Host\": \"hotels-com-provider.p.rapidapi.com\"\n",
    "    }\n",
    "    response = requests.get(url=GET_REVIEWS_URL, headers=headers, params=params)\n",
    "     \n",
    "    reviews = [\n",
    "        review['text'] \n",
    "        for review in response.json()['reviewInfo']['reviews']\n",
    "    ]\n",
    "    return reviews\n",
    "\n",
    "\n",
    "def get_hotel_reviews(hotel_slug, num_pages):\n",
    "    hotel_id = get_hotel_id_from_slug(hotel_slug)\n",
    "    all_reviews = sum(\n",
    "        [get_hotel_reviews_page(hotel_id, page_number) for page_number in range(1, num_pages + 1)],\n",
    "        start=[]\n",
    "    )\n",
    "    return all_reviews"
   ]
  },
  {
   "cell_type": "code",
   "execution_count": 4,
   "id": "9d888dcc",
   "metadata": {
    "executionInfo": {
     "elapsed": 4012,
     "status": "ok",
     "timestamp": 1664805743418,
     "user": {
      "displayName": "Yuval Belfer",
      "userId": "07320741718658062934"
     },
     "user_tz": -180
    },
    "id": "9d888dcc"
   },
   "outputs": [],
   "source": [
    "# This is the hotel: https://www.hotels.com/ho125729/?locale=en_IL&pos=HCOM_IL&siteid=300000016\n",
    "\n",
    "reviews = get_hotel_reviews(hotel_slug=125729, num_pages=70)"
   ]
  },
  {
   "cell_type": "code",
   "execution_count": 5,
   "id": "851a9c4d",
   "metadata": {
    "colab": {
     "base_uri": "https://localhost:8080/"
    },
    "executionInfo": {
     "elapsed": 419,
     "status": "ok",
     "timestamp": 1664805747939,
     "user": {
      "displayName": "Yuval Belfer",
      "userId": "07320741718658062934"
     },
     "user_tz": -180
    },
    "id": "851a9c4d",
    "outputId": "3faf4c43-638c-41d3-efae-537b6361374f"
   },
   "outputs": [
    {
     "name": "stdout",
     "output_type": "stream",
     "text": [
      "700\n"
     ]
    }
   ],
   "source": [
    "print(len(reviews))"
   ]
  },
  {
   "cell_type": "markdown",
   "id": "29075012",
   "metadata": {
    "id": "29075012"
   },
   "source": [
    "## Pre-Process the reviews"
   ]
  },
  {
   "cell_type": "markdown",
   "id": "8194c879",
   "metadata": {
    "id": "8194c879"
   },
   "source": [
    "Filter reviews which are too short or not in English"
   ]
  },
  {
   "cell_type": "code",
   "execution_count": 6,
   "id": "cb3ec56a",
   "metadata": {
    "executionInfo": {
     "elapsed": 292,
     "status": "ok",
     "timestamp": 1664805752894,
     "user": {
      "displayName": "Yuval Belfer",
      "userId": "07320741718658062934"
     },
     "user_tz": -180
    },
    "id": "cb3ec56a"
   },
   "outputs": [],
   "source": [
    "def print_list(lis):\n",
    "    for item in lis:\n",
    "        print(item)\n",
    "        print(\"===========================\")"
   ]
  },
  {
   "cell_type": "code",
   "execution_count": 7,
   "id": "0df78782",
   "metadata": {
    "colab": {
     "base_uri": "https://localhost:8080/"
    },
    "executionInfo": {
     "elapsed": 20,
     "status": "ok",
     "timestamp": 1664805754103,
     "user": {
      "displayName": "Yuval Belfer",
      "userId": "07320741718658062934"
     },
     "user_tz": -180
    },
    "id": "0df78782",
    "outputId": "97acdee5-ae11-4874-940b-69a1e35ce484"
   },
   "outputs": [
    {
     "name": "stdout",
     "output_type": "stream",
     "text": [
      "\n",
      "===========================\n",
      "Great staff wonderful location. Will stay there again! \n",
      "===========================\n",
      "\n",
      "===========================\n",
      "The Lobby was beautiful and the Hotel staff very nice. The room was clean and decorated nicely. The bathroom, however, was in need of updating-the cabinet door under the sink was falling off, the paint was chipping and tiles outdated. Also very small.\n",
      "===========================\n",
      "The room smelled of popcorn.\n",
      "Very off putting\n",
      "===========================\n",
      "\n",
      "===========================\n",
      "Besides the location, there is nothing good about this place. (1) The room is stuffy and hot (80 degree and the thermo control is a joke).  (2) extremely small room, I bumped my elbow to the sink every time I was in the bathroom (3) the room is so noisy (right next to an exhaustion fan) I had to wear ear plugs to sleep (barely sleep). (4) staff are rude and only care about the money.  All standard curtesy from other hotels are charged by this place.  Want to have one hour late checkout? pay more;  want to get to your room earlier when it is available, pay more.   I couldn't get out of there sooner.  \n",
      "===========================\n",
      "Room was extremely small, much smaller than similarly priced rooms in NYC. The bathroom door was sagging and wouldn’t close completely without slamming it. The climate control in the room didn’t seem to work correctly, our room was a very stuffy 76°. I set the thermostat to 70° when we went to bed and the actual room temperature never changed. Overall dissatisfied for the price we paid. \n",
      "===========================\n",
      "Tremendous location and very friendly responsive staff.  My biggest criticism is the condition of the equipment in the gym.  If it isn't improved, I will not return.\n",
      "===========================\n",
      "Bed was super hard, like a box.  The room need freshening up, paint peeling off bathroom door and dark.  The location is great and staff was wonderful!\n",
      "===========================\n",
      "\n",
      "===========================\n",
      "\n",
      "===========================\n",
      "Not good. Room is small. Heater is old and hard to operate. \n",
      "===========================\n",
      "\n",
      "===========================\n",
      "Very quiet \"courtyard\" room.  Only negative was the bathroom--handle on hairdryer was sticky.  Maid left 4 bath towels, one washcloth, and one handtowel....no bathmat.  One-time use shampoo, etc bottles were so small that they fell through the wire soap dish holder as did the tiny bar of soap.  The soap dish holder needs to be better design to accommodate the toiletries.\n",
      "===========================\n",
      "\n",
      "===========================\n",
      "My wife and I needed a hotel for four nights near Mount Sinai West hospital where my wife was having surgery. We asked for as quiet a room as possible. We were given a 10th floor, King-bed unit facing the \"court yard\". But across the hall from a shelter family with two young, loud, early rising sisters who left their main door open while they screamed and laughed (sort of cutely) early in the morning and later at night, keeping my wife and I up while she was beginning to recuperate. So uncomfortable I started making notes.\n",
      "The room itself:The  Bed had no top sheet, just a thin quilt, with no extra blankets in the room.Two decor pillows on bed with no covers, share germs with from previous user.\n",
      "Shower fixtures are modern looking, but poorly designed, dysfunctional, awkward--allowing water to spray everywhere. Shower curtain way too short.Bathrm tiles badly cracked.Caulking fallen off.12\"-16\" tiny frig. too warm for 3 day storage. no coffee machine, or ice, or customary complimentary items found at much cheaper hotels.We also noticed that a few at the reception desk were not too hospitable to other travelers.\n",
      "The two positive things about this hotel are its location and its cleaning staff. Otherwise, we were very disappointed. \n",
      "===========================\n",
      "The Empire Hotel was a comfortable stay with a terrific staff.  They held my luggage for the day while I explored NYC and room was ready right at 3 pm as they promised. Room was clean and comfortable.  A great location to get everywhere in NYC.\n",
      "===========================\n",
      "\n",
      "===========================\n",
      "No food or beverage outlets, no room service, no restaurant. Noisy a/c. \n",
      "===========================\n"
     ]
    }
   ],
   "source": [
    "# Look at them\n",
    "print_list(reviews[:20])"
   ]
  },
  {
   "cell_type": "code",
   "execution_count": 8,
   "id": "5f9fe7a3",
   "metadata": {
    "executionInfo": {
     "elapsed": 360,
     "status": "ok",
     "timestamp": 1664805759536,
     "user": {
      "displayName": "Yuval Belfer",
      "userId": "07320741718658062934"
     },
     "user_tz": -180
    },
    "id": "5f9fe7a3"
   },
   "outputs": [],
   "source": [
    "def filter_reviews(reviews):\n",
    "    en_reviews = [review for review in reviews if len(review)>=20 and detect(review)==\"en\"]\n",
    "            \n",
    "    return en_reviews"
   ]
  },
  {
   "cell_type": "code",
   "execution_count": 9,
   "id": "29191d65",
   "metadata": {
    "colab": {
     "base_uri": "https://localhost:8080/"
    },
    "executionInfo": {
     "elapsed": 2794,
     "status": "ok",
     "timestamp": 1664805763687,
     "user": {
      "displayName": "Yuval Belfer",
      "userId": "07320741718658062934"
     },
     "user_tz": -180
    },
    "id": "29191d65",
    "outputId": "286958ab-3acf-42f8-a3cc-21436a97549c"
   },
   "outputs": [
    {
     "name": "stdout",
     "output_type": "stream",
     "text": [
      "432\n"
     ]
    }
   ],
   "source": [
    "en_reviews = filter_reviews(reviews)\n",
    "\n",
    "print(len(en_reviews))"
   ]
  },
  {
   "cell_type": "code",
   "execution_count": 10,
   "id": "653722aa",
   "metadata": {
    "colab": {
     "base_uri": "https://localhost:8080/"
    },
    "executionInfo": {
     "elapsed": 35,
     "status": "ok",
     "timestamp": 1664805765363,
     "user": {
      "displayName": "Yuval Belfer",
      "userId": "07320741718658062934"
     },
     "user_tz": -180
    },
    "id": "653722aa",
    "outputId": "e6fbb478-2ccd-45e2-f291-e42085765f05"
   },
   "outputs": [
    {
     "name": "stdout",
     "output_type": "stream",
     "text": [
      "Great staff wonderful location. Will stay there again! \n",
      "===========================\n",
      "The Lobby was beautiful and the Hotel staff very nice. The room was clean and decorated nicely. The bathroom, however, was in need of updating-the cabinet door under the sink was falling off, the paint was chipping and tiles outdated. Also very small.\n",
      "===========================\n",
      "The room smelled of popcorn.\n",
      "Very off putting\n",
      "===========================\n",
      "Besides the location, there is nothing good about this place. (1) The room is stuffy and hot (80 degree and the thermo control is a joke).  (2) extremely small room, I bumped my elbow to the sink every time I was in the bathroom (3) the room is so noisy (right next to an exhaustion fan) I had to wear ear plugs to sleep (barely sleep). (4) staff are rude and only care about the money.  All standard curtesy from other hotels are charged by this place.  Want to have one hour late checkout? pay more;  want to get to your room earlier when it is available, pay more.   I couldn't get out of there sooner.  \n",
      "===========================\n",
      "Room was extremely small, much smaller than similarly priced rooms in NYC. The bathroom door was sagging and wouldn’t close completely without slamming it. The climate control in the room didn’t seem to work correctly, our room was a very stuffy 76°. I set the thermostat to 70° when we went to bed and the actual room temperature never changed. Overall dissatisfied for the price we paid. \n",
      "===========================\n",
      "Tremendous location and very friendly responsive staff.  My biggest criticism is the condition of the equipment in the gym.  If it isn't improved, I will not return.\n",
      "===========================\n",
      "Bed was super hard, like a box.  The room need freshening up, paint peeling off bathroom door and dark.  The location is great and staff was wonderful!\n",
      "===========================\n",
      "Not good. Room is small. Heater is old and hard to operate. \n",
      "===========================\n",
      "Very quiet \"courtyard\" room.  Only negative was the bathroom--handle on hairdryer was sticky.  Maid left 4 bath towels, one washcloth, and one handtowel....no bathmat.  One-time use shampoo, etc bottles were so small that they fell through the wire soap dish holder as did the tiny bar of soap.  The soap dish holder needs to be better design to accommodate the toiletries.\n",
      "===========================\n",
      "My wife and I needed a hotel for four nights near Mount Sinai West hospital where my wife was having surgery. We asked for as quiet a room as possible. We were given a 10th floor, King-bed unit facing the \"court yard\". But across the hall from a shelter family with two young, loud, early rising sisters who left their main door open while they screamed and laughed (sort of cutely) early in the morning and later at night, keeping my wife and I up while she was beginning to recuperate. So uncomfortable I started making notes.\n",
      "The room itself:The  Bed had no top sheet, just a thin quilt, with no extra blankets in the room.Two decor pillows on bed with no covers, share germs with from previous user.\n",
      "Shower fixtures are modern looking, but poorly designed, dysfunctional, awkward--allowing water to spray everywhere. Shower curtain way too short.Bathrm tiles badly cracked.Caulking fallen off.12\"-16\" tiny frig. too warm for 3 day storage. no coffee machine, or ice, or customary complimentary items found at much cheaper hotels.We also noticed that a few at the reception desk were not too hospitable to other travelers.\n",
      "The two positive things about this hotel are its location and its cleaning staff. Otherwise, we were very disappointed. \n",
      "===========================\n",
      "The Empire Hotel was a comfortable stay with a terrific staff.  They held my luggage for the day while I explored NYC and room was ready right at 3 pm as they promised. Room was clean and comfortable.  A great location to get everywhere in NYC.\n",
      "===========================\n",
      "No food or beverage outlets, no room service, no restaurant. Noisy a/c. \n",
      "===========================\n",
      "Wonderful hotel and perfect for attending events at Lincoln Center!!\n",
      "===========================\n",
      "The Empire is very nice. It's an old hotel but has been nicely re-done. If you want to go to any Broadway show you are in waking distance. The Lincoln Center is just across the street. Subway is 3 short blocks away. Very good dining in the area. Also you are very close to Central Park and museums.\n",
      "===========================\n",
      "Overall good stay, staff were very friendly and helpful. Amazing location surrounded by everything from museums, restaurants, and Lincoln Center. \n",
      "===========================\n",
      "Door men are disappointing! Not opening doors when I have suitcase. No luggage cart provided.\n",
      "===========================\n",
      "We arrived very late but were greeted With a friendly staff and given a top floor accommodation. The next day we had an issue with our room which the staff quickly addressed. Our stay was excellent. The location is perfect to walk to Time Square and Central Park or cross the street to Lincoln Center. You can also easily catch a subway to anywhere else. The room was cozy for the three of us but having the experience of staying in the hotel used for our favorite TV series was priceless. The O was out on their sign at night which was disappointing for photos but doesn’thave an impact on our vacation. \n",
      "===========================\n",
      "This was a decent hotel in the heart of manhattan. Everything is close. Only stayed for one night but it was comfortable and the Starbucks is right around the corner.\n",
      "===========================\n",
      "Below average hotel.  Nicer places to stay in Manhattan for the money.  Lobby very nice, goes down from there.  Sites rate the hotel at a 7.3 out of 10.  My rating is a 5.  \n",
      "===========================\n",
      "Hotel was pleasant and the room was fine. Lox action is great! The bar looks beautiful, but it is still closed since Covid, no bartender and no liquor. Too bad. Also we arrived  about 2 hours before normal the check-in time, and we’re told the room was ready but if we wanted to check-in early there would be an extra fee of $120.00! Which is outrageous, so we just checked our suitcase and came back to check-in later after the show.\n",
      "===========================\n"
     ]
    }
   ],
   "source": [
    "print_list(en_reviews[:20])"
   ]
  },
  {
   "cell_type": "markdown",
   "id": "b6801f5f",
   "metadata": {
    "id": "b6801f5f"
   },
   "source": [
    "## Find the sentiments for each reviews using AI21 Studio\n",
    "### Building a prompt - annotating few examples\n",
    "### Sending completion request to one of Jurassic-2 models"
   ]
  },
  {
   "cell_type": "markdown",
   "id": "93d1f528",
   "metadata": {
    "id": "93d1f528"
   },
   "source": [
    "The structure of the prompt will be in the following:\n",
    "\n",
    "Review:\n",
    "\n",
    "Extracted sentiment:\n",
    "    \n",
    "<json format, where each key is a field and the values are Positive/Negative>\n",
    "\n",
    "See the prompt in the [playground](https://studio.ai21.com/playground?promptShare=2beb29f3-0e66-4d95-9df7-155bde01fc37)"
   ]
  },
  {
   "cell_type": "markdown",
   "id": "5d2795d6",
   "metadata": {},
   "source": [
    "#### Creating few-shot prompt\n",
    "- Annotate several examples by yourself (in this case - load annotations done by us)\n",
    "- Write a function that creates a single example\n",
    "- Use both to create a few-shot prompt for a new review"
   ]
  },
  {
   "cell_type": "code",
   "execution_count": 11,
   "id": "c37723cb",
   "metadata": {},
   "outputs": [],
   "source": [
    "with open(\"hotels_sentimented.jsonl\", \"r\") as fp:\n",
    "    EXAMPLES_DATA = json.load(fp)"
   ]
  },
  {
   "cell_type": "code",
   "execution_count": 12,
   "id": "07236422",
   "metadata": {},
   "outputs": [],
   "source": [
    "def make_single_example(review, sentiment):   \n",
    "    example = \"Review:\\n\"\n",
    "    example += review\n",
    "    example += \"\\n\"\n",
    "    example += \"Extracted sentiment:\\n\"\n",
    "    example += sentiment\n",
    "    \n",
    "    return example\n",
    "\n",
    "SEPARATOR = \"\\n##\\n\"\n",
    "\n",
    "FEW_SHOT_PREFIX = SEPARATOR.join(\n",
    "    make_single_example(x['review'], json.dumps(x['sentiment'])) for x in EXAMPLES_DATA\n",
    ")"
   ]
  },
  {
   "cell_type": "code",
   "execution_count": 13,
   "id": "b4a6f1a2",
   "metadata": {
    "executionInfo": {
     "elapsed": 302,
     "status": "ok",
     "timestamp": 1664805773634,
     "user": {
      "displayName": "Yuval Belfer",
      "userId": "07320741718658062934"
     },
     "user_tz": -180
    },
    "id": "b4a6f1a2"
   },
   "outputs": [],
   "source": [
    "def create_review_analysis_prompt(review):\n",
    "    \"\"\"\n",
    "    Create a few-shot prompt to analysis reviews with Jurassic-2 \n",
    "    The prompt contains a preset sequence of examples followed by the query review\n",
    "    \"\"\"\n",
    "    return FEW_SHOT_PREFIX + SEPARATOR + make_single_example(review, '')  # keep the setniment blank and let the model generate"
   ]
  },
  {
   "cell_type": "markdown",
   "id": "516f0779",
   "metadata": {},
   "source": [
    "### Perform the analysis"
   ]
  },
  {
   "cell_type": "code",
   "execution_count": 14,
   "id": "3b8e9a3d",
   "metadata": {},
   "outputs": [
    {
     "name": "stderr",
     "output_type": "stream",
     "text": [
      "100%|████████████████████████████████████████████████████████████████████████████████████████████████████████████████████████████████████████████████████████████████████████████████████████████████████████████████████████████████████████████████| 432/432 [21:38<00:00,  3.01s/it]\n"
     ]
    }
   ],
   "source": [
    "sentiments = []\n",
    "for review in tqdm(en_reviews):\n",
    "    prompt = create_review_analysis_prompt(review.strip())\n",
    "  \n",
    "    response = ai21.Completion.execute(\n",
    "                                        model=\"j2-ultra\",\n",
    "                                        prompt=prompt,\n",
    "                                        maxTokens=100,\n",
    "                                        stopSequences=[\"##\"]\n",
    "                                        )\n",
    "\n",
    "\n",
    "    sentiments.append(response['completions'][0]['data']['text'])"
   ]
  },
  {
   "cell_type": "code",
   "execution_count": 15,
   "id": "5dadd6ed",
   "metadata": {},
   "outputs": [
    {
     "data": {
      "text/plain": [
       "432"
      ]
     },
     "execution_count": 15,
     "metadata": {},
     "output_type": "execute_result"
    }
   ],
   "source": [
    "len(sentiments)"
   ]
  },
  {
   "cell_type": "markdown",
   "id": "c4ed037d",
   "metadata": {
    "id": "c4ed037d"
   },
   "source": [
    "## (Experimental) Sample a random review and check the results"
   ]
  },
  {
   "cell_type": "code",
   "execution_count": 16,
   "id": "c3104b33",
   "metadata": {
    "colab": {
     "base_uri": "https://localhost:8080/"
    },
    "executionInfo": {
     "elapsed": 3,
     "status": "ok",
     "timestamp": 1664805808122,
     "user": {
      "displayName": "Yuval Belfer",
      "userId": "07320741718658062934"
     },
     "user_tz": -180
    },
    "id": "c3104b33",
    "outputId": "cb0bf99f-7682-4348-965e-7d76018eee8b"
   },
   "outputs": [
    {
     "name": "stdout",
     "output_type": "stream",
     "text": [
      "The Empire is a great property for a short stay, very convenient, lots of great restaurants nearby.  We have stayed here before, this time we got a VERY small room (a standard queen) that would have been better for only one person.  Next time we would spend the bucks for some more space.  Overall, one of the best values in Manhattan.  They still have daily maid service, which was a pleasant surprise.\n",
      "{\"Location\": \"Positive\", \"Room Quality\": \"Positive\"}\n",
      "\n"
     ]
    }
   ],
   "source": [
    "i = 123\n",
    "print(en_reviews[i])\n",
    "print(sentiments[i])"
   ]
  },
  {
   "cell_type": "markdown",
   "id": "fc2ff807",
   "metadata": {
    "id": "fc2ff807"
   },
   "source": [
    "## Create the dashboard"
   ]
  },
  {
   "cell_type": "code",
   "execution_count": 22,
   "id": "48cadd3b",
   "metadata": {
    "executionInfo": {
     "elapsed": 352,
     "status": "ok",
     "timestamp": 1664805816277,
     "user": {
      "displayName": "Yuval Belfer",
      "userId": "07320741718658062934"
     },
     "user_tz": -180
    },
    "id": "48cadd3b"
   },
   "outputs": [],
   "source": [
    "def get_topK_categories_and_score(sentiments, k=7):\n",
    "    \"\"\"\n",
    "        Given a list of sentiments and number of top categories, create data for dashboard\n",
    "\n",
    "        Arguments:\n",
    "        - sentiments       : list of sentiments, each in json format\n",
    "        - k                : how many categories to return\n",
    "\n",
    "        Returns:\n",
    "        - category_names   : the scores each category can get (in this case, Positive and Negative)\n",
    "        - scores           : dict,\n",
    "                             each key is a category\n",
    "                             each value\n",
    "    \"\"\"\n",
    "\n",
    "    parsed_sentiments = []\n",
    "    for sentiment in sentiments:\n",
    "        try:\n",
    "            parsed_sentiments.append(ast.literal_eval(sentiment))\n",
    "        except SyntaxError or ValueError:\n",
    "            pass\n",
    "    \n",
    "    df = pd.DataFrame(parsed_sentiments)\n",
    "\n",
    "    # extract the K categories with the most reviews    \n",
    "    keys = df.count().sort_values(ascending=False)[:k].index.tolist()\n",
    "    \n",
    "    category_names = ['Negative', 'Positive']\n",
    "    scores = {}\n",
    "\n",
    "    for key in keys:\n",
    "        scores[key] = [(df[key] == category_names[0]).sum(), (df[key] == category_names[1]).sum()]\n",
    "        \n",
    "    return scores, category_names"
   ]
  },
  {
   "cell_type": "code",
   "execution_count": 23,
   "id": "d37ac8ad",
   "metadata": {
    "executionInfo": {
     "elapsed": 441,
     "status": "ok",
     "timestamp": 1664805820069,
     "user": {
      "displayName": "Yuval Belfer",
      "userId": "07320741718658062934"
     },
     "user_tz": -180
    },
    "id": "d37ac8ad"
   },
   "outputs": [],
   "source": [
    "scores, category_names = get_topK_categories_and_score(sentiments, k=7)"
   ]
  },
  {
   "cell_type": "code",
   "execution_count": 24,
   "id": "294920eb",
   "metadata": {
    "executionInfo": {
     "elapsed": 1,
     "status": "ok",
     "timestamp": 1664805822127,
     "user": {
      "displayName": "Yuval Belfer",
      "userId": "07320741718658062934"
     },
     "user_tz": -180
    },
    "id": "294920eb"
   },
   "outputs": [],
   "source": [
    "def plot_dashboard(scores, category_names):\n",
    "    # Based on: https://matplotlib.org/stable/gallery/lines_bars_and_markers/horizontal_barchart_distribution.html#sphx-glr-gallery-lines-bars-and-markers-horizontal-barchart-distribution-py\n",
    "    \"\"\"\n",
    "    Parameters\n",
    "    ----------\n",
    "    scores         : dict\n",
    "        A mapping from question labels to a list of answers per category.\n",
    "        It is assumed all lists contain the same number of entries and that\n",
    "        it matches the length of *category_names*. The order is assumed\n",
    "        to be from 'Strongly disagree' to 'Strongly aisagree'\n",
    "    category_names : list of str\n",
    "        The category labels.\n",
    "    \"\"\"\n",
    "    \n",
    "    labels = list(scores.keys())\n",
    "    data = np.array(list(scores.values()))\n",
    "    data_cum = data.cumsum(axis=1)\n",
    "    middle_index = data.shape[1]//2\n",
    "    offsets = data[:, range(middle_index)].sum(axis=1) + data[:, middle_index]/2\n",
    "    \n",
    "    # Color Mapping\n",
    "    category_colors = plt.get_cmap('coolwarm_r')(\n",
    "        np.linspace(0.15, 0.85, data.shape[1]))\n",
    "    \n",
    "    fig, ax = plt.subplots(figsize=(10, 5))\n",
    "    \n",
    "    # Plot Bars\n",
    "    for i, (colname, color) in enumerate(zip(category_names, category_colors)):\n",
    "        widths = data[:, i]\n",
    "        if i == 0:\n",
    "            starts = -data_cum[:, i]\n",
    "        else:\n",
    "            starts = data_cum[:, i] - data_cum[:, i]\n",
    "        rects = ax.barh(labels, widths, left=starts, height=0.5,\n",
    "                        label=colname, color=color)\n",
    "    \n",
    "    # Add Zero Reference Line\n",
    "    ax.axvline(0, linestyle='--', color='black', alpha=.25)\n",
    "    \n",
    "    # X Axis\n",
    "    # Find the range\n",
    "    max_range = math.ceil(max(sum(scores.values(), [])) / 10)*10\n",
    "    \n",
    "    ax.set_xlim(-max_range, max_range)\n",
    "    ax.set_xticks(np.arange(-max_range, max_range+1, round(max_range // 10, -1)))\n",
    "    ax.xaxis.set_major_formatter(lambda x, pos: str(abs(int(x))))\n",
    "    \n",
    "    # Y Axis\n",
    "    ax.invert_yaxis()\n",
    "    \n",
    "    # Remove spines\n",
    "    ax.spines['right'].set_visible(False)\n",
    "    ax.spines['top'].set_visible(False)\n",
    "    ax.spines['left'].set_visible(False)\n",
    "    \n",
    "    # Ledgend\n",
    "    ax.legend(ncol=len(category_names), bbox_to_anchor=(0, 1),\n",
    "              loc='lower left', fontsize='small')\n",
    "    \n",
    "    # Set Background Color\n",
    "    fig.set_facecolor('#FFFFFF')\n",
    "    \n",
    "    plt.title(\"Empire Hotel - Reviews Dashboard\")\n",
    "\n",
    "    return fig, ax"
   ]
  },
  {
   "cell_type": "code",
   "execution_count": 25,
   "id": "9da3245e",
   "metadata": {
    "colab": {
     "base_uri": "https://localhost:8080/",
     "height": 632
    },
    "executionInfo": {
     "elapsed": 850,
     "status": "error",
     "timestamp": 1664805823445,
     "user": {
      "displayName": "Yuval Belfer",
      "userId": "07320741718658062934"
     },
     "user_tz": -180
    },
    "id": "9da3245e",
    "outputId": "7c112361-8a91-4315-80d3-2ca48a9346e0"
   },
   "outputs": [
    {
     "data": {
      "image/png": "[encoded data removed]",
      "text/plain": [
       "<Figure size 1000x500 with 1 Axes>"
      ]
     },
     "metadata": {},
     "output_type": "display_data"
    }
   ],
   "source": [
    "fig, ax = plot_dashboard(scores, category_names)\n",
    "plt.show()"
   ]
  }
 ],
 "metadata": {
  "colab": {
   "collapsed_sections": [],
   "provenance": []
  },
  "kernelspec": {
   "display_name": "Python 3 (ipykernel)",
   "language": "python",
   "name": "python3"
  },
  "language_info": {
   "codemirror_mode": {
    "name": "ipython",
    "version": 3
   },
   "file_extension": ".py",
   "mimetype": "text/x-python",
   "name": "python",
   "nbconvert_exporter": "python",
   "pygments_lexer": "ipython3",
   "version": "3.9.6"
  }
 },
 "nbformat": 4,
 "nbformat_minor": 5
}
