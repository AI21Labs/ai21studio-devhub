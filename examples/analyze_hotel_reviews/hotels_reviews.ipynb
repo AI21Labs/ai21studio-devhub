{
 "cells": [
  {
   "cell_type": "markdown",
   "id": "c5e7b8d8",
   "metadata": {
    "id": "c5e7b8d8"
   },
   "source": [
    "# Analyzing Hotels reviews using sophisticated sentiment analysis"
   ]
  },
  {
   "cell_type": "markdown",
   "id": "58540dbc",
   "metadata": {
    "id": "58540dbc"
   },
   "source": [
    "## Imports"
   ]
  },
  {
   "cell_type": "code",
   "execution_count": 1,
   "id": "yIo6TkB2dIA7",
   "metadata": {
    "colab": {
     "base_uri": "https://localhost:8080/"
    },
    "executionInfo": {
     "elapsed": 5623,
     "status": "ok",
     "timestamp": 1664805719856,
     "user": {
      "displayName": "Yuval Belfer",
      "userId": "07320741718658062934"
     },
     "user_tz": -180
    },
    "id": "yIo6TkB2dIA7",
    "outputId": "2400ad2c-b902-43af-f48b-1f2b67f19796"
   },
   "outputs": [
    {
     "name": "stdout",
     "output_type": "stream",
     "text": [
      "Requirement already satisfied: langdetect in /Users/yuvalbelfer/.pyenv/versions/3.9.6/envs/jupyter-env/lib/python3.9/site-packages (1.0.9)\r\n",
      "Requirement already satisfied: six in /Users/yuvalbelfer/.pyenv/versions/3.9.6/envs/jupyter-env/lib/python3.9/site-packages (from langdetect) (1.16.0)\r\n"
     ]
    }
   ],
   "source": [
    "!pip install langdetect"
   ]
  },
  {
   "cell_type": "code",
   "execution_count": 2,
   "id": "2497dacf",
   "metadata": {
    "executionInfo": {
     "elapsed": 848,
     "status": "ok",
     "timestamp": 1664805722944,
     "user": {
      "displayName": "Yuval Belfer",
      "userId": "07320741718658062934"
     },
     "user_tz": -180
    },
    "id": "2497dacf"
   },
   "outputs": [],
   "source": [
    "import requests\n",
    "from langdetect import detect\n",
    "import ast\n",
    "import pandas as pd\n",
    "import numpy as np\n",
    "import matplotlib.pyplot as plt"
   ]
  },
  {
   "cell_type": "markdown",
   "id": "cf2f1ca7",
   "metadata": {},
   "source": [
    "### API keys\n",
    "Note that we use two APIs throughout this notebook, hence two different keys are required. How you can get them?\n",
    "\n",
    "**RapidAPI key**: create a free account at [RapidAPI](https://rapidapi.com/hub).\n",
    "\n",
    "**AI21 Studio**: create a free account at [AI21 Studio](https://studio.ai21.com). You can see you API key in the *Account* tab."
   ]
  },
  {
   "cell_type": "code",
   "execution_count": 3,
   "id": "9c3e0d33",
   "metadata": {
    "executionInfo": {
     "elapsed": 339,
     "status": "ok",
     "timestamp": 1664805729641,
     "user": {
      "displayName": "Yuval Belfer",
      "userId": "07320741718658062934"
     },
     "user_tz": -180
    },
    "id": "9c3e0d33"
   },
   "outputs": [],
   "source": [
    "RAPID_API_KEY = \"\"\n",
    "AI21Studio_API_KEY = \"\""
   ]
  },
  {
   "cell_type": "markdown",
   "id": "c243094f",
   "metadata": {
    "id": "c243094f"
   },
   "source": [
    "## Connect to Hotels API and collect reviews"
   ]
  },
  {
   "cell_type": "code",
   "execution_count": 4,
   "id": "9424d8ab",
   "metadata": {},
   "outputs": [],
   "source": [
    "GET_REVIEWS_URL = \"https://hotels-com-provider.p.rapidapi.com/v1/hotels/reviews\"\n",
    "\n",
    "def get_hotel_reviews_page(hotel_id, page_number):\n",
    "    params = {\n",
    "        \"locale\": \"en_US\", \n",
    "        \"hotel_id\": hotel_id, \n",
    "        \"page_number\": str(page_number)\n",
    "    }\n",
    "    headers = {\n",
    "        \"X-RapidAPI-Key\": RAPID_API_KEY,\n",
    "        \"X-RapidAPI-Host\": \"hotels-com-provider.p.rapidapi.com\"\n",
    "    }\n",
    "    response = requests.get(url=GET_REVIEWS_URL, headers=headers, params=params)\n",
    "     \n",
    "    reviews = [\n",
    "        review['summary'] \n",
    "        for page_reviews in response.json()['groupReview']\n",
    "        for review in page_reviews['reviews']\n",
    "    ]\n",
    "    return reviews\n",
    "\n",
    "\n",
    "def get_hotel_reviews(hotel_id, num_pages):\n",
    "    all_reviews = sum(\n",
    "        [get_hotel_reviews_page(hotel_id, page_number) for page_number in range(1, num_pages + 1)],\n",
    "        start=[]\n",
    "    )\n",
    "    return all_reviews"
   ]
  },
  {
   "cell_type": "code",
   "execution_count": 5,
   "id": "9d888dcc",
   "metadata": {
    "executionInfo": {
     "elapsed": 4012,
     "status": "ok",
     "timestamp": 1664805743418,
     "user": {
      "displayName": "Yuval Belfer",
      "userId": "07320741718658062934"
     },
     "user_tz": -180
    },
    "id": "9d888dcc"
   },
   "outputs": [],
   "source": [
    "# This is the hotel: https://www.hotels.com/ho125729/?locale=en_IL&pos=HCOM_IL&siteid=300000016\n",
    "\n",
    "reviews = get_hotel_reviews(hotel_id=125729, num_pages=8)"
   ]
  },
  {
   "cell_type": "code",
   "execution_count": 6,
   "id": "851a9c4d",
   "metadata": {
    "colab": {
     "base_uri": "https://localhost:8080/"
    },
    "executionInfo": {
     "elapsed": 419,
     "status": "ok",
     "timestamp": 1664805747939,
     "user": {
      "displayName": "Yuval Belfer",
      "userId": "07320741718658062934"
     },
     "user_tz": -180
    },
    "id": "851a9c4d",
    "outputId": "3faf4c43-638c-41d3-efae-537b6361374f"
   },
   "outputs": [
    {
     "name": "stdout",
     "output_type": "stream",
     "text": [
      "400\n"
     ]
    }
   ],
   "source": [
    "print(len(reviews))"
   ]
  },
  {
   "cell_type": "markdown",
   "id": "29075012",
   "metadata": {
    "id": "29075012"
   },
   "source": [
    "## Pre-Process the reviews"
   ]
  },
  {
   "cell_type": "markdown",
   "id": "8194c879",
   "metadata": {
    "id": "8194c879"
   },
   "source": [
    "Filter reviews which are too short or not in English"
   ]
  },
  {
   "cell_type": "code",
   "execution_count": 7,
   "id": "cb3ec56a",
   "metadata": {
    "executionInfo": {
     "elapsed": 292,
     "status": "ok",
     "timestamp": 1664805752894,
     "user": {
      "displayName": "Yuval Belfer",
      "userId": "07320741718658062934"
     },
     "user_tz": -180
    },
    "id": "cb3ec56a"
   },
   "outputs": [],
   "source": [
    "def print_list(lis):\n",
    "    for item in lis:\n",
    "        print(item)\n",
    "        print(\"===========================\")"
   ]
  },
  {
   "cell_type": "code",
   "execution_count": 8,
   "id": "0df78782",
   "metadata": {
    "colab": {
     "base_uri": "https://localhost:8080/"
    },
    "executionInfo": {
     "elapsed": 20,
     "status": "ok",
     "timestamp": 1664805754103,
     "user": {
      "displayName": "Yuval Belfer",
      "userId": "07320741718658062934"
     },
     "user_tz": -180
    },
    "id": "0df78782",
    "outputId": "97acdee5-ae11-4874-940b-69a1e35ce484"
   },
   "outputs": [
    {
     "name": "stdout",
     "output_type": "stream",
     "text": [
      "Service was quite bad.  \n",
      "===========================\n",
      "Quiet- great location \n",
      "===========================\n",
      "Very affordable (at least for NYC) and great location. Rooms were a bit small but clean and comfortable. \n",
      "===========================\n",
      "- View was terrible for a $500 room - the back of the other wing, at least we could hear the empty beer bottles being thrown out during the night\n",
      "- No top sheet on the bed ,just bottom & comforter\n",
      "- Bathroom tile was loose\n",
      "- 1/2 empty coke bottle in fridge\n",
      "- No Coffee or even a continental breakfast, granola bars or a piece of fruit included\n",
      "- Pool & pool deck is closed\n",
      "- Rooftop bar is not affiliated with hotel \n",
      "- towels are dumped in the lobby if you want more, classy\n",
      "- Corridors are too dark\n",
      "Bathroom is sized and looks like it came from an RV \n",
      "\n",
      "\n",
      "\n",
      "===========================\n",
      "Excellent place to stay especially if you have tickets to events at Lincoln Center.\n",
      "===========================\n",
      "I have stayed here before and had no problem but this time when I checked in I was given a room with a full size bed when my reservation was for a qn. When I notified the hotel they told me that the the room I was in was a qn rm. while it may be a qn rm it was definitely a full bed\n",
      "===========================\n",
      "Stayed here one night for business. Hotel is showing major signs of wear  - scuffed trims, peeling paint, peeling wallpaper, worn furniture, missing grout in shower. The lobby is maintained but the hallways and rooms are  neglected. The heat didn’t work in my room either (called from desk and maintenance came but unable to fix) uncomfortable (cold) sleep. Would not recommend. \n",
      "===========================\n",
      "Old hotel in need of renovation. \n",
      "===========================\n",
      "Nice people\n",
      "===========================\n",
      "We've stayed here several times due to the proximity to Fordham U.  This hotel could be great with some critical tweaks.  The rooms need to be updated to fix flaws paint can't hide.  Our bathroom door was literally falling apart.  The AC makes super loud blowing noise but does not cool the room. We had a cockroach the size of a small mouse climbing our wall.  Cringe worthy.  The lobby is nice, but how about opening the bar in the evenings so guests can enjoy drinks and socialize.  The staff are very pleasant.  Not sure I could recommend to a friend.    \n",
      "===========================\n",
      "Love this hotel! \n",
      "===========================\n",
      "This is a great hotel. It's location is fantastic, right across the street form Lincoln Center. The rooms are clean and reflect a great restoration connecting a vintage appearance with modern amenities. The restaurant in the building is great too.\n",
      "I'll stay here again.\n",
      "===========================\n",
      "There is no food or drink available- bar is closed, no room service- should have coffee,tea bar available as complimentary as most hotels have- tv service was limited, no hbo,tennis,hallmark channels- no microwave in rooms to reheat leftovers or food as food is horribly expensive in nyc and don’t want to waste- fridge needed defrosting badly- when requested ice - received tiny amount that melted quickly- no flyer infos in room or lobby- carpeting in elevators dirty- have stayed here before many times and it seems to have decreased in quality overall sadly\n",
      "===========================\n",
      "Great stay. \n",
      "===========================\n",
      "Great location, clean rooms, friendly staff.  Would stay again.  Bathrooms small but have everything you need.  Frig was a plus.  Easy unloading car and discounted garage a short walk away.  Safe neighborhood.\n",
      "===========================\n",
      "Tv remotehad to be fixedboth days. No promised wakeup calls both mornings\n",
      "===========================\n",
      "Staff was very helpful for my party and i\n",
      "===========================\n",
      "Horrible hotel.  Bathrooms are tiny.  Needs serious upgrade. Feels old and dirty.  I stayed an hour and then looked another hotel. Did not feel clean enough to even want to shower in.  Depressing place.  Pictures on website are completely false advertising.  \n",
      "  \n",
      "===========================\n",
      "The staff was notably friendly, helpful and happy.  Tommy at the front desk always greeted us with a smile and assisted us with a room change.  The hotel itself is a bit tired, the air conditioning was not very efficient and paint job in some areas needed repairs. But it suited our purpose and would consider staying there again. \n",
      "===========================\n",
      "The Hotel was clean, accessible, and close to everything. The staff was kind, professional, and a pleasure to connect with. Rooms were well appointed. Even with a roof top bar, the hotel was quiet on the 4th floor. Highly recommend. \n",
      "===========================\n",
      "When we checked it we were offered a free upgrade by the person at the desk however would need to wait 30 minutes.  We declined as we just wanted to rest. Once we got to our room, it was freezing with no ability to adjust the AC unit, the TV was broken and when trying to call from the phone, the cord was frayed an almost ripped out of the phone.  I was able to contact the front desk and say that I wanted the upgrade and was heading downstairs to get a new room. I was in essence told I was a liar, there was no upgrade for me, but they would give me a new room.  The rooms were both gross, not cleaned under the beds, and spray on the pictures in the rooms.  The room also needed significant repair.  It is crazy that is what so sub par considering the cost.\n",
      "===========================\n",
      "Tired old hotel. Rehab was painting over dry rot on the baseboards. \n",
      "===========================\n",
      "Lovely hotel in excellent location. Clean and great decor. Loved the oversized sofas in lobby. But rooftop area favorite spot!\n",
      "===========================\n",
      "Love this hotel.  Will continue to stay in the future.  The halls are VERY dark and our room was also very dark.  Had to use lights on our phones to unpack and repack bas to see what we were doing.  Our room did not have much natural lighting.  \n",
      "===========================\n",
      "Wonderful staff and a dynamite location.\n",
      "===========================\n",
      "Ran out of hot Water, A/C unit wasn’t working properly \n",
      "===========================\n",
      "Starbucks right around the corner, absolutely beautiful, attentive staff. Great experience.\n",
      "===========================\n",
      "This hotel used to be great but the rooms are in major need of renovation. \n",
      "===========================\n",
      "Just terrible. Although we suffer bed bag, they charge us full amount and no apologies. They kept us 30min in the reception to check bed bug and found bed bag, but no apologies. Further we agreed to cancel all, but they charge us afterwards. We would like to request compensation for suffering bedbugs. \n",
      "===========================\n",
      "This is hotel is simply a disaster for the price. I will never come back. \n",
      "===========================\n"
     ]
    }
   ],
   "source": [
    "# Look at them\n",
    "print_list(reviews[:30])"
   ]
  },
  {
   "cell_type": "code",
   "execution_count": 9,
   "id": "5f9fe7a3",
   "metadata": {
    "executionInfo": {
     "elapsed": 360,
     "status": "ok",
     "timestamp": 1664805759536,
     "user": {
      "displayName": "Yuval Belfer",
      "userId": "07320741718658062934"
     },
     "user_tz": -180
    },
    "id": "5f9fe7a3"
   },
   "outputs": [],
   "source": [
    "def filter_reviews(reviews):\n",
    "    en_reviews = [review for review in reviews if len(review)>=20 and detect(review)==\"en\"]\n",
    "            \n",
    "    return en_reviews"
   ]
  },
  {
   "cell_type": "code",
   "execution_count": 10,
   "id": "29191d65",
   "metadata": {
    "colab": {
     "base_uri": "https://localhost:8080/"
    },
    "executionInfo": {
     "elapsed": 2794,
     "status": "ok",
     "timestamp": 1664805763687,
     "user": {
      "displayName": "Yuval Belfer",
      "userId": "07320741718658062934"
     },
     "user_tz": -180
    },
    "id": "29191d65",
    "outputId": "286958ab-3acf-42f8-a3cc-21436a97549c"
   },
   "outputs": [
    {
     "name": "stdout",
     "output_type": "stream",
     "text": [
      "353\n"
     ]
    }
   ],
   "source": [
    "en_reviews = filter_reviews(reviews)\n",
    "\n",
    "print(len(en_reviews))"
   ]
  },
  {
   "cell_type": "code",
   "execution_count": 11,
   "id": "653722aa",
   "metadata": {
    "colab": {
     "base_uri": "https://localhost:8080/"
    },
    "executionInfo": {
     "elapsed": 35,
     "status": "ok",
     "timestamp": 1664805765363,
     "user": {
      "displayName": "Yuval Belfer",
      "userId": "07320741718658062934"
     },
     "user_tz": -180
    },
    "id": "653722aa",
    "outputId": "e6fbb478-2ccd-45e2-f291-e42085765f05"
   },
   "outputs": [
    {
     "name": "stdout",
     "output_type": "stream",
     "text": [
      "Service was quite bad.  \n",
      "===========================\n",
      "Quiet- great location \n",
      "===========================\n",
      "Very affordable (at least for NYC) and great location. Rooms were a bit small but clean and comfortable. \n",
      "===========================\n",
      "- View was terrible for a $500 room - the back of the other wing, at least we could hear the empty beer bottles being thrown out during the night\n",
      "- No top sheet on the bed ,just bottom & comforter\n",
      "- Bathroom tile was loose\n",
      "- 1/2 empty coke bottle in fridge\n",
      "- No Coffee or even a continental breakfast, granola bars or a piece of fruit included\n",
      "- Pool & pool deck is closed\n",
      "- Rooftop bar is not affiliated with hotel \n",
      "- towels are dumped in the lobby if you want more, classy\n",
      "- Corridors are too dark\n",
      "Bathroom is sized and looks like it came from an RV \n",
      "\n",
      "\n",
      "\n",
      "===========================\n",
      "Excellent place to stay especially if you have tickets to events at Lincoln Center.\n",
      "===========================\n",
      "I have stayed here before and had no problem but this time when I checked in I was given a room with a full size bed when my reservation was for a qn. When I notified the hotel they told me that the the room I was in was a qn rm. while it may be a qn rm it was definitely a full bed\n",
      "===========================\n",
      "Stayed here one night for business. Hotel is showing major signs of wear  - scuffed trims, peeling paint, peeling wallpaper, worn furniture, missing grout in shower. The lobby is maintained but the hallways and rooms are  neglected. The heat didn’t work in my room either (called from desk and maintenance came but unable to fix) uncomfortable (cold) sleep. Would not recommend. \n",
      "===========================\n",
      "Old hotel in need of renovation. \n",
      "===========================\n",
      "We've stayed here several times due to the proximity to Fordham U.  This hotel could be great with some critical tweaks.  The rooms need to be updated to fix flaws paint can't hide.  Our bathroom door was literally falling apart.  The AC makes super loud blowing noise but does not cool the room. We had a cockroach the size of a small mouse climbing our wall.  Cringe worthy.  The lobby is nice, but how about opening the bar in the evenings so guests can enjoy drinks and socialize.  The staff are very pleasant.  Not sure I could recommend to a friend.    \n",
      "===========================\n",
      "This is a great hotel. It's location is fantastic, right across the street form Lincoln Center. The rooms are clean and reflect a great restoration connecting a vintage appearance with modern amenities. The restaurant in the building is great too.\n",
      "I'll stay here again.\n",
      "===========================\n",
      "There is no food or drink available- bar is closed, no room service- should have coffee,tea bar available as complimentary as most hotels have- tv service was limited, no hbo,tennis,hallmark channels- no microwave in rooms to reheat leftovers or food as food is horribly expensive in nyc and don’t want to waste- fridge needed defrosting badly- when requested ice - received tiny amount that melted quickly- no flyer infos in room or lobby- carpeting in elevators dirty- have stayed here before many times and it seems to have decreased in quality overall sadly\n",
      "===========================\n",
      "Great location, clean rooms, friendly staff.  Would stay again.  Bathrooms small but have everything you need.  Frig was a plus.  Easy unloading car and discounted garage a short walk away.  Safe neighborhood.\n",
      "===========================\n",
      "Tv remotehad to be fixedboth days. No promised wakeup calls both mornings\n",
      "===========================\n",
      "Staff was very helpful for my party and i\n",
      "===========================\n",
      "Horrible hotel.  Bathrooms are tiny.  Needs serious upgrade. Feels old and dirty.  I stayed an hour and then looked another hotel. Did not feel clean enough to even want to shower in.  Depressing place.  Pictures on website are completely false advertising.  \n",
      "  \n",
      "===========================\n",
      "The staff was notably friendly, helpful and happy.  Tommy at the front desk always greeted us with a smile and assisted us with a room change.  The hotel itself is a bit tired, the air conditioning was not very efficient and paint job in some areas needed repairs. But it suited our purpose and would consider staying there again. \n",
      "===========================\n",
      "The Hotel was clean, accessible, and close to everything. The staff was kind, professional, and a pleasure to connect with. Rooms were well appointed. Even with a roof top bar, the hotel was quiet on the 4th floor. Highly recommend. \n",
      "===========================\n",
      "When we checked it we were offered a free upgrade by the person at the desk however would need to wait 30 minutes.  We declined as we just wanted to rest. Once we got to our room, it was freezing with no ability to adjust the AC unit, the TV was broken and when trying to call from the phone, the cord was frayed an almost ripped out of the phone.  I was able to contact the front desk and say that I wanted the upgrade and was heading downstairs to get a new room. I was in essence told I was a liar, there was no upgrade for me, but they would give me a new room.  The rooms were both gross, not cleaned under the beds, and spray on the pictures in the rooms.  The room also needed significant repair.  It is crazy that is what so sub par considering the cost.\n",
      "===========================\n",
      "Tired old hotel. Rehab was painting over dry rot on the baseboards. \n",
      "===========================\n",
      "Lovely hotel in excellent location. Clean and great decor. Loved the oversized sofas in lobby. But rooftop area favorite spot!\n",
      "===========================\n",
      "Love this hotel.  Will continue to stay in the future.  The halls are VERY dark and our room was also very dark.  Had to use lights on our phones to unpack and repack bas to see what we were doing.  Our room did not have much natural lighting.  \n",
      "===========================\n",
      "Wonderful staff and a dynamite location.\n",
      "===========================\n",
      "Ran out of hot Water, A/C unit wasn’t working properly \n",
      "===========================\n",
      "Starbucks right around the corner, absolutely beautiful, attentive staff. Great experience.\n",
      "===========================\n",
      "This hotel used to be great but the rooms are in major need of renovation. \n",
      "===========================\n",
      "Just terrible. Although we suffer bed bag, they charge us full amount and no apologies. They kept us 30min in the reception to check bed bug and found bed bag, but no apologies. Further we agreed to cancel all, but they charge us afterwards. We would like to request compensation for suffering bedbugs. \n",
      "===========================\n",
      "This is hotel is simply a disaster for the price. I will never come back. \n",
      "===========================\n",
      "The lobby was immaculate but my room was outdated, the air conditioning didn’t work, I had to request a remote control for the TV, and was only provided 1 wash cloth when 2 per room is standard. The staff was friendly but hard to reach. The location was excellent and the Rooftop Restaurant was awesome. I also don’t appreciate that I was not told the pool was closed prior to my arrival- it’s advertised as having a pool. I expected much better quality for the price I paid to stay in this Hotel\n",
      "===========================\n",
      "We arrived early, and asked at the desk if they can hold our luggage and check in. The woman behind the counter (Sept 10,2022) was having a bad day perhaps because she was not smiling, rude and when my friend asked for some waters she really got annoyed. We were crammed in our room, there was four people. No mini fridge, no Keurig, no ice bucket and no wash cloths only three hand towels. The bathroom was so small it was hard to walk into it and turn to use the toilet. Room service personnel were a delight. Smiles and happy to help us out. When I had to ask the front desk for four bath towels, the woman again helped me but gave me the look and rolls her eyes. I paid over $600.00 to stay at this hotel and I really thing they could of treated me better, even if it was service with a smile. The rooftop bar was nothing to write home about but the staff were good with people.\n",
      "===========================\n",
      "This property is perfectly located to Central Park and tons of restaurants.  It is easily walkable to everything.\n",
      "===========================\n"
     ]
    }
   ],
   "source": [
    "print_list(en_reviews[:30])"
   ]
  },
  {
   "cell_type": "markdown",
   "id": "b6801f5f",
   "metadata": {
    "id": "b6801f5f"
   },
   "source": [
    "## Find the sentiments for each reviews using AI21 Studio\n",
    "### Building a prompt - annotating few examples\n",
    "### Sending completion request to one of Jurassic-1 models"
   ]
  },
  {
   "cell_type": "markdown",
   "id": "93d1f528",
   "metadata": {
    "id": "93d1f528"
   },
   "source": [
    "The structure of the prompt will be in the following:\n",
    "\n",
    "Review:\n",
    "\n",
    "Extracted sentiment:\n",
    "    \n",
    "<json format, where each key is a field and the values are Positive/Negative>\n",
    "\n",
    "See the prompt in the [playground](https://studio.ai21.com/playground?promptShare=2beb29f3-0e66-4d95-9df7-155bde01fc37)"
   ]
  },
  {
   "cell_type": "code",
   "execution_count": 12,
   "id": "20191779",
   "metadata": {
    "executionInfo": {
     "elapsed": 288,
     "status": "ok",
     "timestamp": 1664805771271,
     "user": {
      "displayName": "Yuval Belfer",
      "userId": "07320741718658062934"
     },
     "user_tz": -180
    },
    "id": "20191779"
   },
   "outputs": [],
   "source": [
    "def j1_request(input_text, temp=0, model=\"grande\"):\n",
    "    \"\"\"\n",
    "        Send a completion request to one of Jurassic-1 models\n",
    "\n",
    "        Arguments:\n",
    "        - input_text   : The prompt you want to feed into the model (string)\n",
    "        - temp         : Temperature, any value between 0-1 (float)\n",
    "        - model        : jumbo, grande or large (string; default is grande)\n",
    "\n",
    "        Returns:\n",
    "        - completion   : the completion generated by the model\n",
    "    \"\"\"\n",
    "\n",
    "    if model not in [\"large\", \"grande\", \"jumbo\"]:\n",
    "        print(\"model must be jumbo, grande or large!\")\n",
    "        return\n",
    "\n",
    "    model_url = f\"https://api.ai21.com/studio/v1/j1-{model}/complete\"\n",
    "\n",
    "    ## Send the completion request\n",
    "    response = requests.post(model_url,\n",
    "                             headers={\"Authorization\": f\"Bearer {AI21Studio_API_KEY}\"},\n",
    "                             json={\n",
    "                                 \"prompt\": input_text,\n",
    "                                 \"numResults\": 1,\n",
    "                                 \"maxTokens\": 100,\n",
    "                                 \"temperature\": temp,\n",
    "                                 \"topKReturn\": 0,\n",
    "                                 \"topP\": 0.9,\n",
    "                                 \"stopSequences\": [\"##\"]\n",
    "                             }\n",
    "                        )\n",
    "\n",
    "    if response.status_code != 200:\n",
    "        raise Exception(f\"Completion request failed with status {response.status_code}\")\n",
    "\n",
    "    return response.json()[\"completions\"][0][\"data\"][\"text\"]"
   ]
  },
  {
   "cell_type": "code",
   "execution_count": 13,
   "id": "b4a6f1a2",
   "metadata": {
    "executionInfo": {
     "elapsed": 302,
     "status": "ok",
     "timestamp": 1664805773634,
     "user": {
      "displayName": "Yuval Belfer",
      "userId": "07320741718658062934"
     },
     "user_tz": -180
    },
    "id": "b4a6f1a2"
   },
   "outputs": [],
   "source": [
    "def create_review_prompt(review):\n",
    "    few_shot_examples = \"Review:\\nExtremely old cabinets, phone was half broken and full of dust. Bathroom door was broken, bathroom floor was dirty and yellow. Bathroom tiles were falling off. Asked to change my room and the next room was in the same conditions.  \\n\\nThe most out of date and least maintained hotel i ever been on.\\nExtracted sentiment:\\n{\\\"Cleaning\\\": \\\"Negative\\\", \\\"Hotel Facilities\\\": \\\"Negative\\\", \\\"Room Quality\\\": \\\"Negative\\\"}\\n##\\nReview:\\nWe were not checked in timely. We got room with broken window, no light. Bathroom door was broken and kept on locking out on us. We had maintenance service pass midnite keeping us up.  Hotel smelled on smoke and marihuana. Unacceptable! Full refund requested. \\nFront desk lady upon check out was rude.\\nExtracted sentiment:\\n{\\\"Service\\\": \\\"Negative\\\", \\\"Room Quality\\\": \\\"Negative\\\", \\\"Hotel Facilities\\\": \\\"Negative\\\"}\\n##\\nReview:\\nGreat experience for two  teenagers. We would book again. Location good. \\nExtracted sentiment:\\n{\\\"Location\\\": \\\"Positive\\\"}\\n##\\nReview:\\nWas overall a good stay. We decided last minute to stay another night. No one really went out of their way to help us stay in the same room so we had to check out and go to a new room. It’s okay tho I understand some of those things are out of some hands.  It also worked out bec our first room’s AC didn’t seem to be working. If I had to complain about one thing, we got a “new” towel from the shower rack (folded) to dry off and the towel smelled like fresh vomit. That was pretty gross. Didn’t really have any other issues other than that. The hotel Is beautiful. \\nExtracted sentiment:\\n{\\\"Cleaning\\\": \\\"Negative\\\", \\\"AC\\\": \\\"Negative\\\", \\\"Room Quality\\\": \\\"Positive\\\", \\\"Service\\\": \\\"Negative\\\"}\\n##\\nReview:\\nPool area was definitely a little run down and did not look like the pics online at all. Bathroom in the double room was kind of dumpy. \\nExtracted sentiment:\\n{\\\"Pool\\\": \\\"Negative\\\", \\\"Room Quality\\\": \\\"Negative\\\"}\\n##\\nReview:\\nRoof top's view is gorgeous and the lounge area is comfortable.  The staff is very courteous and the location is great.  The hotel is outdated and the shower need to be clean better.  The air condition runs all the time and cannot be control by the temperature control setting.  \\nExtracted sentiment:\\n{\\\"Cleaning\\\": \\\"Negative\\\", \\\"AC\\\": \\\"Negative\\\", \\\"Room Quality\\\": \\\"Negative\\\", \\\"Service\\\": \\\"Positive\\\", \\\"View\\\": \\\"Positive\\\", \\\"Hotel Facilities\\\": \\\"Positive\\\"}\\n## \\nReview:\\nFirst I was placed near the elevator where it was noises, the TV is not updated, the toilet was coming on and off. There was no temp control and my shower curtain smelled moldy. Not sure what happened to this place but only thing was a great location.\\nExtracted sentiment:\\n{\\\"Cleaning\\\": \\\"Negative\\\", \\\"AC\\\": \\\"Negative\\\", \\\"Room Quality\\\": \\\"Negative\\\", \\\"Location\\\": \\\"Positive\\\"}\\n##\\nReview:\\nThis is a very well located hotel and it’s nice and clean.  Would stay here again.  \\nExtracted sentiment:\\n{\\\"Cleaning\\\": \\\"Positive\\\", \\\"Location\\\": \\\"Positive\\\"}\\n##\\nReview:\\nHotel is horrendous. The room was dark and dirty. No toilet paper in the bathroom. Came here on a work trip and had zero access to WiFi even though their hotel claims to have WiFi service. I will NEVER return.\\nExtracted sentiment:\\n{\\\"Cleaning\\\": \\\"Negative\\\", \\\"WiFi\\\": \\\"Negative\\\", \\\"Room Quality\\\": \\\"Negative\\\", \\\"Service\\\": \\\"Negative\\\"}\\n##\\nReview:\\nThe rooms are small but clean and comfortable. The front desk was really busy and the lines for check-in were very long but the staff handled each person in a professional and very pleasant way. We will stay there again.\\nExtracted sentiment:\\n{\\\"Cleaning\\\": \\\"Positive\\\", \\\"Service\\\": \\\"Positive\\\"}\\n##\\nReview:\\nThe stay was very nice would stay again. The pool closes at 7 pm and doesn’t  open till 11am m. That sucked. Also our wifi went out the entire last day we were there. Thats sucked too. Overall was a nice enough stay and I love the location.\\nExtracted sentiment:\\n{\\\"Pool\\\": \\\"Negative\\\", \\\"WiFi\\\": \\\"Negative\\\", \\\"Location\\\": \\\"Positive\\\"}\\n##\\nReview:\\nTheir duvets do not come with covers. Not sure if they wash or change them for every customer. I doubt that they buy new comforters for every guest. \\nWifi is too slow and does not provide access in some parts of the room (the room is small).\\nCustomer service is not very impressive. Housekeeping forgets to bring requested items.\\nYou cannot use phone to connect with front desk or housekeeping. You will have to go downstairs to the front desk in person.\\nHot water takes a long time to come.\\nExtracted sentiment:\\n{\\\"Cleaning\\\": \\\"Negative\\\", \\\"Hotel Facilities\\\": \\\"Negative\\\", \\\"Room Quality\\\": \\\"Negative\\\", \\\"Service\\\": \\\"Negative\\\", \\\"WiFi\\\": \\\"Negative\\\"}\\n##\\nReview:\\nI will never stay here again. They said they didn’t have my booking and told me they couldn’t help me. I had to ask for a supervisor to assist me. They told me that my room wasn’t ready but 4 other ppl checked in and rooms were ready. They promised that they will call me when the room was ready and never did.The pool is a max capacity of 10. The rooms are not clean and bathroom smelled like the suer line. Ac didn’t work properly and didn’t have towels. \\nExtracted sentiment:\\n{\\\"Cleaning\\\": \\\"Negative\\\", \\\"AC\\\": \\\"Negative\\\", \\\"Room Quality\\\": \\\"Negative\\\", \\\"Service\\\": \\\"Negative\\\", \\\"Pool\\\": \\\"Negative\\\"}\\n##\\nReview:\\nIt's very convenient. Everything is right at your fingertips. Make sure you wear proper shoes for walking.\\nExtracted sentiment:\\n{\\\"Location\\\": \\\"Positive\\\"}\\n##\\nReview:\\nGreat location and friendly staff, the hotel is beautifully appointed, but it is a dump underneath the lipstick.  Rooms are nice sized for NYC, but A/C didnt work in multiple different (3) rooms, showers don’t drain, no hot water in our first of three rooms and a horrible smell in the lobby and hallways for 2 days.  \\nExtracted sentiment:\\n{\\\"AC\\\": \\\"Negative\\\", \\\"Room Quality\\\": \\\"Negative\\\", \\\"Hotel Facilities\\\": \\\"Negative\\\", \\\"Service\\\": \\\"Positive\\\", \\\"Location\\\": \\\"Positive}\\n##\\nReview:\\nJust what we wanted clean comfy beds.convenient parking across street at Lincoln center. Walking distance to Central Park, museums and Times Square. Also close to metro.\\nExtracted sentiment:\\n{\\\"Location\\\": \\\"Positive\\\", \\\"Cleaning\\\": \\\"Positive\\\"}\\n##\\nReview:\\nThe first room they gave us was abysmal--noisy, A/C didn't work properly. They moved us to another room which was a bit better, but no instructions on how to work the tv; one phone didn't work, they didn't give us new towels when asked and I could go on and on. The rooms definitely need major updating! For the price the value was not good.\\nExtracted sentiment:\\n{\\\"AC\\\": \\\"Negative\\\", \\\"Room Quality\\\": \\\"Negative\\\", \\\"Hotel Facilities\\\": \\\"Negative\\\", \\\"Service\\\": \\\"Negative\\\"}\\n##\\nReview:\\nThe staff at Empire are very accommodating. However, the hotel rugs in the elevator and hallways were filthy. It is not just an old hotel. After trying two rooms, third time was a charm for a room that did not have a moldy smell. \\nExtracted sentiment:\\n{\\\"Cleaning\\\": \\\"Negative\\\", \\\"Hotel Facilities\\\": \\\"Negative\\\", \\\"Room Quality\\\": \\\"Negative\\\", \\\"Service\\\": \\\"Positive\\\"}\\n##\\nReview:\\nLocation, location, location!  You are virtually steps away from Lincoln Center and a few more to Juliard. Then it’s a hop skip and jump to Central Park and Columbus Circle.\\nThe lobby and door staff were exceptionally friendly and helpful. And special kudos to the cleaning staff. They didn’t miss a beat and kept our room and the hallways immaculately clean.\\nThe wi-fi really sucks! Can’t believe they are allowed to claim it as an amenity.\\nThe rooftop lounge allows you to overlook the wi-fi.\\nExtracted sentiment:\\n{\\\"Location\\\": \\\"Positive\\\", \\\"Cleaning\\\": \\\"Positive\\\", \\\"Service\\\": \\\"Positive\\\", \\\"WiFi\\\": \\\"Negative\\\"}\\n##Review:\\n\"\n",
    "    prompt = few_shot_examples + review + \"\\nExtracted sentiment:\\n\"\n",
    "    return prompt"
   ]
  },
  {
   "cell_type": "code",
   "execution_count": 14,
   "id": "f0cc68ab",
   "metadata": {
    "executionInfo": {
     "elapsed": 3,
     "status": "ok",
     "timestamp": 1664805775391,
     "user": {
      "displayName": "Yuval Belfer",
      "userId": "07320741718658062934"
     },
     "user_tz": -180
    },
    "id": "f0cc68ab"
   },
   "outputs": [],
   "source": [
    "def batch_reviews(reviews, model=\"jumbo\"):\n",
    "    \"\"\"\n",
    "        Given a list of reviews, generates sentiment analysis per review\n",
    "        Using Jurassic-1 language models\n",
    "\n",
    "        Arguments:\n",
    "        - reviews      : List of reviews of a specific hotel\n",
    "        - model        : jumbo, grande or large (string; default is jumbo)\n",
    "\n",
    "        Returns:\n",
    "        - sentiments   : List of sentiments per review in json format\n",
    "    \"\"\"\n",
    "    \n",
    "    sentiments = []\n",
    "    for counter, review in enumerate(reviews):\n",
    "        prompt = create_review_prompt(review.strip())\n",
    "        completion = j1_request(input_text=prompt, model=model)\n",
    "        sentiments.append(completion)\n",
    "        if counter and counter % 10 == 0:\n",
    "            print(f\"Finished {counter} requests!\")\n",
    "    \n",
    "    return sentiments       "
   ]
  },
  {
   "cell_type": "code",
   "execution_count": 15,
   "id": "491dd4e1",
   "metadata": {
    "colab": {
     "base_uri": "https://localhost:8080/"
    },
    "executionInfo": {
     "elapsed": 23832,
     "status": "ok",
     "timestamp": 1664805806743,
     "user": {
      "displayName": "Yuval Belfer",
      "userId": "07320741718658062934"
     },
     "user_tz": -180
    },
    "id": "491dd4e1",
    "outputId": "29d87c10-932e-4c7c-d535-21f1db85290f"
   },
   "outputs": [
    {
     "name": "stdout",
     "output_type": "stream",
     "text": [
      "Finished 10 requests!\n",
      "Finished 20 requests!\n",
      "Finished 30 requests!\n",
      "Finished 40 requests!\n",
      "Finished 50 requests!\n",
      "Finished 60 requests!\n",
      "Finished 70 requests!\n",
      "Finished 80 requests!\n",
      "Finished 90 requests!\n",
      "Finished 100 requests!\n",
      "Finished 110 requests!\n",
      "Finished 120 requests!\n",
      "Finished 130 requests!\n",
      "Finished 140 requests!\n",
      "Finished 150 requests!\n",
      "Finished 160 requests!\n",
      "Finished 170 requests!\n",
      "Finished 180 requests!\n",
      "Finished 190 requests!\n",
      "Finished 200 requests!\n",
      "Finished 210 requests!\n",
      "Finished 220 requests!\n",
      "Finished 230 requests!\n",
      "Finished 240 requests!\n",
      "Finished 250 requests!\n",
      "Finished 260 requests!\n",
      "Finished 270 requests!\n",
      "Finished 280 requests!\n",
      "Finished 290 requests!\n",
      "Finished 300 requests!\n",
      "Finished 310 requests!\n",
      "Finished 320 requests!\n",
      "Finished 330 requests!\n",
      "Finished 340 requests!\n",
      "Finished 350 requests!\n"
     ]
    }
   ],
   "source": [
    "sentiments = batch_reviews(en_reviews, model=\"jumbo\")"
   ]
  },
  {
   "cell_type": "markdown",
   "id": "c4ed037d",
   "metadata": {
    "id": "c4ed037d"
   },
   "source": [
    "## (Experimental) Sample a random review and check the results"
   ]
  },
  {
   "cell_type": "code",
   "execution_count": null,
   "id": "c3104b33",
   "metadata": {
    "colab": {
     "base_uri": "https://localhost:8080/"
    },
    "executionInfo": {
     "elapsed": 3,
     "status": "ok",
     "timestamp": 1664805808122,
     "user": {
      "displayName": "Yuval Belfer",
      "userId": "07320741718658062934"
     },
     "user_tz": -180
    },
    "id": "c3104b33",
    "outputId": "cb0bf99f-7682-4348-965e-7d76018eee8b"
   },
   "outputs": [],
   "source": [
    "i = \n",
    "print(en_reviews[i])\n",
    "print(sentiments[i])"
   ]
  },
  {
   "cell_type": "markdown",
   "id": "fc2ff807",
   "metadata": {
    "id": "fc2ff807"
   },
   "source": [
    "## Create the dashboard"
   ]
  },
  {
   "cell_type": "code",
   "execution_count": 16,
   "id": "48cadd3b",
   "metadata": {
    "executionInfo": {
     "elapsed": 352,
     "status": "ok",
     "timestamp": 1664805816277,
     "user": {
      "displayName": "Yuval Belfer",
      "userId": "07320741718658062934"
     },
     "user_tz": -180
    },
    "id": "48cadd3b"
   },
   "outputs": [],
   "source": [
    "def get_topK_categories_and_score(sentiments, k=7):\n",
    "    \"\"\"\n",
    "        Given a list of sentiments and number of top categories, create data for dashboard\n",
    "\n",
    "        Arguments:\n",
    "        - sentiments       : list of sentiments, each in json format\n",
    "        - k                : how many categories to return\n",
    "\n",
    "        Returns:\n",
    "        - category_names   : the scores each category can get (in this case, Positive and Negative)\n",
    "        - scores           : dict,\n",
    "                             each key is a category\n",
    "                             each value\n",
    "    \"\"\"\n",
    "\n",
    "    parsed_sentiments = []\n",
    "    for sentiment in sentiments:\n",
    "      try:\n",
    "         parsed_sentiments.append(ast.literal_eval(sentiment))\n",
    "      except SyntaxError:\n",
    "        pass\n",
    "    \n",
    "    df = pd.DataFrame(parsed_sentiments)\n",
    "\n",
    "    # extract the K categories with the most reviews    \n",
    "    keys = df.count().sort_values(ascending=False)[:k].index.tolist()\n",
    "    \n",
    "    category_names = ['Negative', 'Positive']\n",
    "    scores = {}\n",
    "\n",
    "    for key in keys:\n",
    "        scores[key] = [(df[key] == category_names[0]).sum(), (df[key] == category_names[1]).sum()]\n",
    "        \n",
    "    return scores, category_names"
   ]
  },
  {
   "cell_type": "code",
   "execution_count": 17,
   "id": "d37ac8ad",
   "metadata": {
    "executionInfo": {
     "elapsed": 441,
     "status": "ok",
     "timestamp": 1664805820069,
     "user": {
      "displayName": "Yuval Belfer",
      "userId": "07320741718658062934"
     },
     "user_tz": -180
    },
    "id": "d37ac8ad"
   },
   "outputs": [],
   "source": [
    "scores, category_names = get_topK_categories_and_score(sentiments, k=7)"
   ]
  },
  {
   "cell_type": "code",
   "execution_count": 18,
   "id": "294920eb",
   "metadata": {
    "executionInfo": {
     "elapsed": 1,
     "status": "ok",
     "timestamp": 1664805822127,
     "user": {
      "displayName": "Yuval Belfer",
      "userId": "07320741718658062934"
     },
     "user_tz": -180
    },
    "id": "294920eb"
   },
   "outputs": [],
   "source": [
    "# Based on: https://matplotlib.org/stable/gallery/lines_bars_and_markers/horizontal_barchart_distribution.html#sphx-glr-gallery-lines-bars-and-markers-horizontal-barchart-distribution-py\n",
    "def plot_dashboard(scores, category_names):\n",
    "    \"\"\"\n",
    "    Parameters\n",
    "    ----------\n",
    "    scores         : dict\n",
    "        A mapping from question labels to a list of answers per category.\n",
    "        It is assumed all lists contain the same number of entries and that\n",
    "        it matches the length of *category_names*. The order is assumed\n",
    "        to be from 'Strongly disagree' to 'Strongly aisagree'\n",
    "    category_names : list of str\n",
    "        The category labels.\n",
    "    \"\"\"\n",
    "    \n",
    "    labels = list(scores.keys())\n",
    "    data = np.array(list(scores.values()))\n",
    "    data_cum = data.cumsum(axis=1)\n",
    "    middle_index = data.shape[1]//2\n",
    "    offsets = data[:, range(middle_index)].sum(axis=1) + data[:, middle_index]/2\n",
    "    \n",
    "    # Color Mapping\n",
    "    category_colors = plt.get_cmap('coolwarm_r')(\n",
    "        np.linspace(0.15, 0.85, data.shape[1]))\n",
    "    \n",
    "    fig, ax = plt.subplots(figsize=(10, 5))\n",
    "    \n",
    "    # Plot Bars\n",
    "    for i, (colname, color) in enumerate(zip(category_names, category_colors)):\n",
    "        widths = data[:, i]\n",
    "        if i == 0:\n",
    "            starts = -data_cum[:, i]\n",
    "        else:\n",
    "            starts = data_cum[:, i] - data_cum[:, i]\n",
    "        rects = ax.barh(labels, widths, left=starts, height=0.5,\n",
    "                        label=colname, color=color)\n",
    "    \n",
    "    # Add Zero Reference Line\n",
    "    ax.axvline(0, linestyle='--', color='black', alpha=.25)\n",
    "    \n",
    "    # X Axis\n",
    "    ax.set_xlim(-200, 200)\n",
    "    ax.set_xticks(np.arange(-200, 201, 20))\n",
    "    ax.xaxis.set_major_formatter(lambda x, pos: str(abs(int(x))))\n",
    "    \n",
    "    # Y Axis\n",
    "    ax.invert_yaxis()\n",
    "    \n",
    "    # Remove spines\n",
    "    ax.spines['right'].set_visible(False)\n",
    "    ax.spines['top'].set_visible(False)\n",
    "    ax.spines['left'].set_visible(False)\n",
    "    \n",
    "    # Ledgend\n",
    "    ax.legend(ncol=len(category_names), bbox_to_anchor=(0, 1),\n",
    "              loc='lower left', fontsize='small')\n",
    "    \n",
    "    # Set Background Color\n",
    "    fig.set_facecolor('#FFFFFF')\n",
    "    \n",
    "    plt.title(\"Empire Hotel - Reviews Dashboard\")\n",
    "\n",
    "    return fig, ax"
   ]
  },
  {
   "cell_type": "code",
   "execution_count": 19,
   "id": "9da3245e",
   "metadata": {
    "colab": {
     "base_uri": "https://localhost:8080/",
     "height": 632
    },
    "executionInfo": {
     "elapsed": 850,
     "status": "error",
     "timestamp": 1664805823445,
     "user": {
      "displayName": "Yuval Belfer",
      "userId": "07320741718658062934"
     },
     "user_tz": -180
    },
    "id": "9da3245e",
    "outputId": "7c112361-8a91-4315-80d3-2ca48a9346e0"
   },
   "outputs": [
    {
     "data": {
      "image/png": "[encoded data removed]",
      "text/plain": [
       "<Figure size 1000x500 with 1 Axes>"
      ]
     },
     "metadata": {},
     "output_type": "display_data"
    }
   ],
   "source": [
    "fig, ax = plot_dashboard(scores, category_names)\n",
    "plt.show()"
   ]
  }
 ],
 "metadata": {
  "colab": {
   "collapsed_sections": [],
   "provenance": []
  },
  "kernelspec": {
   "display_name": "Python 3 (ipykernel)",
   "language": "python",
   "name": "python3"
  },
  "language_info": {
   "codemirror_mode": {
    "name": "ipython",
    "version": 3
   },
   "file_extension": ".py",
   "mimetype": "text/x-python",
   "name": "python",
   "nbconvert_exporter": "python",
   "pygments_lexer": "ipython3",
   "version": "3.9.6"
  }
 },
 "nbformat": 4,
 "nbformat_minor": 5
}
