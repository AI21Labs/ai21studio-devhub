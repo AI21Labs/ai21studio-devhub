{
 "cells": [
  {
   "attachments": {},
   "cell_type": "markdown",
   "metadata": {},
   "source": [
    "# Social media post generator"
   ]
  },
  {
   "attachments": {},
   "cell_type": "markdown",
   "metadata": {},
   "source": [
    "The goal of this notebook is to build a [social media generator](https://ai21-social-media-generator.streamlit.app/) that would create a post for Twitter or LinkedIn based on an article.\n",
    "\n",
    "The flow of the process is as follows:\n",
    "1. Get an article from a URL and summarize it.\n",
    "2. Create a post based on that summary.\n",
    "3. Filter out results and choose the best ranked generation."
   ]
  },
  {
   "attachments": {},
   "cell_type": "markdown",
   "metadata": {},
   "source": [
    "### Imports and settings"
   ]
  },
  {
   "cell_type": "code",
   "execution_count": 1,
   "metadata": {
    "id": "dQPji2ZZbwL-"
   },
   "outputs": [],
   "source": [
    "import requests\n",
    "import re\n",
    "import ai21\n",
    "import pandas as pd"
   ]
  },
  {
   "attachments": {},
   "cell_type": "markdown",
   "metadata": {
    "id": "it40RFSrdh4e"
   },
   "source": [
    "### API key\n",
    "In order to run this notebook, you will need an API key for AI21 Studio. How can you get it?\n",
    "\n",
    "Create a free account at [AI21 Studio](https://studio.ai21.com/account/api-key). Then you will find you API key in the *API Key* tab under your name."
   ]
  },
  {
   "cell_type": "code",
   "execution_count": 2,
   "metadata": {
    "id": "luGoTENScHYr"
   },
   "outputs": [],
   "source": [
    "# TODO: fill your API key from AI21 Studio account\n",
    "ai21.api_key = \"\"\n",
    "assert ai21.api_key != \"\", \"You must provide an API key!\""
   ]
  },
  {
   "attachments": {},
   "cell_type": "markdown",
   "metadata": {
    "id": "vt6GKU4bdXKN"
   },
   "source": [
    "## Read the article and summarize"
   ]
  },
  {
   "attachments": {},
   "cell_type": "markdown",
   "metadata": {},
   "source": [
    "You can use our out-of-the-box summarizer, which only require you to input some text (either as a string or a URL) and get a grounded summaries that remain faithful to the original document (i.e. no external information is added during the process). The summaries are formatted as bullet lists, following the original text flow."
   ]
  },
  {
   "attachments": {},
   "cell_type": "markdown",
   "metadata": {},
   "source": [
    "For this notebook, we will use a post about [simplifying our Jurassic-2 offering](https://www.ai21.com/blog/simplifying-our-jurassic-2-offering), where we discuss the changes we made to provide a clear and powerful lineup of foundation models. "
   ]
  },
  {
   "cell_type": "code",
   "execution_count": 3,
   "metadata": {
    "colab": {
     "base_uri": "https://localhost:8080/"
    },
    "id": "-_hmfGuWb5ec",
    "outputId": "81ac2264-cbe5-4b30-b74e-bf2162048215"
   },
   "outputs": [
    {
     "name": "stdout",
     "output_type": "stream",
     "text": [
      "We are streamlining our foundation models to three, and renaming them Ultra, Mid and Light.\n",
      "Three months ago, we launched Jurassic-2, our next generation foundation models. These models include instruct capabilities.\n",
      "We’ve spent the last three months gathering user feedback, and as always, are constantly on the lookout for new ways to improve our technology, as well as ease of use for our customers.\n",
      "We found that users were confused by the five different foundation models and the names of the models, Large, Grande and Jumbo, made it difficult to differentiate the models by their relative sizes and capabilities.\n",
      "We are excited to announce that we are making some adjustments to our Jurassic-2 offering based on our learnings, in order to make the decision making process for our users more simple and intuitive.\n",
      "We are now offering three foundation models, and all of them include instruct capabilities. These models perform as well as our non-instruct models for both zero-shot and few-shot prompting.\n",
      "The new names are intended to help users easily understand the relative magnitude and attributes of each model. \n",
      "Jurassic-2 Ultra is our largest and most powerful foundation model for complex language generation tasks, while Jurassic-2 Mid is our mid-sized model that strikes the right balance between exceptional quality and affordability.\n",
      "By streamlining our model offering, we hope our users can hit the ground running faster. Jurassic-2 Ultra, Mid and Light are continuously undergoing improvements as we learn more, so stay tuned!\n"
     ]
    }
   ],
   "source": [
    "url = \"https://www.ai21.com/blog/simplifying-our-jurassic-2-offering\"\n",
    "\n",
    "summary = ai21.Summarize.execute(source=url, sourceType=\"URL\")['summary']\n",
    "print(summary)"
   ]
  },
  {
   "attachments": {},
   "cell_type": "markdown",
   "metadata": {
    "id": "hJRZMfghfWwF"
   },
   "source": [
    "# Let's generate"
   ]
  },
  {
   "attachments": {},
   "cell_type": "markdown",
   "metadata": {},
   "source": [
    "It's time to create our social media post!\n",
    "\n",
    "Let's start by making a function that creates the prompt for this, depending on the platform."
   ]
  },
  {
   "cell_type": "code",
   "execution_count": 4,
   "metadata": {
    "id": "IMNyQauMeagM"
   },
   "outputs": [],
   "source": [
    "def create_prompt(media, summary):    \n",
    "    post_type = \"tweet\" if media == \"Twitter\" else \"Linkedin post\"\n",
    "    prompt = f\"\"\"Article summary:\n",
    "    {summary}\n",
    "    Write a catchy {post_type} to promote an article based on the above summary.\n",
    "    \"\"\"\n",
    "    \n",
    "    return prompt"
   ]
  },
  {
   "attachments": {},
   "cell_type": "markdown",
   "metadata": {},
   "source": [
    "Let's take a look at a prompt for our case:"
   ]
  },
  {
   "cell_type": "code",
   "execution_count": 5,
   "metadata": {},
   "outputs": [
    {
     "name": "stdout",
     "output_type": "stream",
     "text": [
      "Article summary:\n",
      "    We are streamlining our foundation models to three, and renaming them Ultra, Mid and Light.\n",
      "Three months ago, we launched Jurassic-2, our next generation foundation models. These models include instruct capabilities.\n",
      "We’ve spent the last three months gathering user feedback, and as always, are constantly on the lookout for new ways to improve our technology, as well as ease of use for our customers.\n",
      "We found that users were confused by the five different foundation models and the names of the models, Large, Grande and Jumbo, made it difficult to differentiate the models by their relative sizes and capabilities.\n",
      "We are excited to announce that we are making some adjustments to our Jurassic-2 offering based on our learnings, in order to make the decision making process for our users more simple and intuitive.\n",
      "We are now offering three foundation models, and all of them include instruct capabilities. These models perform as well as our non-instruct models for both zero-shot and few-shot prompting.\n",
      "The new names are intended to help users easily understand the relative magnitude and attributes of each model. \n",
      "Jurassic-2 Ultra is our largest and most powerful foundation model for complex language generation tasks, while Jurassic-2 Mid is our mid-sized model that strikes the right balance between exceptional quality and affordability.\n",
      "By streamlining our model offering, we hope our users can hit the ground running faster. Jurassic-2 Ultra, Mid and Light are continuously undergoing improvements as we learn more, so stay tuned!\n",
      "    Write a catchy tweet to promote an article based on the above summary.\n",
      "    \n"
     ]
    }
   ],
   "source": [
    "media = \"Twitter\" # \"Twitter\", \"Linkedin\"\n",
    "prompt = create_prompt(media=media, summary=summary)\n",
    "print(prompt)"
   ]
  },
  {
   "attachments": {},
   "cell_type": "markdown",
   "metadata": {},
   "source": [
    "Calling Jurassic-2 Ultra to generate several completions for us to choose from:"
   ]
  },
  {
   "cell_type": "code",
   "execution_count": 6,
   "metadata": {
    "colab": {
     "base_uri": "https://localhost:8080/",
     "height": 815
    },
    "id": "_85kdakWdJ8s",
    "outputId": "b193d3d4-afd9-4581-9f57-f4843d2fedf6"
   },
   "outputs": [
    {
     "name": "stdout",
     "output_type": "stream",
     "text": [
      "Jurassic-2 just got simpler! Streamlined to three foundation models: Ultra, Mid and Light. Now with instruct capabilities! #LanguageGeneration\n",
      "=============\n",
      "Jurassic-2 Ultra, Mid and Light are the next generation of foundation models, offering exceptional quality and affordability. All models include instruct capabilities, so users can hit the ground running faster.\n",
      "=============\n",
      "Jurassic-2 Ultra, Mid and Light: three powerful foundation models for complex language generation tasks. Learn more here! #Jurassic2\n",
      "=============\n",
      "Jurassic-2 Ultra, Mid, and Light are here to simplify your decision making for complex language generation tasks. All three models include instruct capabilities and are continuously being improved.\n",
      "=============\n",
      "Jurassic-2 Ultra, Mid and Light are our new foundation models- all include instruct capabilities and are continuously improving. Learn more now! #machinelearning #deeplearning\n",
      "=============\n",
      "Jurassic-2 Ultra, Mid and Light have arrived! Our next generation foundation models now include instruct capabilities and have been renamed to make them simpler to understand. #AI #DL #NLP\n",
      "=============\n",
      "Jurassic-2 just got better! Introducing a streamlined foundation model offering with easy and intuitive names. #AISimplified #AINews\n",
      "=============\n",
      "Jurassic-2 just got a major upgrade! New streamlined model names, Ultra, Mid and Light, make it easy for users to choose the right foundation. #AI #NLP #Jurassic2\n",
      "=============\n",
      "Jurassic-2 foundation models now come in three flavors: Ultra, Mid and Light. These models include instruct capabilities and perform as well as our non-instruct models. Simplify your tech stack with Jurassic-2!\n",
      "Article summary:\n",
      "We are streamlining our foundation models to three, and renaming them Ultra, Mid and Light.\n",
      "=============\n",
      "Jurassic-2 Ultra, Mid and Light models provide high-quality language generation capabilities with instruct capabilities. Get started now and #letthemachinedothetalking!\n",
      "=============\n",
      "Jurassic-2 foundation models get simplified to 3, and renamed Ultra, Mid and Light! Get zero-shot and few-shot prompting at higher quality and lower cost. #NLP #AI\n",
      "=============\n",
      "\"#Jurassic-2 Ultra, Mid and Light: 3 new foundation models to make your tech #AI #NLP journey a breeze! #AIforGood\"\n",
      "=============\n",
      "Jurassic-2 just got an upgrade! Streamlined to three foundation models: Ultra, Mid, and Light. All models include our instruct technology. Start generating high-quality content with our new streamlined, user-friendly foundation models. #Jurassic2\n",
      "=============\n",
      "Find the perfect foundation model for your project with our streamlined Jurassic-2 offering: Ultra, Mid and Light models now with instruct capabilities! #NLP\n",
      "=============\n",
      "Jurassic-2 just got simpler & more powerful! We are streamlining our foundation models to 3, and renaming them Ultra, Mid, & Light. #Jurassic2#DeepLearning\n",
      "=============\n",
      "Jurassic-2 just got an upgrade! <0xF0><0x9F><0xA6><0x96>\n",
      "\n",
      "*Three models, one powerful framework:*\n",
      "\n",
      "1. <0xF0><0x9F><0xA6><0x96>Jurassic-2 Ultra - Our largest and most powerful foundation model for complex language generation tasks\n",
      "2. <0xF0><0x9F><0xA6><0x96>Jurassic-2 Mid - Our mid-sized model that strikes the right balance between exceptional quality and affordability\n",
      "3. <0xF0><0x9F><0xA6><0x96>Jurassic-2 Light - Our entry-level model for simpler language generation tasks\n",
      "\n",
      "*All models include *instruct* capabilities, so you can focus on your use cases. *\n",
      "\n",
      "*Head over to jurassic.com to learn more!*\n",
      "\n",
      "#jurassic2 #fewshotprompting #languagegeneration #foundationmodels\n",
      "=============\n"
     ]
    }
   ],
   "source": [
    "response = ai21.Completion.execute(prompt=prompt,\n",
    "                                   model=\"j2-ultra\",\n",
    "                                   maxTokens=200,\n",
    "                                   temperature=0.8,\n",
    "                                   numResults=16 # this will make the model generate 16 optional completions\n",
    "                                   )\n",
    "\n",
    "for comp in response['completions']:\n",
    "    print(comp['data']['text'].strip())\n",
    "    print(\"=============\")"
   ]
  },
  {
   "attachments": {},
   "cell_type": "markdown",
   "metadata": {
    "id": "MW4uZMvhfSH3"
   },
   "source": [
    "# Filter results"
   ]
  },
  {
   "attachments": {},
   "cell_type": "markdown",
   "metadata": {},
   "source": [
    "It's wise to apply some filters and ranking to the generated outputs, to choose the one that suits our needs best.\n",
    "\n",
    "In this example, we use two basic filters:\n",
    "\n",
    "1. **Length:** Posts should not be too short, or exceed the maximum characters allowed in either platform.\n",
    "\n",
    "2. **Text diversity:** Our posts should be different from the original summary, rather than verbatim."
   ]
  },
  {
   "cell_type": "code",
   "execution_count": 7,
   "metadata": {
    "id": "osebCjrldJJr"
   },
   "outputs": [],
   "source": [
    "def is_length_valid(text, media):\n",
    "    \"\"\"\n",
    "    This function makes sure that a given text is between a range of maximum and minimum character limit\n",
    "    \"\"\"\n",
    "    CHAR_LIMIT = {\"Twitter\": (30, 280), \"Linkedin\": (100, 1500)}\n",
    "    min_length, max_length = CHAR_LIMIT[media]\n",
    "    return min_length <= len(text) <= max_length\n",
    "\n",
    "\n",
    "def is_diverse(input_text, output_text, th=0.7):\n",
    "    \"\"\"\n",
    "    This function makes sure that an input text and output text do not overlap too much, according to a threshold\n",
    "    \"\"\"\n",
    "    input_words = input_text.strip().split()\n",
    "    output_words = output_text.strip().split()\n",
    "    if len(input_words) == 0 or len(output_words) == 0:\n",
    "        return True\n",
    "    output_prefix = output_words[:len(input_words)]\n",
    "    overlap = set(output_prefix) & set(input_words)\n",
    "    return len(overlap) / len(output_prefix) < th\n",
    "\n",
    "\n",
    "def apply_filters(completion, prompt, media):\n",
    "    \"\"\"\n",
    "    This function applies both filters from before\n",
    "    \"\"\"\n",
    "    # Only consider completions that ended in a natural way\n",
    "    if completion[\"finishReason\"][\"reason\"] != \"endoftext\":\n",
    "        return False\n",
    "    text = completion['data']['text']\n",
    "    return is_length_valid(text, media) and is_diverse(text, prompt)"
   ]
  },
  {
   "attachments": {},
   "cell_type": "markdown",
   "metadata": {},
   "source": [
    "Next, let's apply the filters to the given completions and display them in a dataframe with the length and probability of the generated text."
   ]
  },
  {
   "cell_type": "code",
   "execution_count": 8,
   "metadata": {
    "colab": {
     "base_uri": "https://localhost:8080/",
     "height": 345
    },
    "id": "vlJ_jnDijRx4",
    "outputId": "5cda5d58-13aa-41d6-f680-b72867ee7628"
   },
   "outputs": [
    {
     "data": {
      "text/html": [
       "<div>\n",
       "<style scoped>\n",
       "    .dataframe tbody tr th:only-of-type {\n",
       "        vertical-align: middle;\n",
       "    }\n",
       "\n",
       "    .dataframe tbody tr th {\n",
       "        vertical-align: top;\n",
       "    }\n",
       "\n",
       "    .dataframe thead th {\n",
       "        text-align: right;\n",
       "    }\n",
       "</style>\n",
       "<table border=\"1\" class=\"dataframe\">\n",
       "  <thead>\n",
       "    <tr style=\"text-align: right;\">\n",
       "      <th></th>\n",
       "      <th>text</th>\n",
       "      <th>length</th>\n",
       "      <th>prob</th>\n",
       "    </tr>\n",
       "  </thead>\n",
       "  <tbody>\n",
       "    <tr>\n",
       "      <th>0</th>\n",
       "      <td>Jurassic-2 just got simpler! Streamlined to th...</td>\n",
       "      <td>142</td>\n",
       "      <td>-19.037806</td>\n",
       "    </tr>\n",
       "    <tr>\n",
       "      <th>1</th>\n",
       "      <td>Jurassic-2 Ultra, Mid and Light are the next g...</td>\n",
       "      <td>211</td>\n",
       "      <td>-19.112564</td>\n",
       "    </tr>\n",
       "    <tr>\n",
       "      <th>2</th>\n",
       "      <td>Jurassic-2 Ultra, Mid and Light: three powerfu...</td>\n",
       "      <td>132</td>\n",
       "      <td>-20.337919</td>\n",
       "    </tr>\n",
       "    <tr>\n",
       "      <th>3</th>\n",
       "      <td>Jurassic-2 Ultra, Mid, and Light are here to s...</td>\n",
       "      <td>197</td>\n",
       "      <td>-28.876660</td>\n",
       "    </tr>\n",
       "    <tr>\n",
       "      <th>4</th>\n",
       "      <td>Jurassic-2 Ultra, Mid and Light are our new fo...</td>\n",
       "      <td>175</td>\n",
       "      <td>-32.497679</td>\n",
       "    </tr>\n",
       "    <tr>\n",
       "      <th>5</th>\n",
       "      <td>Jurassic-2 Ultra, Mid and Light have arrived! ...</td>\n",
       "      <td>188</td>\n",
       "      <td>-33.754031</td>\n",
       "    </tr>\n",
       "    <tr>\n",
       "      <th>6</th>\n",
       "      <td>Jurassic-2 just got better! Introducing a stre...</td>\n",
       "      <td>132</td>\n",
       "      <td>-38.895818</td>\n",
       "    </tr>\n",
       "    <tr>\n",
       "      <th>7</th>\n",
       "      <td>Jurassic-2 just got a major upgrade! New strea...</td>\n",
       "      <td>162</td>\n",
       "      <td>-39.663603</td>\n",
       "    </tr>\n",
       "    <tr>\n",
       "      <th>8</th>\n",
       "      <td>Jurassic-2 Ultra, Mid and Light models provide...</td>\n",
       "      <td>168</td>\n",
       "      <td>-40.295752</td>\n",
       "    </tr>\n",
       "    <tr>\n",
       "      <th>9</th>\n",
       "      <td>Jurassic-2 foundation models get simplified to...</td>\n",
       "      <td>163</td>\n",
       "      <td>-40.891250</td>\n",
       "    </tr>\n",
       "    <tr>\n",
       "      <th>10</th>\n",
       "      <td>\"#Jurassic-2 Ultra, Mid and Light: 3 new found...</td>\n",
       "      <td>115</td>\n",
       "      <td>-41.629497</td>\n",
       "    </tr>\n",
       "    <tr>\n",
       "      <th>11</th>\n",
       "      <td>Jurassic-2 just got an upgrade! Streamlined to...</td>\n",
       "      <td>246</td>\n",
       "      <td>-53.168041</td>\n",
       "    </tr>\n",
       "    <tr>\n",
       "      <th>12</th>\n",
       "      <td>Find the perfect foundation model for your pro...</td>\n",
       "      <td>157</td>\n",
       "      <td>-30.800974</td>\n",
       "    </tr>\n",
       "    <tr>\n",
       "      <th>13</th>\n",
       "      <td>Jurassic-2 just got simpler &amp; more powerful! W...</td>\n",
       "      <td>155</td>\n",
       "      <td>-34.010636</td>\n",
       "    </tr>\n",
       "  </tbody>\n",
       "</table>\n",
       "</div>"
      ],
      "text/plain": [
       "                                                 text  length       prob\n",
       "0   Jurassic-2 just got simpler! Streamlined to th...     142 -19.037806\n",
       "1   Jurassic-2 Ultra, Mid and Light are the next g...     211 -19.112564\n",
       "2   Jurassic-2 Ultra, Mid and Light: three powerfu...     132 -20.337919\n",
       "3   Jurassic-2 Ultra, Mid, and Light are here to s...     197 -28.876660\n",
       "4   Jurassic-2 Ultra, Mid and Light are our new fo...     175 -32.497679\n",
       "5   Jurassic-2 Ultra, Mid and Light have arrived! ...     188 -33.754031\n",
       "6   Jurassic-2 just got better! Introducing a stre...     132 -38.895818\n",
       "7   Jurassic-2 just got a major upgrade! New strea...     162 -39.663603\n",
       "8   Jurassic-2 Ultra, Mid and Light models provide...     168 -40.295752\n",
       "9   Jurassic-2 foundation models get simplified to...     163 -40.891250\n",
       "10  \"#Jurassic-2 Ultra, Mid and Light: 3 new found...     115 -41.629497\n",
       "11  Jurassic-2 just got an upgrade! Streamlined to...     246 -53.168041\n",
       "12  Find the perfect foundation model for your pro...     157 -30.800974\n",
       "13  Jurassic-2 just got simpler & more powerful! W...     155 -34.010636"
      ]
     },
     "execution_count": 8,
     "metadata": {},
     "output_type": "execute_result"
    }
   ],
   "source": [
    "completions_filtered = [comp for comp in response['completions'] if apply_filters(comp, summary, media)]\n",
    "pd.DataFrame([{'text': comp['data']['text'], 'length': len(comp['data']['text']),\n",
    "               'prob': sum(tok['generatedToken']['logprob'] for tok in comp['data']['tokens'])} for comp in completions_filtered])"
   ]
  },
  {
   "attachments": {},
   "cell_type": "markdown",
   "metadata": {
    "id": "cQj-E2K4gJvC"
   },
   "source": [
    "# Post processing - remove hallucinations and select the top ranked"
   ]
  },
  {
   "attachments": {},
   "cell_type": "markdown",
   "metadata": {},
   "source": [
    "In the generation process, the model may produce links or email addresses. This is very normal, as most posts do include something like this. There is a good chance that those links or emails are made up (\"hallucinations\"). We replace them with placeholders that the user can fill in."
   ]
  },
  {
   "cell_type": "code",
   "execution_count": 9,
   "metadata": {
    "id": "WMvfBm9penhq"
   },
   "outputs": [],
   "source": [
    "def remove_hallucinations(text):\n",
    "    # Replace emails or links with an indicator\n",
    "    text = re.sub(r'https?:\\/\\/.*', '[URL]', text)\n",
    "    return re.sub(r'([A-Za-z0-9]+[.-_])*[A-Za-z0-9]+@[A-Za-z0-9-]+(\\.[A-Z|a-z]{2,})+', '[EMAIL]', text)"
   ]
  },
  {
   "attachments": {},
   "cell_type": "markdown",
   "metadata": {},
   "source": [
    "Now, we will choose the top ranked generation (according to the probability), remove the hallucinations (if exist) and return the post:"
   ]
  },
  {
   "cell_type": "code",
   "execution_count": 10,
   "metadata": {
    "colab": {
     "base_uri": "https://localhost:8080/"
    },
    "id": "ZZzrFtuKcEkv",
    "outputId": "8bc76e89-ccda-4cc0-860b-b2db8ef71d2e"
   },
   "outputs": [
    {
     "name": "stdout",
     "output_type": "stream",
     "text": [
      "Jurassic-2 just got simpler! Streamlined to three foundation models: Ultra, Mid and Light. Now with instruct capabilities! #LanguageGeneration\n"
     ]
    }
   ],
   "source": [
    "post = completions_filtered[0]['data']['text']\n",
    "post = remove_hallucinations(post)\n",
    "print(post)"
   ]
  }
 ],
 "metadata": {
  "colab": {
   "provenance": []
  },
  "kernelspec": {
   "display_name": "Python 3 (ipykernel)",
   "language": "python",
   "name": "python3"
  },
  "language_info": {
   "codemirror_mode": {
    "name": "ipython",
    "version": 3
   },
   "file_extension": ".py",
   "mimetype": "text/x-python",
   "name": "python",
   "nbconvert_exporter": "python",
   "pygments_lexer": "ipython3",
   "version": "3.9.6"
  }
 },
 "nbformat": 4,
 "nbformat_minor": 1
}
