{
 "cells": [
  {
   "cell_type": "markdown",
   "id": "64d35357",
   "metadata": {},
   "source": [
    "# Building a Knowledge Management System (KMS) using Contextual Answers"
   ]
  },
  {
   "cell_type": "markdown",
   "id": "ae340500",
   "metadata": {},
   "source": [
    "Contextual Answers is a plug-and-play engine that organizations can seamlessly embed into their digital assets to enhance the efficiency and accuracy of information queries. The engine provides businesses with LLM technology to instantaneously answer user questions about any organizational data. The answers will be based solely on this data, and will be backed by the proper context from the organizational knowledge base.\n",
    "\n",
    "The Contextual Answers package we are offering is the full solution: a library to store your files, a retrieval mechanism that fetches the most relevant contexts from your organizational knowledge base and a model that provides an answer based on this context. This process is done in a Retrieval Augmented Generation (RAG) way: for every question, the system retrieves the most relevant segments of text from organizational data. Then, based on those segments, the system will answer the question. Moreover, if the answer is not within the knowledgebase, the system will indicate this instead of providing a false answer.\n",
    "\n",
    "As an example, we will use these capabilities to create an efficient knowledge management system (KMS). Ready to get started?"
   ]
  },
  {
   "cell_type": "markdown",
   "id": "d1801500",
   "metadata": {},
   "source": [
    "## Imports and settings"
   ]
  },
  {
   "cell_type": "code",
   "execution_count": 1,
   "id": "6b238523",
   "metadata": {},
   "outputs": [],
   "source": [
    "import ai21\n",
    "import json"
   ]
  },
  {
   "cell_type": "markdown",
   "id": "f98bb5d4",
   "metadata": {},
   "source": [
    "### API key\n",
    "In order to run this notebook, you will need an API key for AI21 Studio. How can you get it?\n",
    "\n",
    "Create a free account at [AI21 Studio](https://studio.ai21.com). You can see your API key in the *Account* tab."
   ]
  },
  {
   "cell_type": "code",
   "execution_count": 2,
   "id": "7b97a1ed",
   "metadata": {},
   "outputs": [],
   "source": [
    "# TODO: fill in your API key from your AI21 Studio account\n",
    "YOUR_API_KEY = \"\"\n",
    "ai21.api_key = YOUR_API_KEY\n",
    "assert ai21.api_key != \"\", \"You must provide an API key!\""
   ]
  },
  {
   "cell_type": "markdown",
   "id": "95bf46e8",
   "metadata": {},
   "source": [
    "## The files"
   ]
  },
  {
   "cell_type": "markdown",
   "id": "0821d2bd",
   "metadata": {},
   "source": [
    "In this example, our knowledgebase contains three policies of a company called ExampleTech: Working from abroad, Hybrid work guidelines, and IT security. Since this is a simple demo, we will use these variables to save the paths for the files:"
   ]
  },
  {
   "cell_type": "code",
   "execution_count": 3,
   "id": "e64c0d10",
   "metadata": {},
   "outputs": [],
   "source": [
    "DIR_PREFIX = \"docs/\"\n",
    "HYBRID_GUIDELINES_PATH = DIR_PREFIX + \"Hybrid Work Guidelines.txt\"\n",
    "IT_SECURITY_PATH = DIR_PREFIX + \"IT Organisational Security Policy.txt\"\n",
    "WORKING_ABROAD_PATH = DIR_PREFIX + \"Working From Abroad - Guidelines.txt\""
   ]
  },
  {
   "cell_type": "markdown",
   "id": "79623912",
   "metadata": {},
   "source": [
    "## Upload a document"
   ]
  },
  {
   "cell_type": "markdown",
   "id": "80cbd9a9",
   "metadata": {},
   "source": [
    "The first step in building our KMS is to upload our company's documents to the Library. To get a feel, let's upload a single document:"
   ]
  },
  {
   "cell_type": "code",
   "execution_count": 4,
   "id": "35240ebe",
   "metadata": {},
   "outputs": [],
   "source": [
    "hybrid_file_id = ai21.Library.Files.upload(file_path=HYBRID_GUIDELINES_PATH)"
   ]
  },
  {
   "cell_type": "markdown",
   "id": "81583c70",
   "metadata": {},
   "source": [
    "Let's take a look at all of the files we currently have in the Library:"
   ]
  },
  {
   "cell_type": "code",
   "execution_count": 5,
   "id": "c6cf5a1d",
   "metadata": {},
   "outputs": [],
   "source": [
    "def print_all_files():\n",
    "    files = ai21.Library.Files.list()\n",
    "    if not files:\n",
    "        print(\"There are no files in this Library\")\n",
    "        return\n",
    "    for file in files:\n",
    "        print(json.dumps(file.__dict__['values'], indent=4))"
   ]
  },
  {
   "cell_type": "code",
   "execution_count": 6,
   "id": "828c755b",
   "metadata": {},
   "outputs": [
    {
     "name": "stdout",
     "output_type": "stream",
     "text": [
      "{\n",
      "    \"fileId\": \"9af8608c-ed71-4aba-b7e4-c65afffadb02\",\n",
      "    \"name\": \"Hybrid Work Guidelines.txt\",\n",
      "    \"path\": null,\n",
      "    \"fileType\": \"text/plain\",\n",
      "    \"sizeBytes\": 1764,\n",
      "    \"labels\": [\n",
      "        \"\"\n",
      "    ],\n",
      "    \"publicUrl\": null,\n",
      "    \"createdBy\": \"3c04139b-ec3a-4102-a0dc-0f7f83724ca7\",\n",
      "    \"creationDate\": \"2023-08-21\",\n",
      "    \"lastUpdated\": \"2023-08-21\",\n",
      "    \"status\": \"PROCESSED\",\n",
      "    \"errorCode\": null,\n",
      "    \"errorMessage\": null\n",
      "}\n"
     ]
    }
   ],
   "source": [
    "print_all_files()"
   ]
  },
  {
   "cell_type": "markdown",
   "id": "c308b48e",
   "metadata": {},
   "source": [
    "As you can see, every file has a unique ID and other associated fields. You can see the full documentation [here](https://docs.ai21.com/reference/manage-library-ref)."
   ]
  },
  {
   "cell_type": "markdown",
   "id": "ff590b73",
   "metadata": {},
   "source": [
    "## Manage your Library"
   ]
  },
  {
   "cell_type": "markdown",
   "id": "e0b3aec1",
   "metadata": {},
   "source": [
    "Simply uploading your files won't be enough to maintain a comprehensive library; There are several actions you still need to take.\n",
    "For instance, a certain document may become outdated and necessitate replacement. In such situations, you must delete the outdated file and then re-upload the updated version. Since all operations within the document library are linked to the document ID, we can utilize a specific function to conveniently retrieve the ID based on the document's name."
   ]
  },
  {
   "cell_type": "code",
   "execution_count": 7,
   "id": "bb20c5e5",
   "metadata": {},
   "outputs": [],
   "source": [
    "def get_file_id(file_name):\n",
    "    result = ai21.Library.Files.list()\n",
    "    file_idx = [r.name for r in result].index(file_name)\n",
    "    file_id = [r.fileId for r in result][file_idx]\n",
    "    return file_id"
   ]
  },
  {
   "cell_type": "markdown",
   "id": "4619f1d4",
   "metadata": {},
   "source": [
    "Now, imagine that your company has changed the amount of days you can work from home. This means we need to update the Hybrid work guidelines. First, we need to delete it and then upload the updated version:"
   ]
  },
  {
   "cell_type": "code",
   "execution_count": null,
   "id": "01568731",
   "metadata": {},
   "outputs": [],
   "source": [
    "file_id = get_file_id(file_name = HYBRID_GUIDELINES_PATH.split(\"/\")[-1])\n",
    "ai21.Library.Files.delete(resource_id = file_id)"
   ]
  },
  {
   "cell_type": "markdown",
   "id": "70346e8c",
   "metadata": {},
   "source": [
    "While looking at the files we currently have in our library, we can see that the deletion worked:"
   ]
  },
  {
   "cell_type": "code",
   "execution_count": 9,
   "id": "a8290451",
   "metadata": {},
   "outputs": [
    {
     "name": "stdout",
     "output_type": "stream",
     "text": [
      "There are no files in this Library\n"
     ]
    }
   ],
   "source": [
    "print_all_files()"
   ]
  },
  {
   "cell_type": "markdown",
   "id": "8db3fe03",
   "metadata": {},
   "source": [
    "### Upload all the files"
   ]
  },
  {
   "cell_type": "markdown",
   "id": "e9240f75",
   "metadata": {},
   "source": [
    "You can upload a file as it is, store it in a directory (for those who like working with directories) or add labels. This can help you organize your filing system, while focusing your questions on a subset of documents. In addition, every file can be associated with a public URL.\n",
    "Let's upload our files with different options:"
   ]
  },
  {
   "cell_type": "code",
   "execution_count": 10,
   "id": "136d054d",
   "metadata": {},
   "outputs": [
    {
     "data": {
      "text/plain": [
       "'de4eda11-c2f0-4582-8694-1637f45c6bc4'"
      ]
     },
     "execution_count": 10,
     "metadata": {},
     "output_type": "execute_result"
    }
   ],
   "source": [
    "## Simple upload\n",
    "ai21.Library.Files.upload(file_path=WORKING_ABROAD_PATH)\n",
    "\n",
    "## Upload with labels\n",
    "ai21.Library.Files.upload(file_path=HYBRID_GUIDELINES_PATH,\n",
    "                          labels=['Hybrid', 'WFH'])\n",
    "\n",
    "## Upload with public URL\n",
    "ai21.Library.Files.upload(file_path=IT_SECURITY_PATH,\n",
    "                          path=\"IT\",\n",
    "                          publicUrl=\"https://www.exampletech.com/it\")"
   ]
  },
  {
   "cell_type": "markdown",
   "id": "957288ef",
   "metadata": {},
   "source": [
    "Now, looking at our library, we can see the relevant properties as well:"
   ]
  },
  {
   "cell_type": "code",
   "execution_count": 11,
   "id": "fb519417",
   "metadata": {},
   "outputs": [
    {
     "name": "stdout",
     "output_type": "stream",
     "text": [
      "{\n",
      "    \"fileId\": \"de4eda11-c2f0-4582-8694-1637f45c6bc4\",\n",
      "    \"name\": \"IT Organisational Security Policy.txt\",\n",
      "    \"path\": \"IT\",\n",
      "    \"fileType\": \"text/plain\",\n",
      "    \"sizeBytes\": 2873,\n",
      "    \"labels\": [\n",
      "        \"\"\n",
      "    ],\n",
      "    \"publicUrl\": \"https://www.exampletech.com/it\",\n",
      "    \"createdBy\": \"3c04139b-ec3a-4102-a0dc-0f7f83724ca7\",\n",
      "    \"creationDate\": \"2023-08-21\",\n",
      "    \"lastUpdated\": \"2023-08-21\",\n",
      "    \"status\": \"PROCESSING\",\n",
      "    \"errorCode\": null,\n",
      "    \"errorMessage\": null\n",
      "}\n",
      "{\n",
      "    \"fileId\": \"93ccf9cc-4d56-45f3-9326-eff8bf4d9cdf\",\n",
      "    \"name\": \"Hybrid Work Guidelines.txt\",\n",
      "    \"path\": null,\n",
      "    \"fileType\": \"text/plain\",\n",
      "    \"sizeBytes\": 1764,\n",
      "    \"labels\": [\n",
      "        \"Hybrid\",\n",
      "        \"WFH\"\n",
      "    ],\n",
      "    \"publicUrl\": null,\n",
      "    \"createdBy\": \"3c04139b-ec3a-4102-a0dc-0f7f83724ca7\",\n",
      "    \"creationDate\": \"2023-08-21\",\n",
      "    \"lastUpdated\": \"2023-08-21\",\n",
      "    \"status\": \"PROCESSED\",\n",
      "    \"errorCode\": null,\n",
      "    \"errorMessage\": null\n",
      "}\n",
      "{\n",
      "    \"fileId\": \"e7b62d19-f96c-48b6-a1a8-8a62225a04c3\",\n",
      "    \"name\": \"Working From Abroad - Guidelines.txt\",\n",
      "    \"path\": null,\n",
      "    \"fileType\": \"text/plain\",\n",
      "    \"sizeBytes\": 1443,\n",
      "    \"labels\": [\n",
      "        \"\"\n",
      "    ],\n",
      "    \"publicUrl\": null,\n",
      "    \"createdBy\": \"3c04139b-ec3a-4102-a0dc-0f7f83724ca7\",\n",
      "    \"creationDate\": \"2023-08-21\",\n",
      "    \"lastUpdated\": \"2023-08-21\",\n",
      "    \"status\": \"PROCESSED\",\n",
      "    \"errorCode\": null,\n",
      "    \"errorMessage\": null\n",
      "}\n"
     ]
    }
   ],
   "source": [
    "print_all_files()"
   ]
  },
  {
   "cell_type": "markdown",
   "id": "d52a056c",
   "metadata": {},
   "source": [
    "## Ask a question"
   ]
  },
  {
   "cell_type": "markdown",
   "id": "bd24f971",
   "metadata": {},
   "source": [
    "Now that we have all our files in the knowledgebase, it's time to ask some questions.\n",
    "The question is used as a query for a retrieval mechanism, which searches over the entire knowledge base and retrieves the most relevant contexts.\n",
    "\n",
    "With rapid changes occurring in work environments lately, a common question from employees is about working remotely:"
   ]
  },
  {
   "cell_type": "code",
   "execution_count": 12,
   "id": "87437ca2",
   "metadata": {},
   "outputs": [
    {
     "name": "stdout",
     "output_type": "stream",
     "text": [
      "Employees can choose between working from the office or from home two days a week.\n"
     ]
    }
   ],
   "source": [
    "response = ai21.Library.Answer.execute(question=\"How many days can I work from home?\")\n",
    "print(response.answer)"
   ]
  },
  {
   "cell_type": "markdown",
   "id": "c52a1579",
   "metadata": {},
   "source": [
    "However, if the answer to the question is not in any of the documents, the model will indicate that by returning an empty response (`Null`). For instance, if we will ask the following question:"
   ]
  },
  {
   "cell_type": "code",
   "execution_count": 13,
   "id": "2e14e0c9",
   "metadata": {},
   "outputs": [
    {
     "name": "stdout",
     "output_type": "stream",
     "text": [
      "None\n"
     ]
    }
   ],
   "source": [
    "response = ai21.Library.Answer.execute(question=\"What's my meal allowance when working from home?\")\n",
    "print(response.answer)"
   ]
  },
  {
   "cell_type": "markdown",
   "id": "b7d6d766",
   "metadata": {},
   "source": [
    "You can use the following function to present the answer in a more palatable way. It does:\n",
    "\n",
    "1. Utilising the `answerInContext` field to return a pre-determined answer in case you cannot answer the question based on the given knowledgebase.\n",
    "\n",
    "2. Prints all the relevant sources that the system retrieved and used to build the context (optional)."
   ]
  },
  {
   "cell_type": "code",
   "execution_count": 14,
   "id": "fe5d197c",
   "metadata": {},
   "outputs": [],
   "source": [
    "def present_answer(full_response, presentSources=True):\n",
    "    if not full_response.answerInContext:\n",
    "        print(\"The answer is not in the documents\")\n",
    "    else:\n",
    "        print(\"Answer: \")\n",
    "        print(full_response.answer)\n",
    "        if presentSources:\n",
    "            print(\"\\n\\nSources:\\n\\n\")\n",
    "            for source in full_response.sources:\n",
    "                print(\"===============================================\\n\")\n",
    "                print(\"From the document: \" + source['name'])\n",
    "                for highlight in source['highlights']:\n",
    "                    print(\"\\n----------------------------------------------\\n\")\n",
    "                    print(highlight)\n",
    "                print(\"\\n\")"
   ]
  },
  {
   "cell_type": "code",
   "execution_count": 15,
   "id": "e6220d79",
   "metadata": {},
   "outputs": [
    {
     "name": "stdout",
     "output_type": "stream",
     "text": [
      "The answer is not in the documents\n"
     ]
    }
   ],
   "source": [
    "present_answer(response)"
   ]
  },
  {
   "cell_type": "markdown",
   "id": "9db6a31e",
   "metadata": {},
   "source": [
    "### Focus your search"
   ]
  },
  {
   "cell_type": "markdown",
   "id": "a3169432",
   "metadata": {},
   "source": [
    "If you have a large collection of documents and files, it can be helpful to refine your retrieval process. By using the labels or paths you assigned to each document in the upload process, you can narrow down your process and achieve more accurate results, ultimately saving time. We provide several options for that purpose:\n",
    "\n",
    "1. Search within a specific path in your library: Focus your search on a particular location within your knowledge base.\n",
    "2. Search only for documents with specific labels: Filter your search to include only documents that have been assigned certain labels.\n",
    "3. Search within a designated group of documents: Specify the document IDs of a particular set of files, allowing the model to perform the search exclusively within that group.\n",
    "\n",
    "Let's see an example to a question:"
   ]
  },
  {
   "cell_type": "code",
   "execution_count": 16,
   "id": "d6073e6e",
   "metadata": {},
   "outputs": [],
   "source": [
    "response = ai21.Library.Answer.execute(question=\"My computer got stolen. What should I do?\")"
   ]
  },
  {
   "cell_type": "code",
   "execution_count": 17,
   "id": "66eb95d9",
   "metadata": {},
   "outputs": [
    {
     "name": "stdout",
     "output_type": "stream",
     "text": [
      "Answer: \n",
      "You must immediately report theft, loss, or unauthorized disclosure of Tech’s proprietary information.\n",
      "\n",
      "Please follow the guidelines listed below.\n",
      "\n",
      "\n",
      "Sources:\n",
      "\n",
      "\n",
      "===============================================\n",
      "\n",
      "From the document: IT/IT Organisational Security Policy.txt\n",
      "\n",
      "----------------------------------------------\n",
      "\n",
      "1. You should never leave your laptop unattended outside of the office (for example, on the Wolt stand).\n",
      "\n",
      "2. Keep your computer locked whenever it isn't in use.\n",
      "\n",
      "3. Use the company’s chosen password manager to save all your passwords.\n",
      "\n",
      "----------------------------------------------\n",
      "\n",
      "General Use and Ownership ExampleTech’s proprietary information, stored on electronic and computing devices, remains its sole property.\n",
      "\n",
      "Protecting this information is your responsibility, and you must immediately report theft, loss, or unauthorized disclosure of it.\n",
      "\n",
      "Please follow the guidelines listed below.\n",
      "\n",
      "----------------------------------------------\n",
      "\n",
      "11. Do not store personal files on the company computers (except in folders clearly labelled by the Employee as “Personal”.\n",
      "\n",
      "12. Do not store Company files in personal or external storage space.\n",
      "\n",
      "13. Make sure to keep company equipment safe from physical damage.\n",
      "\n",
      "----------------------------------------------\n",
      "\n",
      "7. Use extreme caution when opening email attachments received from unknown senders, or suspicious emails from known senders, which may contain malware.\n",
      "\n",
      "Before clicking on, downloading or responding to a suspicious email, please forward it to safety@exampletech.com.\n",
      "\n",
      "\n"
     ]
    }
   ],
   "source": [
    "present_answer(response)"
   ]
  },
  {
   "cell_type": "markdown",
   "id": "370ea62d",
   "metadata": {},
   "source": [
    "Imagine that your knowledgebase contains thousands or millions of documents. As this question is very IT related, it's a safe bet to assume that the answer is probably in the _IT_ path:"
   ]
  },
  {
   "cell_type": "code",
   "execution_count": 18,
   "id": "e2d1bfdb",
   "metadata": {},
   "outputs": [
    {
     "name": "stdout",
     "output_type": "stream",
     "text": [
      "Answer: \n",
      "You must immediately report theft, loss, or unauthorized disclosure of Tech’s proprietary information.\n",
      "\n",
      "Please follow the guidelines listed below.\n",
      "\n",
      "\n",
      "Sources:\n",
      "\n",
      "\n",
      "===============================================\n",
      "\n",
      "From the document: IT/IT Organisational Security Policy.txt\n",
      "\n",
      "----------------------------------------------\n",
      "\n",
      "1. You should never leave your laptop unattended outside of the office (for example, on the Wolt stand).\n",
      "\n",
      "2. Keep your computer locked whenever it isn't in use.\n",
      "\n",
      "3. Use the company’s chosen password manager to save all your passwords.\n",
      "\n",
      "----------------------------------------------\n",
      "\n",
      "General Use and Ownership ExampleTech’s proprietary information, stored on electronic and computing devices, remains its sole property.\n",
      "\n",
      "Protecting this information is your responsibility, and you must immediately report theft, loss, or unauthorized disclosure of it.\n",
      "\n",
      "Please follow the guidelines listed below.\n",
      "\n",
      "----------------------------------------------\n",
      "\n",
      "11. Do not store personal files on the company computers (except in folders clearly labelled by the Employee as “Personal”.\n",
      "\n",
      "12. Do not store Company files in personal or external storage space.\n",
      "\n",
      "13. Make sure to keep company equipment safe from physical damage.\n",
      "\n",
      "----------------------------------------------\n",
      "\n",
      "7. Use extreme caution when opening email attachments received from unknown senders, or suspicious emails from known senders, which may contain malware.\n",
      "\n",
      "Before clicking on, downloading or responding to a suspicious email, please forward it to safety@exampletech.com.\n",
      "\n",
      "\n"
     ]
    }
   ],
   "source": [
    "response = ai21.Library.Answer.execute(question=\"My computer got stolen. What should I do?\",\n",
    "                                       path=\"IT\")\n",
    "\n",
    "present_answer(response)"
   ]
  },
  {
   "cell_type": "markdown",
   "id": "d57a2b33",
   "metadata": {},
   "source": [
    "However, focusing the search in the wrong group of documents may lead to an answer not being found, like here:"
   ]
  },
  {
   "cell_type": "code",
   "execution_count": 19,
   "id": "2c44f529",
   "metadata": {},
   "outputs": [
    {
     "name": "stdout",
     "output_type": "stream",
     "text": [
      "The answer is not in the documents\n"
     ]
    }
   ],
   "source": [
    "response = ai21.Library.Answer.execute(question=\"My computer got stolen. What should I do?\",\n",
    "                                       labels=[\"WFH\"])\n",
    "\n",
    "present_answer(response)"
   ]
  },
  {
   "cell_type": "markdown",
   "id": "74c6ca46",
   "metadata": {},
   "source": [
    "You can see the full API specifications [here](https://docs.ai21.com/reference/contextual-answers-api-ref)."
   ]
  }
 ],
 "metadata": {
  "kernelspec": {
   "display_name": "Python 3 (ipykernel)",
   "language": "python",
   "name": "python3"
  },
  "language_info": {
   "codemirror_mode": {
    "name": "ipython",
    "version": 3
   },
   "file_extension": ".py",
   "mimetype": "text/x-python",
   "name": "python",
   "nbconvert_exporter": "python",
   "pygments_lexer": "ipython3",
   "version": "3.9.6"
  }
 },
 "nbformat": 4,
 "nbformat_minor": 5
}
