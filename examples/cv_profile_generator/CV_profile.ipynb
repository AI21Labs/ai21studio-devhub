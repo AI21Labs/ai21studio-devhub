{
 "cells": [
  {
   "cell_type": "markdown",
   "id": "4c2b4f88",
   "metadata": {},
   "source": [
    "# Generating CV Profile using AI21 Studio"
   ]
  },
  {
   "cell_type": "markdown",
   "id": "fd704e58",
   "metadata": {},
   "source": [
    "### This notebook accompanies the first video of NLP with Dummies, you can find it here:\n",
    "### For more information, read the blog post:"
   ]
  },
  {
   "cell_type": "markdown",
   "id": "99263e32",
   "metadata": {},
   "source": [
    "## Before you run\n",
    "In order for this to run, you need to have a file named \"api_key\" with the content:\n",
    "\n",
    "Bearer YOUR_API_KEY\n",
    "\n",
    "To get your API key, go into your [account page](https://studio.ai21.com/account/account)"
   ]
  },
  {
   "cell_type": "markdown",
   "id": "6891a39f",
   "metadata": {},
   "source": [
    "## Text generation function\n",
    "This function wraps the completion request. Note that there are more parameters, read about them here:\n"
   ]
  },
  {
   "cell_type": "code",
   "execution_count": 14,
   "id": "9962f031",
   "metadata": {},
   "outputs": [],
   "source": [
    "import requests\n",
    "import json\n",
    "\n",
    "def generate_text_j1(input_text, temp=0, model=\"grande\"):\n",
    "\n",
    "    \"\"\"\n",
    "        Send a completion request to one of Jurassic-1 models\n",
    "        \n",
    "        Arguments:\n",
    "        - input_text   : The prompt you want to feed into the model (string)\n",
    "        - temp         : Temperature, any value between 0-1 (float)\n",
    "        - model        : jumbo, grande or large (string; default is grande)\n",
    "        \n",
    "        Returns:\n",
    "        - text         : the completion text (if the request was successful)\n",
    "        - json         : full response json\n",
    "    \"\"\"\n",
    "    \n",
    "    ## Read the API key\n",
    "    with open(\"api_key\", \"r\") as f:\n",
    "        api_key = f.read().strip()\n",
    "    \n",
    "    if model not in [\"large\", \"grande\", \"jumbo\"]:\n",
    "        print(\"model must be jumbo, grande or large!\")\n",
    "        return\n",
    "\n",
    "    model_url = f\"https://api.ai21.com/studio/v1/j1-{model}/complete\"\n",
    "    \n",
    "    ## Send the completion request\n",
    "    response = requests.post(model_url,\n",
    "        headers={\"Authorization\": api_key},\n",
    "        json={\n",
    "            \"prompt\": input_text,\n",
    "            \"numResults\": 1,\n",
    "            \"maxTokens\": 200,\n",
    "            \"temperature\": temp,\n",
    "            \"topKReturn\": 0,\n",
    "            \"topP\":1,\n",
    "          \"stopSequences\": [\"##\"]\n",
    "        }\n",
    "    )\n",
    "    \n",
    "    if response.status_code != 200:\n",
    "        raise Exception(f\"Completion request failed with status {response.status_code}\")\n",
    "\n",
    "    return response.json()[\"completions\"][0][\"data\"][\"text\"], response.json()"
   ]
  },
  {
   "cell_type": "markdown",
   "id": "e67e1344",
   "metadata": {},
   "source": [
    "## CV profile generation"
   ]
  },
  {
   "cell_type": "markdown",
   "id": "16d44de7",
   "metadata": {},
   "source": [
    "### Examples of generic CV profiles, where each example is a pair of simple instruction and good completion"
   ]
  },
  {
   "cell_type": "code",
   "execution_count": 26,
   "id": "9a5ddc4f",
   "metadata": {},
   "outputs": [],
   "source": [
    "generic_cv_input = \"Write a winning Business management CV profile:\\nI have a clear, logical mind with a practical approach to problem-solving and a drive to see things through to completion. I have more than 2 years of experience in managing and leading teams across multiple sectors. I am eager to learn, I enjoy overcoming challenges, and I have a genuine interest in Business Management and making organisations successful.\\n\\n##\\n\\nWrite a winning  IT CV profile:\\nI am a highly competent IT professional with a proven track record in designing websites, networking and managing databases. I have strong technical skills as well as excellent interpersonal skills, enabling me to interact with a wide range of clients. I am eager to be challenged in order to grow and further improve my IT skills. My greatest passion is in life is using my technical know-how to benefit other people and organisations.\\n\\n##\\n\\nWrite a winning Student CV profile:\\nI am a hardworking and ambitious individual with a great passion for the transport and logistics industry. I am currently in my second year of studying BA Logistics and Supply Chain Management at Aston University. I have excellent communication skills, enabling me to effectively communicate with a wide range of people. I am seeing a part-time position in the industry in which I can put into practice my knowledge and experience, ultimately benefiting the operations of the organisation that I work for.\\n\\n##\\n\\nWrite a winning Manager CV profile:\\nI am an energetic, ambitious person who has developed a mature and responsible approach to any task that I undertake, or situation that I am presented with. As a graduate with three years’ experience in management, I am excellent in working with others to achieve a certain objective on time and with excellence. In my previous role, I improved the performance, operations and productivity of my team by 35%.\\n\\n##\\n\\nWrite a winning Sales/retail CV profile:\\nI am a mature, positive and hardworking individual, who always strives to achieve the highest standard possible, at any given task. In my previous role as a Sales Representative, I demonstrated the ability to work under intense pressure, sell products and services to customers from all backgrounds, handle customer complaints and solve problematic situations as and when they arose. I was promoted twice for exceeding my sales targets.\\n\\n##\\n\\nWrite a winning Teaching CV profile:\\nI am a loyal, talented and caring teacher who loves making a difference in the lives of young children. I am open-minded, patient and supportive towards other people, especially towards children or those who suffer from disabilities. In my previous role as a primary school teacher, I have taught and nurtured more than 100 pupils from all backgrounds, successfully preparing them for the next stages of their young lives.\\n\\n##\\n\\nWrite a winning Media CV profile:\\nI am a professional, ambitious and highly skilled Camera Operator able to use a wide range of technical equipment, including professional cinematography camcorders. I have extensive experience working on a number of television and theatre projects, demonstrating an ability to follow artistic direction and the physical capability required on a professional production set. I am comfortable filming on-location and outside the studio with some previous work experience in live broadcasting.\\n\\n##\\n\\nWrite a winning Software Engineer CV profile\\n\""
   ]
  },
  {
   "cell_type": "code",
   "execution_count": 29,
   "id": "bf571814",
   "metadata": {},
   "outputs": [
    {
     "name": "stdout",
     "output_type": "stream",
     "text": [
      "Write a winning Business management CV profile:\n",
      "I have a clear, logical mind with a practical approach to problem-solving and a drive to see things through to completion. I have more than 2 years of experience in managing and leading teams across multiple sectors. I am eager to learn, I enjoy overcoming challenges, and I have a genuine interest in Business Management and making organisations successful.\n",
      "\n",
      "##\n",
      "\n",
      "Write a winning  IT CV profile:\n",
      "I am a highly competent IT professional with a proven track record in designing websites, networking and managing databases. I have strong technical skills as well as excellent interpersonal skills, enabling me to interact with a wide range of clients. I am eager to be challenged in order to grow and further improve my IT skills. My greatest passion is in life is using my technical know-how to benefit other people and organisations.\n",
      "\n",
      "##\n",
      "\n",
      "Write a winning Student CV profile:\n",
      "I am a hardworking and ambitious individual with a great passion for the transport and logistics industry. I am currently in my second year of studying BA Logistics and Supply Chain Management at Aston University. I have excellent communication skills, enabling me to effectively communicate with a wide range of people. I am seeing a part-time position in the industry in which I can put into practice my knowledge and experience, ultimately benefiting the operations of the organisation that I work for.\n",
      "\n",
      "##\n",
      "\n",
      "Write a winning Manager CV profile:\n",
      "I am an energetic, ambitious person who has developed a mature and responsible approach to any task that I undertake, or situation that I am presented with. As a graduate with three years’ experience in management, I am excellent in working with others to achieve a certain objective on time and with excellence. In my previous role, I improved the performance, operations and productivity of my team by 35%.\n",
      "\n",
      "##\n",
      "\n",
      "Write a winning Sales/retail CV profile:\n",
      "I am a mature, positive and hardworking individual, who always strives to achieve the highest standard possible, at any given task. In my previous role as a Sales Representative, I demonstrated the ability to work under intense pressure, sell products and services to customers from all backgrounds, handle customer complaints and solve problematic situations as and when they arose. I was promoted twice for exceeding my sales targets.\n",
      "\n",
      "##\n",
      "\n",
      "Write a winning Teaching CV profile:\n",
      "I am a loyal, talented and caring teacher who loves making a difference in the lives of young children. I am open-minded, patient and supportive towards other people, especially towards children or those who suffer from disabilities. In my previous role as a primary school teacher, I have taught and nurtured more than 100 pupils from all backgrounds, successfully preparing them for the next stages of their young lives.\n",
      "\n",
      "##\n",
      "\n",
      "Write a winning Media CV profile:\n",
      "I am a professional, ambitious and highly skilled Camera Operator able to use a wide range of technical equipment, including professional cinematography camcorders. I have extensive experience working on a number of television and theatre projects, demonstrating an ability to follow artistic direction and the physical capability required on a professional production set. I am comfortable filming on-location and outside the studio with some previous work experience in live broadcasting.\n",
      "\n",
      "##\n",
      "\n",
      "Write a winning Software Engineer CV profile\n",
      "\n"
     ]
    }
   ],
   "source": [
    "# See the prompt and make sure you are happy with it\n",
    "print(generic_cv_input)"
   ]
  },
  {
   "cell_type": "code",
   "execution_count": 27,
   "id": "0d52afa8",
   "metadata": {},
   "outputs": [],
   "source": [
    "generic_cv_output_text, generic_cv_output_json = generate_text_j1(input_text=generic_cv_input)"
   ]
  },
  {
   "cell_type": "code",
   "execution_count": 28,
   "id": "1dccf798",
   "metadata": {},
   "outputs": [
    {
     "data": {
      "text/plain": [
       "'I am a highly competent Software Engineer with 3 years’ professional experience in software development. I have excellent communication skills, enabling me to effectively interact with a wide range of people. I am eager to learn new skills and technologies, and to continuously develop my programming skills.\\n\\n'"
      ]
     },
     "execution_count": 28,
     "metadata": {},
     "output_type": "execute_result"
    }
   ],
   "source": [
    "generic_cv_output_text"
   ]
  },
  {
   "cell_type": "markdown",
   "id": "3cb6fe67",
   "metadata": {},
   "source": [
    "### Increaing the temperature will provide different results every time - try it!"
   ]
  },
  {
   "cell_type": "code",
   "execution_count": 5,
   "id": "772b5297",
   "metadata": {},
   "outputs": [],
   "source": [
    "high_temp_output_text, high_temp_output_json = generate_text_j1(input_text=generic_cv_input, temp=0.7)"
   ]
  },
  {
   "cell_type": "code",
   "execution_count": 6,
   "id": "4c0b6f7b",
   "metadata": {},
   "outputs": [
    {
     "data": {
      "text/plain": [
       "'I am a dedicated, creative and innovative software developer with a sharp mind and a passion for programming. I am an expert in developing and building websites, applications and programs, using a variety of programming languages as well as tools, such as Visual Studio and SQL. I have excellent problem solving skills, allowing me to identify and resolve programming issues in an efficient and timely manner. My greatest passion is in developing new, useful and user-friendly software.\\n\\n'"
      ]
     },
     "execution_count": 6,
     "metadata": {},
     "output_type": "execute_result"
    }
   ],
   "source": [
    "high_temp_output_text"
   ]
  },
  {
   "cell_type": "markdown",
   "id": "87e37ae1",
   "metadata": {},
   "source": [
    "### Explore the different models and their results"
   ]
  },
  {
   "cell_type": "code",
   "execution_count": 12,
   "id": "2893fe11",
   "metadata": {},
   "outputs": [],
   "source": [
    "jumbo_output_text, jumbo_output_json = generate_text_j1(input_text=generic_cv_input, temp=0.7, model=\"jumbo\")"
   ]
  },
  {
   "cell_type": "code",
   "execution_count": 8,
   "id": "e2805517",
   "metadata": {},
   "outputs": [
    {
     "data": {
      "text/plain": [
       "'I am a very ambitious and hardworking Software Engineer with 2 years of experience creating, developing, and testing computer systems, applications and websites. I have a real passion for IT, and I am constantly learning new skills in order to further improve my software development knowledge. In my spare time, I enjoy learning new languages, and I am currently studying Japanese.\\n\\n'"
      ]
     },
     "execution_count": 8,
     "metadata": {},
     "output_type": "execute_result"
    }
   ],
   "source": [
    "jumbo_output_text"
   ]
  }
 ],
 "metadata": {
  "kernelspec": {
   "display_name": "Python 3 (ipykernel)",
   "language": "python",
   "name": "python3"
  },
  "language_info": {
   "codemirror_mode": {
    "name": "ipython",
    "version": 3
   },
   "file_extension": ".py",
   "mimetype": "text/x-python",
   "name": "python",
   "nbconvert_exporter": "python",
   "pygments_lexer": "ipython3",
   "version": "3.9.13"
  }
 },
 "nbformat": 4,
 "nbformat_minor": 5
}
