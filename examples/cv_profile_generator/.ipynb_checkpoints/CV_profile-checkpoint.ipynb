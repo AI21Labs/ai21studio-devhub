{
 "cells": [
  {
   "cell_type": "markdown",
   "id": "4c2b4f88",
   "metadata": {},
   "source": [
    "# Generating CV Profile using AI21 Studio"
   ]
  },
  {
   "cell_type": "markdown",
   "id": "fd704e58",
   "metadata": {},
   "source": [
    "### This notebook accompanies the first video of NLP with Dummies, you can find it [here](https://www.youtube.com/watch?v=LcLi2M8M7II&pp=ygULYWkyMSBzdHVkaW8%3D)\n",
    "### For more information, read the [blog post](https://www.ai21.com/blog/building-cv-profile-generator-using-ai21-studio)"
   ]
  },
  {
   "cell_type": "markdown",
   "id": "99263e32",
   "metadata": {},
   "source": [
    "## Before you run\n",
    "In order to run this notebook, you will need an API key for AI21 Studio. How can you get it?\n",
    "\n",
    "Create a free account at AI21 Studio. You can see you API key in the [account page](https://studio.ai21.com/account/account)."
   ]
  },
  {
   "cell_type": "markdown",
   "id": "6891a39f",
   "metadata": {},
   "source": [
    "## Install the SDK"
   ]
  },
  {
   "cell_type": "code",
   "execution_count": 1,
   "id": "5977c8ce",
   "metadata": {},
   "outputs": [],
   "source": [
    "import ai21"
   ]
  },
  {
   "cell_type": "code",
   "execution_count": 3,
   "id": "9962f031",
   "metadata": {},
   "outputs": [],
   "source": [
    "# TODO: fill your API key from AI21 Studio account\n",
    "ai21.api_key = \"\"\n",
    "assert ai21.api_key != \"\", \"You must provide an API key!\""
   ]
  },
  {
   "cell_type": "markdown",
   "id": "e67e1344",
   "metadata": {},
   "source": [
    "## CV profile generation"
   ]
  },
  {
   "cell_type": "markdown",
   "id": "479379bd",
   "metadata": {},
   "source": [
    "In this notebook, we will create a CV profile generator. By \"CV Profile\" we mean a short paragraph that you could find in a resume, highlighting the candidate’s background, skills and ambitions."
   ]
  },
  {
   "cell_type": "markdown",
   "id": "9fe1b603",
   "metadata": {},
   "source": [
    "### Use Instruct model"
   ]
  },
  {
   "cell_type": "markdown",
   "id": "b030c553",
   "metadata": {},
   "source": [
    "This model was specifically trained to follow natural language instructions. It is the most natural way to interact with large language models: simply tell the model what you want it to do, and it will follow."
   ]
  },
  {
   "cell_type": "code",
   "execution_count": 21,
   "id": "e9565f5e",
   "metadata": {},
   "outputs": [
    {
     "name": "stdout",
     "output_type": "stream",
     "text": [
      "Motivated sales executive with over 10 years of experience selling a comprehensive range of products and services to B2B clients. Proven track record of hitting and exceeding sales targets, and building long-term relationships with clients. Skilled at identifying customer needs, developing compelling solutions, and closing sales. Strong presentation, negotiation, and interpersonal skills. Self-directed and committed to achieving success.\n",
      "Talented sales executive with a track record of closing high-dollar deals. Has a proven track record of selling a wide range of services to B2B companies, and has a deep understanding of the customer's needs. Skilled at negotiating and closing deals, and able to build long-lasting relationships with clients. Proven track record of hitting and exceeding sales targets\n"
     ]
    }
   ],
   "source": [
    "instruction = \"Write a winning CV profile for Sales Executive:\\n\"\n",
    "\n",
    "response = ai21.Completion.execute(model=\"j2-mid\",\n",
    "                                   prompt=instruction,\n",
    "                                   maxTokens=100)\n",
    "\n",
    "print(response['completions'][0]['data']['text'])"
   ]
  },
  {
   "cell_type": "markdown",
   "id": "39a689b7",
   "metadata": {},
   "source": [
    "It's nice, but not personal enough: a CV profile should be tailored to a candidate's experience. By adding details to your instructions, you can generate a more personalized result."
   ]
  },
  {
   "cell_type": "code",
   "execution_count": 22,
   "id": "9ef97963",
   "metadata": {},
   "outputs": [
    {
     "name": "stdout",
     "output_type": "stream",
     "text": [
      "Energetic and ambitious sales executive with 6 years of experience selling a diverse range of products and services. Proven track record of consistently achieving sales goals, independently and as part of a team. Strong communication and business development skills, combined with an MBA from Stanford, provide a winning combination of knowledge and ability.\n"
     ]
    }
   ],
   "source": [
    "detailed_instruction = \"\"\"Write a winning CV profile for Sales Executive incorporating the following features:\n",
    "1. Energetic and ambitious\n",
    "2. 6 years of selling experience\n",
    "3. Independent\n",
    "4. MBA from Stanford\n",
    "\"\"\"\n",
    "\n",
    "detailed_response = ai21.Completion.execute(model=\"j2-mid\",\n",
    "                                   prompt=detailed_instruction,\n",
    "                                   maxTokens=100)\n",
    "\n",
    "print(detailed_response['completions'][0]['data']['text'])"
   ]
  },
  {
   "cell_type": "markdown",
   "id": "3203f946",
   "metadata": {},
   "source": [
    "If you would like to make the generation more tailored to your needs, you can add more details to your instruction (check out some best practices [here](https://docs.ai21.com/docs/instruct-models)."
   ]
  },
  {
   "cell_type": "markdown",
   "id": "16d44de7",
   "metadata": {},
   "source": [
    "### Using base (\"Vanilla\") model\n",
    "\n",
    "If you care about a specific structure or format, you should consider using one of our base models. These powerful models are the base for our Instruct models, and present strong capabilities as well.\n",
    "\n",
    "The best way to guide a base model is to provide several examples of input-output pairs in the prompt. This establishes a pattern for the model to mimic. Then add the input for a query example and let the model complete it with an appropriate generation.\n",
    "\n",
    "In this example, we will create a prompt that generates CV profiles. To do this, we will build a few-shot prompt comprised of the following:\n",
    "\n",
    "1. Prefix with 3 examples. Each example contains the relevant inputs (a role and some skills to highlight) and the output (a profile fitting the role and skills). They are separated by \"##\".\n",
    "\n",
    "2. The query inputs. An unseen role and set of skills for which we would like the model to output a new CV profile. These should follow the same format of the inputs in the prefix.\n",
    "\n",
    "First, we collect some example data for the prompt prefix:"
   ]
  },
  {
   "cell_type": "code",
   "execution_count": 4,
   "id": "9a5ddc4f",
   "metadata": {},
   "outputs": [],
   "source": [
    "EXAMPLES_DATA = [\n",
    "    {\"role\": \"Business Manager\", \n",
    "     \"skills\": [\"Logical mind\", \"Problem solver\", \"2 years of experience in management\", \"Eager to learn\"], \n",
    "     \"profile\": \"I have a clear, logical mind with a practical approach to problem-solving and a drive to see things through to completion. I have more than 2 years of experience in managing and leading teams across multiple sectors. I am eager to learn, I enjoy overcoming challenges, and I have a genuine interest in Business Management and making organisations successful.\"},\n",
    "    {\"role\": \"Chemical Engineer\",\n",
    "     \"skills\": [\"Hard worker and devoted\", \"Background in: design, plant operations, offshore operations, and process and safety improvements\", \"Experience in: designing, testing and analysing processes\"],\n",
    "     \"profile\": \"I am a dedicated, hardworking and proactive Chemical Engineer with a strong background in design, plant operations, offshore operations, and process and safety improvements. I have solid work experience in designing, testing and analysing processes to increase the overall efficiency of operations. I am currently looking for an opportunity to utilise my technical skills in a challenging working environment and become a valuable asset to the organisation that I work for.\"},\n",
    "    {\"role\": \"IT Professional\",\n",
    "     \"skills\": [\"5 years experience\", \"Record designing websites, networking and managing databases\", \"Excellent interpersonal skills\", \"Looking for a challenge\"],\n",
    "     \"profile\": \"I am a highly competent IT professional with 5 years of relevant industry experience and  a proven track record in designing websites, networking and managing databases. I have strong technical skills as well as excellent interpersonal skills, enabling me to interact with a wide range of clients. I am eager to be challenged in order to grow and further improve my IT skills. My greatest passion is in life is using my technical know-how to benefit other people and organisations.\"\n",
    "    }\n",
    "]"
   ]
  },
  {
   "cell_type": "markdown",
   "id": "0fc14b18",
   "metadata": {},
   "source": [
    "Then, we use the following helper functions to construct the prefix:"
   ]
  },
  {
   "cell_type": "code",
   "execution_count": 5,
   "id": "bf571814",
   "metadata": {},
   "outputs": [],
   "source": [
    "def enumerate_skills(skills):\n",
    "    return \"\\n\".join(\n",
    "        f\"{i:d}. {s}\" for i, s in enumerate(skills, start=1)\n",
    "    )\n",
    "\n",
    "def make_single_example(role, skills, profile):   \n",
    "    example = f\"Write a winning CV profile for {role} incorporating the following features:\\n\"\n",
    "    example += enumerate_skills(skills)\n",
    "    example += \"\\n\\n\"\n",
    "    example += \"Profile:\\n\"\n",
    "    example += profile\n",
    "    \n",
    "    return example\n",
    "\n",
    "SEPARATOR = \"\\n\\n##\\n\\n\"\n",
    "\n",
    "FEW_SHOT_PREFIX = SEPARATOR.join(\n",
    "    make_single_example(x[\"role\"], x[\"skills\"], x[\"profile\"]) for x in EXAMPLES_DATA\n",
    ")"
   ]
  },
  {
   "cell_type": "markdown",
   "id": "4cfe12ea",
   "metadata": {},
   "source": [
    "And finally, we create a function to handle query inputs and create the full prompt:"
   ]
  },
  {
   "cell_type": "code",
   "execution_count": 6,
   "id": "0d52afa8",
   "metadata": {},
   "outputs": [],
   "source": [
    "def create_cv_profile_prompt(role, skills):\n",
    "    \"\"\"\n",
    "    Create a few-shot prompt to generate CV profiles with Jurassic-2 Mid given a role and skills\n",
    "    The prompt contains a preset sequence of examples followed by the query role and skills\n",
    "    \"\"\"\n",
    "    return FEW_SHOT_PREFIX + SEPARATOR + make_single_example(role, skills, '')  # keep the profile blank and let the model generate"
   ]
  },
  {
   "cell_type": "markdown",
   "id": "737c3ec8",
   "metadata": {},
   "source": [
    "Let's see how this looks for a Sales Executive role with some sample skills"
   ]
  },
  {
   "cell_type": "code",
   "execution_count": 7,
   "id": "1dccf798",
   "metadata": {},
   "outputs": [
    {
     "name": "stdout",
     "output_type": "stream",
     "text": [
      "Write a winning CV profile for Business Manager incorporating the following features:\n",
      "1. Logical mind\n",
      "2. Problem solver\n",
      "3. 2 years of experience in management\n",
      "4. Eager to learn\n",
      "\n",
      "Profile:\n",
      "I have a clear, logical mind with a practical approach to problem-solving and a drive to see things through to completion. I have more than 2 years of experience in managing and leading teams across multiple sectors. I am eager to learn, I enjoy overcoming challenges, and I have a genuine interest in Business Management and making organisations successful.\n",
      "\n",
      "##\n",
      "\n",
      "Write a winning CV profile for Chemical Engineer incorporating the following features:\n",
      "1. Hard worker and devoted\n",
      "2. Background in: design, plant operations, offshore operations, and process and safety improvements\n",
      "3. Experience in: designing, testing and analysing processes\n",
      "\n",
      "Profile:\n",
      "I am a dedicated, hardworking and proactive Chemical Engineer with a strong background in design, plant operations, offshore operations, and process and safety improvements. I have solid work experience in designing, testing and analysing processes to increase the overall efficiency of operations. I am currently looking for an opportunity to utilise my technical skills in a challenging working environment and become a valuable asset to the organisation that I work for.\n",
      "\n",
      "##\n",
      "\n",
      "Write a winning CV profile for IT Professional incorporating the following features:\n",
      "1. 5 years experience\n",
      "2. Record designing websites, networking and managing databases\n",
      "3. Excellent interpersonal skills\n",
      "4. Looking for a challenge\n",
      "\n",
      "Profile:\n",
      "I am a highly competent IT professional with 5 years of relevant industry experience and  a proven track record in designing websites, networking and managing databases. I have strong technical skills as well as excellent interpersonal skills, enabling me to interact with a wide range of clients. I am eager to be challenged in order to grow and further improve my IT skills. My greatest passion is in life is using my technical know-how to benefit other people and organisations.\n",
      "\n",
      "##\n",
      "\n",
      "Write a winning CV profile for Sales Executive incorporating the following features:\n",
      "1. Energetic and ambitious\n",
      "2. 6 years of selling experience\n",
      "3. Independent\n",
      "4. MBA from Stanford\n",
      "\n",
      "Profile:\n",
      "\n"
     ]
    }
   ],
   "source": [
    "prompt = create_cv_profile_prompt(\n",
    "    role=\"Sales Executive\", \n",
    "    skills=[\"Energetic and ambitious\", \"6 years of selling experience\", \"Independent\", \"MBA from Stanford\"]\n",
    ")\n",
    "print(prompt)"
   ]
  },
  {
   "cell_type": "markdown",
   "id": "8b455739",
   "metadata": {},
   "source": [
    "### Use Jurassic-2 models to generate"
   ]
  },
  {
   "cell_type": "code",
   "execution_count": 14,
   "id": "4698d395",
   "metadata": {},
   "outputs": [
    {
     "name": "stdout",
     "output_type": "stream",
     "text": [
      "I am an energetic and ambitious Sales Executive with 6 years of selling experience. I am an independent, self-motivated and results-driven individual, who is able to build and maintain strong relationships with clients. I have an MBA from Stanford, and I am looking for an opportunity to utilise my sales skills in a more challenging environment.\n"
     ]
    }
   ],
   "source": [
    "response = ai21.Completion.execute(model=\"j2-mid\",\n",
    "                                   prompt=prompt,\n",
    "                                   maxTokens=100,\n",
    "                                   temperature=0,\n",
    "                                   stopSequences=['##'])\n",
    "\n",
    "print(response['completions'][0]['data']['text'].rstrip())"
   ]
  },
  {
   "cell_type": "markdown",
   "id": "3cb6fe67",
   "metadata": {},
   "source": [
    "### Increaing the temperature will provide different results every time - try it!"
   ]
  },
  {
   "cell_type": "code",
   "execution_count": 16,
   "id": "772b5297",
   "metadata": {},
   "outputs": [
    {
     "name": "stdout",
     "output_type": "stream",
     "text": [
      "I am an energetic and ambitious Sales Executive with a proven track record in exceeding sales targets and forging strong relationships with clients. I have 6 years of selling experience and an independent, can-do approach to problem solving. I recently received an MBA from Stanford and am eager to put my expertise to good use.\n",
      "=============\n",
      "I am an energetic, ambitious and self-motivated individual, and I have a 6-year track record of sales experience. I pride myself in my ability to set targets and exceed expectations. My previous employers have described me as independent, self-assured and ambitious. I have a MBA from Stanford University.\n",
      "=============\n",
      "I am an energetic and ambitious Sales Executive with 6 years of successful experience in selling products and services to discerning customers. I sell independently, but also enjoy working as a sales team. My MBA from Stanford has provided me with the business acumen and leadership skills to be an effective manager. I am keen to develop my career and looking for a challenging role with room for professional growth.\n",
      "=============\n"
     ]
    }
   ],
   "source": [
    "response_high_temp = ai21.Completion.execute(model=\"j2-mid\",\n",
    "                                   prompt=prompt,\n",
    "                                   maxTokens=100,\n",
    "                                   temperature=0.7,\n",
    "                                   stopSequences=['##'],\n",
    "                                   numResults=3)\n",
    "\n",
    "for comp in response_high_temp['completions']:\n",
    "    print(comp['data']['text'].strip())\n",
    "    print(\"=============\")"
   ]
  }
 ],
 "metadata": {
  "kernelspec": {
   "display_name": "Python 3 (ipykernel)",
   "language": "python",
   "name": "python3"
  },
  "language_info": {
   "codemirror_mode": {
    "name": "ipython",
    "version": 3
   },
   "file_extension": ".py",
   "mimetype": "text/x-python",
   "name": "python",
   "nbconvert_exporter": "python",
   "pygments_lexer": "ipython3",
   "version": "3.9.6"
  }
 },
 "nbformat": 4,
 "nbformat_minor": 5
}
