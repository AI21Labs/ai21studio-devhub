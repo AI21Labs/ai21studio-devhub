{
 "cells": [
  {
   "cell_type": "markdown",
   "id": "d42640cf",
   "metadata": {},
   "source": [
    "# AI21 Maestro — Usage Example\n",
    "\n",
    "Here you will find simple usage example for AI21 Maestro. For more information, check out ai21 [technical documentation](https://docs.ai21.com/)."
   ]
  },
  {
   "cell_type": "markdown",
   "id": "3cbd2ac6",
   "metadata": {},
   "source": [
    "**Setup.** Import Maestro SDK classes. Make sure your API key is configured (env or client init). You can find your api key [here](https://studio.ai21.com/v2/account/api-key?source=docs&_gl=1*u1mkxz*_gcl_au*OTIzMDQ5NzU0LjE3NDkyOTE4NjA)."
   ]
  },
  {
   "cell_type": "code",
   "id": "2d9439a5",
   "metadata": {},
   "source": [
    "# Setup and initialization\n",
    "!pip install ai21"
   ],
   "outputs": [],
   "execution_count": null
  },
  {
   "cell_type": "markdown",
   "id": "00922c9c",
   "metadata": {},
   "source": [
    "**Setup.** Import Maestro SDK classes. Make sure your API key is configured (env or client init)."
   ]
  },
  {
   "cell_type": "code",
   "id": "a63295d8",
   "metadata": {
    "ExecuteTime": {
     "end_time": "2025-09-20T17:18:49.914579Z",
     "start_time": "2025-09-20T17:18:49.635076Z"
    }
   },
   "source": [
    "from ai21 import AsyncAI21Client\n",
    "\n",
    "# Get your API key from https://studio.ai21.com\n",
    "AI21_API_KEY = \"YOUR_API_KEY\"\n",
    "client = AsyncAI21Client(api_key=AI21_API_KEY)"
   ],
   "outputs": [],
   "execution_count": 1
  },
  {
   "cell_type": "markdown",
   "id": "2610d67b",
   "metadata": {},
   "source": [
    "## Generate with Requirements\n",
    "Use requirements to get more accurate results. Maestro will validate that all your requirements are met, and will provide a report card at the end of the run.\n",
    "\n",
    "The parameters:\n",
    "\n",
    "1. `requirements` is a list of either:\n",
    "   - `Requirement` objects\n",
    "   - an ordinary dictionary with the keys `name` and `description`.\n",
    "2. Use `include` to get a `requirements_result` with a full report of which requirements were actually fulfilled.\n",
    "3. `models` is a list of strings representing Model integration names you previously set in [AI21 Studio](https://studio.ai21.com/).\n",
    "\n",
    "Let's look at the example:\n",
    "We want to extract information from an unstructured text, but without the LLM making up things."
   ]
  },
  {
   "cell_type": "markdown",
   "id": "3de33a38",
   "metadata": {},
   "source": [
    "First, we will build the prompt and define the requirements:"
   ]
  },
  {
   "cell_type": "code",
   "execution_count": 3,
   "id": "8c1f28f5fd1e4754",
   "metadata": {},
   "outputs": [],
   "source": [
    "prompt = \"\"\"You are an expert in extracting structured information from unstructured text, specifically travel booking conversations.\n",
    "You are given a conversation as plain text between a user and an AI travel agent. Extract and return the following fields:\n",
    "Name: Full name of the traveler\n",
    "HotelName: Name of the hotel selected by the traveler\n",
    "CheckInDate: Check-in date in YYYY-MM-DD format if the date can fully be extracted\n",
    "CheckOutDate: Check-out date in YYYY-MM-DD format if the date can fully be extracted\n",
    "City: City where the hotel is located\n",
    "Country: Country where the hotel is located\n",
    "NumberOfGuests: Total number of guests\"\"\"\n",
    "\n",
    "conversation = \"\"\"Conversation:\n",
    "User: Hi there! I'm planning a trip to Rome next month and need help booking a hotel.\n",
    "AI: I'd be happy to help! Could you tell me your travel dates and how many people will be staying?\n",
    "User: Sure. I'll be arriving on July 10th and checking out on July 15th. It'll be just me and my wife, so 2 guests.\n",
    "AI: Great. Would you like me to recommend some hotels in Rome, Italy?\n",
    "User: Yes, please.\n",
    "AI: Here are a few options:\n",
    "Hotel Artemide\n",
    "The Rome EDITION\n",
    "Hotel Nazionale\n",
    "Do any of these interest you?\n",
    "User: Hotel Artemide sounds perfect. Let's go with that.\n",
    "AI: Excellent choice! May I have your full name for the reservation?\n",
    "User: It's Jonathan Rivera.\n",
    "AI: Thank you, Jonathan. I've reserved a room at Hotel Artemide in Rome, Italy for 2 guests from July 10 to July 15.\"\"\""
   ]
  },
  {
   "cell_type": "code",
   "execution_count": 4,
   "id": "f4bbedd71440bcc9",
   "metadata": {
    "scrolled": true
   },
   "outputs": [],
   "source": [
    "import json\n",
    "\n",
    "run_input = f\"\"\"{prompt}\n",
    "\n",
    "{conversation}\"\"\"\n",
    "\n",
    "run = await client.beta.maestro.runs.create_and_poll(\n",
    "    input=run_input,\n",
    "    requirements=[\n",
    "        Requirement(\n",
    "            name=\"bullets\",\n",
    "            description=\"Return a bulleted list where each field is a bullet.\"\n",
    "        ),\n",
    "        Requirement(\n",
    "            name=\"NA\",\n",
    "            description='If any field is not mentioned or can’t be fully extracted from the conversation, fill it with \"NA\".'\n",
    "        ),\n",
    "        Requirement(\n",
    "            name=\"don't make things up\",\n",
    "            description=\"Do not invent, infer, or assume any details that are not explicitly stated in the conversation.\"\n",
    "        ),\n",
    "    ],\n",
    "    include=[\"requirements_result\"],\n",
    "    budget=\"low\",\n",
    ")"
   ]
  },
  {
   "cell_type": "markdown",
   "id": "755d64b7",
   "metadata": {},
   "source": [
    "Let's take a look at the output and the report card on the requirements:"
   ]
  },
  {
   "cell_type": "code",
   "execution_count": 5,
   "id": "a5c5e887",
   "metadata": {},
   "outputs": [
    {
     "name": "stdout",
     "output_type": "stream",
     "text": [
      "Run 068cdf15-48e4-7757-8000-cc73d015d060 status: completed.\n",
      "Result:\n",
      "- Name: Jonathan Rivera\n",
      "- HotelName: Hotel Artemide\n",
      "- CheckInDate: 2023-07-10\n",
      "- CheckOutDate: 2023-07-15\n",
      "- City: Rome\n",
      "- Country: Italy\n",
      "- NumberOfGuests: 2\n",
      "\n",
      "************************\n",
      "\n",
      "Requirements result:\n",
      "{\n",
      "  \"score\": 0.9,\n",
      "  \"finish_reason\": \"Budget exhausted\",\n",
      "  \"requirements\": [\n",
      "    {\n",
      "      \"name\": \"bullets\",\n",
      "      \"description\": \"Return a bulleted list where each field is a bullet.\",\n",
      "      \"is_mandatory\": false,\n",
      "      \"score\": 1.0,\n",
      "      \"reason\": \"None\"\n",
      "    },\n",
      "    {\n",
      "      \"name\": \"NA\",\n",
      "      \"description\": \"If any field is not mentioned or can\\u2019t be fully extracted from the conversation, fill it with \\\"NA\\\".\",\n",
      "      \"is_mandatory\": false,\n",
      "      \"score\": 1.0,\n",
      "      \"reason\": \"None\"\n",
      "    },\n",
      "    {\n",
      "      \"name\": \"don't make things up\",\n",
      "      \"description\": \"Do not invent, infer, or assume any details that are not explicitly stated in the conversation.\",\n",
      "      \"is_mandatory\": false,\n",
      "      \"score\": 0.6,\n",
      "      \"reason\": \"The response correctly extracted Name, HotelName, City, Country, and NumberOfGuests. However, the CheckInDate and CheckOutDate include the year 2023, which was not explicitly stated in the conversation. The user only provided the month and day (\\\"July 10th\\\" and \\\"July 15th\\\"), and the year was inferred, violating the criterion.\"\n",
      "    }\n",
      "  ]\n",
      "}\n"
     ]
    }
   ],
   "source": [
    "print(f\"Run {run.id} status: {run.status}.\\nResult:\")\n",
    "print(run.result)\n",
    "print(\"\\n************************\\n\")\n",
    "print(\"Requirements result:\")\n",
    "print(json.dumps(run.requirements_result, indent=2))"
   ]
  },
  {
   "cell_type": "markdown",
   "id": "ed24cb71bd746f4a",
   "metadata": {},
   "source": "# External Tools:\n"
  },
  {
   "metadata": {},
   "cell_type": "markdown",
   "source": [
    "## Http\n",
    "For now, Maestro supports only POST requests."
   ],
   "id": "215c5c3621e1cb20"
  },
  {
   "cell_type": "markdown",
   "id": "39f1cd21",
   "metadata": {},
   "source": [
    "We will show a simple example of using Echo API.\n",
    "First, we will define the http tool:"
   ]
  },
  {
   "cell_type": "code",
   "execution_count": 6,
   "id": "0e59a5cb",
   "metadata": {},
   "outputs": [],
   "source": [
    "import json\n",
    "from ai21.models.maestro import HttpTool, Function, Parameters, Endpoint\n",
    "\n",
    "echo_tool = HttpTool(\n",
    "    type=\"http\",\n",
    "    function=Function(\n",
    "        name=\"echo_post_httpbin\",\n",
    "        description=\"Echo back a message string using httpbin.org\",\n",
    "        parameters=Parameters(\n",
    "            type=\"object\",\n",
    "            properties={\n",
    "                \"message\": {\n",
    "                    \"type\": \"string\",\n",
    "                    \"description\": \"Any string to echo back\"\n",
    "                }\n",
    "            },\n",
    "            required=[\"message\"],\n",
    "        ),\n",
    "    ),\n",
    "    endpoint=Endpoint(\n",
    "        url=\"https://httpbin.org/post\"\n",
    "    ),\n",
    ")"
   ]
  },
  {
   "cell_type": "markdown",
   "id": "ce293858",
   "metadata": {},
   "source": [
    "Now, we will pass that tool to Maestro."
   ]
  },
  {
   "cell_type": "code",
   "execution_count": 7,
   "id": "ac15e785",
   "metadata": {},
   "outputs": [],
   "source": [
    "message = \"Stop repeating everything I say!\"\n",
    "\n",
    "run_result = await client.beta.maestro.runs.create_and_poll(\n",
    "    input=(\n",
    "        f\"Call the tool 'echo_post_httpbin' with:\\n\"\n",
    "        f'{{\"message\": \"{message}\"}}\\n'\n",
    "        \"Return the tool's raw JSON response.\"\n",
    "    ),\n",
    "    tools=[echo_tool],\n",
    ")\n",
    "\n",
    "# httpbin puts echoed content under 'json'\n",
    "resp = json.loads(run_result.result)"
   ]
  },
  {
   "cell_type": "code",
   "execution_count": 8,
   "id": "02d19e2e",
   "metadata": {},
   "outputs": [
    {
     "name": "stdout",
     "output_type": "stream",
     "text": [
      "Original message: Stop repeating everything I say!\n",
      "Agent answer: Stop repeating everything I say!\n"
     ]
    }
   ],
   "source": [
    "print(\"Original message:\", message)\n",
    "print(\"Agent answer:\", resp.get(\"json\", {}).get(\"message\"))"
   ]
  },
  {
   "metadata": {},
   "cell_type": "markdown",
   "source": [
    "## MCP\n",
    "You can use an existing MCP or connect your own.\n",
    "If you use your own, use ngrok or a similar tool to expose your local MCP server to the internet. [Full documentation](https://docs.ai21.com/docs/mcp-server-setup-guide)."
   ],
   "id": "6a6ab05e7ca9ad83"
  },
  {
   "metadata": {
    "ExecuteTime": {
     "end_time": "2025-09-20T17:19:22.820209Z",
     "start_time": "2025-09-20T17:19:13.607226Z"
    }
   },
   "cell_type": "code",
   "source": [
    "from ai21.models.maestro import McpTool\n",
    "from IPython.display import Markdown, display\n",
    "\n",
    "run_base_result = await client.beta.maestro.runs.create_and_poll(\n",
    "    input=\"What's the weather like in San Fransisco?\",\n",
    "    budget=\"low\",\n",
    "    tools=[\n",
    "        McpTool(\n",
    "            type=\"mcp\",\n",
    "            server_url=\"https://jiri-spilka--weather-mcp-server.apify.actor/mcp\",\n",
    "            server_label=\"weather-mcp\",\n",
    "            headers={\"Authorization\": \"Bearer YOUR_API_TOKEN\"},\n",
    "        )]\n",
    ")\n",
    "\n",
    "display(Markdown(run_base_result.result))"
   ],
   "id": "6f0098d7135800ba",
   "outputs": [
    {
     "data": {
      "text/plain": [
       "<IPython.core.display.Markdown object>"
      ],
      "text/markdown": "The weather in San Francisco is partly cloudy with a temperature of 18.3°C, relative humidity at 2 meters is 82%, and the dew point temperature at 2 meters is 15.2°C."
     },
     "metadata": {},
     "output_type": "display_data",
     "jetTransient": {
      "display_id": null
     }
    }
   ],
   "execution_count": 3
  },
  {
   "cell_type": "markdown",
   "id": "daadff13",
   "metadata": {},
   "source": [
    "# Enable File Search (RAG)"
   ]
  },
  {
   "cell_type": "markdown",
   "id": "32893439c1171887",
   "metadata": {},
   "source": [
    "You can upload files to the library and use \"file_search\" as a tool to Maestro.\n",
    "In this example, we will upload the [following page from Wikipedia](https://en.wikipedia.org/wiki/List_of_Pok%C3%A9mon) (downloaded as pdf)."
   ]
  },
  {
   "cell_type": "code",
   "execution_count": 9,
   "id": "91c52597eeb6ef7a",
   "metadata": {},
   "outputs": [
    {
     "name": "stdout",
     "output_type": "stream",
     "text": [
      "a9fa288d-a6b6-4a54-b294-f09b14978cbe\n"
     ]
    }
   ],
   "source": [
    "file_path = \"data/List_of_Pokémon.pdf\"\n",
    "\n",
    "file_id = await client.library.files.create(\n",
    "    file_path=str(file_path)\n",
    ")\n",
    "\n",
    "print(file_id)"
   ]
  },
  {
   "cell_type": "markdown",
   "id": "483dfbdd",
   "metadata": {},
   "source": [
    "Now enable the `file_search` tool in Maestro:"
   ]
  },
  {
   "cell_type": "code",
   "id": "a905f430",
   "metadata": {
    "ExecuteTime": {
     "end_time": "2025-09-20T17:23:39.088598Z",
     "start_time": "2025-09-20T17:23:29.205490Z"
    }
   },
   "source": [
    "run_result = await client.beta.maestro.runs.create_and_poll(\n",
    "    input=(\n",
    "        \"Give me a list of 5 pokemons from the first generation and 4 pokemons from generation 3\"\n",
    "    ),\n",
    "    tools=[{\"type\": \"file_search\"}],\n",
    "    include=[\"data_sources\"],\n",
    ")"
   ],
   "outputs": [],
   "execution_count": 5
  },
  {
   "cell_type": "markdown",
   "id": "70ed9fdd",
   "metadata": {},
   "source": [
    "Let's see the result:"
   ]
  },
  {
   "cell_type": "code",
   "id": "579917df",
   "metadata": {
    "ExecuteTime": {
     "end_time": "2025-09-20T17:23:41.976867Z",
     "start_time": "2025-09-20T17:23:41.973550Z"
    }
   },
   "source": [
    "from IPython.display import Markdown, display\n",
    "\n",
    "display(Markdown(run_result.result))"
   ],
   "outputs": [
    {
     "data": {
      "text/plain": [
       "<IPython.core.display.Markdown object>"
      ],
      "text/markdown": "Here is a list of 5 Pokémon from the first generation and 4 Pokémon from the third generation based on the provided context:\n\n**Generation 1 Pokémon:**\n1. Bulbasaur\n2. Ivysaur\n3. Venusaur\n4. Charmander\n5. Charmeleon\n\n**Generation 3 Pokémon:**\n1. Treecko\n2. Grovyle\n3. Sceptile\n4. Torchic"
     },
     "metadata": {},
     "output_type": "display_data",
     "jetTransient": {
      "display_id": null
     }
    }
   ],
   "execution_count": 6
  },
  {
   "metadata": {
    "ExecuteTime": {
     "end_time": "2025-09-20T17:23:56.560347Z",
     "start_time": "2025-09-20T17:23:56.557949Z"
    }
   },
   "cell_type": "code",
   "source": [
    "import json\n",
    "print(json.dumps(run_result.data_sources, indent=2))\n"
   ],
   "id": "14267a945e9cca19",
   "outputs": [
    {
     "name": "stdout",
     "output_type": "stream",
     "text": [
      "{\n",
      "  \"file_search\": [\n",
      "    {\n",
      "      \"text\": \"** | **New in generation** | **Total** |\\n| I | 1996\\u20131999 | Kanto | Red, Green, Blue, and Yellow | Game Boy, Nintendo 3DS[b] | 151 | 151 | 151 |\\n| II | 1999\\u20132002 | Johto, Kanto | Gold, Silver, and Crystal | Game Boy Color, Nintendo 3DS[b] | 100 | 100 | 251 |\\n| III | 2002\\u20132006 | Hoenn | Ruby, Sapphire, and Emerald | Game Boy Advance | 135 | 135 | 386 |\\n| III | 2002\\u20132006 | Kanto | FireRed and LeafGreen | Game Boy Advance | None | 135 | 386 |\\n| IV | 2006\\u20132010 | Sinnoh | Diamond, Pearl, and Platinum | Nintendo DS | 107 | 107 | 493 |\\n| IV | 2006\\u20132010 | Johto, Kanto | HeartGold and SoulSilver | Nintendo DS | None | 107 | 493 |\\n| V | 2010\\u20132013 | Unova | Black and White | Nintendo DS | 156 | 156 | 649 |\\n| V | 2010\\u20132013 | Unova | Black 2 and White 2 | Nintendo DS | None | 156 | 649 |\\n| VI | 2013\\u20132016 | Kalos | X and Y | Nintendo 3DS | 72 | 72 | 721 |\\n| VI | 2013\\u20132016 | Hoenn | Omega Ruby and Alpha Sapphire | Nintendo 3DS | None | 72 | 721 |\\n| VII | 2016\\u20132019 | Alola | Sun and Moon | Nintendo 3DS | 81 | 88 | 809 |\\n| VII | 2016\\u20132019 | Alola | Ultra Sun and\",\n",
      "      \"file_id\": \"c3c29481-48fc-4799-8b20-366d9dccb268\",\n",
      "      \"file_name\": \"List_of_Pok\\u00e9mon.pdf\",\n",
      "      \"score\": 0.68693924,\n",
      "      \"order\": 9,\n",
      "      \"public_url\": \"\",\n",
      "      \"labels\": []\n",
      "    },\n",
      "    {\n",
      "      \"text\": \"://en.wikipedia.org/wiki/Pok%C3%A9mon_FireRed_and_LeafGreen), and [Emerald](https://en.wikipedia.org/wiki/Pok%C3%A9mon_Emerald); generation IV with 107 Pok\\u00e9mon refers to [Diamond, Pearl](https://en.wikipedia.org/wiki/Pok%C3%A9mon_Diamond_and_Pearl), [Platinum](https://en.wikipedia.org/wiki/Pok%C3%A9mon_Platinum), [HeartGold, and SoulSilver](https://en.wikipedia.org/wiki/Pok%C3%A9mon_HeartGold_and_SoulSilver); generation V with 156 Pok\\u00e9mon refers to [Black, White](https://en.wikipedia.org/wiki/Pok%C3%A9mon_Black_and_White), [Black 2, and White 2](https://en.wikipedia.org/wiki/Pok%C3%A9mon_Black_2_and_White_2); generation VI with 72 Pok\\u00e9mon refers to [X, Y](https://en.wikipedia.org/wiki/Pok%C3%A9mon_X_and_Y),\\n\\nThe first 150 Pok\\u00e9mon as they appear in [Pok\\u00e9mon Stadium](https://en.wikipedia.org/wiki/Pok%C3%A9mon_Stadium), starting with [Bulbasaur](https://en.wikipedia.org/wiki/Bulbasaur) in the top left corner and ending with [Mewtwo](https://en.wikipedia.org/wiki/Mewtwo) in the bottom right corner\\n\\n[Omega Ruby, and Alpha Sapphire](https://en.wikipedia.org/wiki/Pok%C3%A9mon_Omega_Ruby_and_Alpha_Sapphire); generation VII with 88 Pok\\u00e9mon refers to [Sun, Moon](https://en.wikipedia.org/wiki/Pok%C3%A9mon_Sun_and_Moon), [Ultra Sun, Ultra Moon](https://en.wikipedia.org/wiki/Pok%C3%A9mon_Ultra_Sun_and_Ultra_Moon), Let's Go, Pikachu!, and Let's Go, Eevee!; generation VIII with 96 Pok\\u00e9mon refers to [Sword, Shield](https://en.wikipedia.org/wiki/Pok%C3%A9mon_Sword_and_Shield), [Brilliant Diamond, Shining Pearl](https://en.wikipedia.org/wiki/Pok%C3%A9mon_Brilliant_Diamond_and_Shining_Pearl), and Legends: Arceus; and generation IX with 120\",\n",
      "      \"file_id\": \"c3c29481-48fc-4799-8b20-366d9dccb268\",\n",
      "      \"file_name\": \"List_of_Pok\\u00e9mon.pdf\",\n",
      "      \"score\": 0.66955185,\n",
      "      \"order\": 1,\n",
      "      \"public_url\": \"\",\n",
      "      \"labels\": []\n",
      "    },\n",
      "    {\n",
      "      \"text\": \"| S | Starter Poke\\u0301mon (known officially as First Partner Poke\\u0301mon)[a] | The first Poke\\u0301mon a player is able to obtain in the main-line games. |\\n| F | Fossil Poke\\u0301mon[35] | Ancient Poke\\u0301mon only obtained by resurrecting fossils and their evolutions. |\\n| B | Baby Poke\\u0301mon[36] | Infant Poke\\u0301mon primarily obtained by breeding their evolved forms. |\\n| L | Legendary Poke\\u0301mon | Powerful Poke\\u0301mon associated with the legends and lore of the Poke\\u0301mon world. |\\n| M | Mythical Poke\\u0301mon | Poke\\u0301mon only obtainable through rare circumstances, such as distribution events.[f] |\\n| U | Ultra Beast | Certain Poke\\u0301mon from another dimension. |\\n| P | Paradox Poke\\u0301mon | Poke\\u0301mon resembling ancient or futuristic relatives of a modern-day Poke\\u0301mon. |\\n\\nList of Pok\\u00e9mon species names by generation[[45]](#cite_note-Pok%C3%A9dex-51)\\n\\n| Generation I | Generation I | Generation II | Generation II | Generation III | Generation III | Generation IV | Generation IV | Generation V | Generation V | Generation VI | Generation VI | Generation VII | Generation VII | Generatio | Generatio |\\n| --- | --- | --- | --- | --- | --- | --- | --- | --- | --- | --- | --- | --- | --- | --- | --- |\\n| Dex # | Name | Dex # | Name | Dex # | Name | Dex # | Name | Dex # | Name | Dex # | Name | Dex # | Name | Dex # | N |\\n| 1 | BulbasaurS | 152 | ChikoritaS | 252 | TreeckoS | 387 | TurtwigS | 494 | VictiniM | 650 | ChespinS | 722 | RowletS | 810 | Groo |\\n| 2 | Ivysaur | 153 | Bayleef | 253 | Grovyle | 388 | Grotle | 495 | SnivyS | 651 | Quilladin | 723 | Dartrix | 811 | Thwa |\\n| 3 | Venusaur | 154 | Meganium | 254 | Sceptile | 389 | Torterra | 496 | Servine | 652 | Chesnaught | 724 |\",\n",
      "      \"file_id\": \"c3c29481-48fc-4799-8b20-366d9dccb268\",\n",
      "      \"file_name\": \"List_of_Pok\\u00e9mon.pdf\",\n",
      "      \"score\": 0.65925217,\n",
      "      \"order\": 11,\n",
      "      \"public_url\": \"\",\n",
      "      \"labels\": []\n",
      "    },\n",
      "    {\n",
      "      \"text\": \"cite_note-29) New Pok\\u00e9mon introduced in generation VI, for example, are heavily influenced by the culture and [fauna](https://en.wikipedia.org/wiki/Fauna) of Europe (namely [France](https://en.wikipedia.org/wiki/France)).[[19]](#cite_note-SN_1-20) However, by the release of X and Y in 2013, Sugimori stated that he wishes for Pok\\u00e9mon design to return to the simpler roots of the franchise.[[29]](#cite_note-30)\\n\\nMasuda considers the first partner Pok\\u00e9mon among the most important in the franchise. Yoshida goes further and calls them \\\"the face of that generation\\\" and says that \\\"they're the ones that should be on the packaging\\\".[[18]](#cite_note-GamasutraBorn-19) The three Pok\\u00e9mon players start out with in each generation are always Grass-, Water-, and Fire-types, a trio that Masuda considers the easiest to understand for new players.[[26]](#cite_note-Kot_types-27) Their designs are based on recognizable animals and made to stand out\\n\\nfrom pre-existing Pok\\u00e9mon. Each are also given distinct personalities to further define them.[[30]](#cite_note-31) In an interview with [GamesRadar](https://en.wikipedia.org/wiki/GamesRadar) in 2009, Masuda stated that simple Pok\\u00e9mon take around six months to design and develop, and that Pok\\u00e9mon that play a more important part in the games may take over a year. Masuda added, \\\"We also want the designer to have as much freedom as possible; we don't want to narrow their imagination by saying, 'We want this kind of Pokemon.' When we talk to the designer we always stress that they shouldn't think of Pokemon necessarily, but should instead just be as creative as they can.\\\" After the Pok\\u00e9mon is designed, it is sent to the \\\"Battle Producer\\\", who decides which moves and stats the Pok\\u00e9mon should have.[[11]](#glitch-species)\\n\\n## List of Pok\\u00e9mon\\n\\nList of Pok\\u00e9mon generations\\n\\n| Generation | Years | Region | Titles | Platforms | Number of Poke\\u0301mon | Number of Poke\\u0301mon | Number of Poke\\u0301mon |\\n| --- | --- | --- | --- | --- | --- | --- | --- |\\n| **Generation** | **Years** | **Region** | **Titles** | **Platforms** | **New in games\",\n",
      "      \"file_id\": \"c3c29481-48fc-4799-8b20-366d9dccb268\",\n",
      "      \"file_name\": \"List_of_Pok\\u00e9mon.pdf\",\n",
      "      \"score\": 0.65908813,\n",
      "      \"order\": 8,\n",
      "      \"public_url\": \"\",\n",
      "      \"labels\": []\n",
      "    },\n",
      "    {\n",
      "      \"text\": \" PikachuS | 176 | Togetic | 276 | Taillow | 411 | BastiodonF[h] | 518 | Musharna | 674 | Pancham | 746 | Wishiwashi | 834 | Dred |\\n| 26 | Raichu | 177 | Natu | 277 | Swellow | 412 | Burmy | 519 | Pidove | 675 | Pangoro | 747 | Mareanie | 835 | Yam |\\n| 27 | Sandshrew | 178 | Xatu | 278 | Wingull | 413 | Wormadam | 520 | Tranquill | 676 | Furfrou | 748 | Toxapex | 836 | Boltu |\\n| 28 | Sandslash | 179 | Mareep | 279 | Pelipper | 414 | Mothim | 521 | Unfezant | 677 | Espurr | 749 | Mudbray | 837 | Roly |\\n| 29 | Nidoran\\u2640 | 180 | Flaaffy | 280 | Ralts | 415 | Combee | 522 | Blitzle | 678 | Meowstic | 750 | Mudsdale | 838 | Cark |\\n| 30 | Nidorina | 181 | Ampharos | 281 | Kirlia | 416 | Vespiquen | 523 | Zebstrika | 679 | Honedge | 751 | Dewpider | 839 | Coal |\\n| 31 | Nidoqueen | 182 | Bellossom | 282 | Gardevoir | 417 | Pachirisu | 524 | Roggenrola | 680 | Doublade | 752 | Araquanid | 840 | Appli |\\n| 32 | Nidoran\\u2642 | 183 | Marill |\",\n",
      "      \"file_id\": \"c3c29481-48fc-4799-8b20-366d9dccb268\",\n",
      "      \"file_name\": \"List_of_Pok\\u00e9mon.pdf\",\n",
      "      \"score\": 0.60902023,\n",
      "      \"order\": 15,\n",
      "      \"public_url\": \"\",\n",
      "      \"labels\": []\n",
      "    },\n",
      "    {\n",
      "      \"text\": \"\\n# List of Pok\\u00e9mon\\n\\nThe [Pok\\u00e9mon franchise](https://en.wikipedia.org/wiki/Pok%C3%A9mon) features 1,025 fictional species of collectible creatures, each with unique designs, skills, and powers. Conceived by [Satoshi Tajiri](https://en.wikipedia.org/wiki/Satoshi_Tajiri) in early 1989, Pok\\u00e9mon (or Pocket Monsters) are fictional creatures that inhabit the fictional Pok\\u00e9mon World. The designs for the multitude of species can draw inspiration from anything, such as [animals](https://en.wikipedia.org/wiki/Animals), [plants](https://en.wikipedia.org/wiki/Plants), and [legendary creatures](https://en.wikipedia.org/wiki/Legendary_creatures). Many Pok\\u00e9mon are capable of [evolving](https://en.wikipedia.org/wiki/Gameplay_of_Pok%C3%A9mon#Pok%C3%A9mon_evolution) into more powerful species, while others can undergo form changes and achieve similar results. Originally, only a handful of artists, led by [Ken Sugimori](https://en.wikipedia.org/wiki/Ken_Sugimori) designed Pok\\u00e9mon. However, by 2013 a team of 20 artists worked together to create new species designs. Sugimori and Hironobu Yoshida lead the team and determine the final designs.\\n\\nThe vast array of creatures is commonly divided into \\\"generations\\\", with each division primarily encompassing new titles in the [main video game series](https://en.wikipedia.org/wiki/Pok%C3%A9mon_(video_game_series)) and often a change of [handheld platform](https://en.wikipedia.org/wiki/Handheld_game_console). Generation I with 151 Pok\\u00e9mon refers to [Red, Blue](https://en.wikipedia.org/wiki/Pok%C3%A9mon_Red_and_Blue), and [Yellow](https://en.wikipedia.org/wiki/Pok%C3%A9mon_Yellow); generation II with 100 Pok\\u00e9mon refers to [Gold, Silver](https://en.wikipedia.org/wiki/Pok%C3%A9mon_Gold_and_Silver), and [Crystal](https://en.wikipedia.org/wiki/Pok%C3%A9mon_Crystal); generation III with 135 Pok\\u00e9mon refers to [Ruby, Sapphire](https://en.wikipedia.org/wiki/Pok%C3%A9mon_Ruby_and_Sapphire), [FireRed, LeafGreen](https\",\n",
      "      \"file_id\": \"c3c29481-48fc-4799-8b20-366d9dccb268\",\n",
      "      \"file_name\": \"List_of_Pok\\u00e9mon.pdf\",\n",
      "      \"score\": 0.60326004,\n",
      "      \"order\": 0,\n",
      "      \"public_url\": \"\",\n",
      "      \"labels\": []\n",
      "    },\n",
      "    {\n",
      "      \"text\": \" | Hitmonlee |\\n| 107 | Hitmonchan |\\n| 108 | Lickitung |\\n| 109 | Koffing |\\n| 110 | Weezing |\\n| 111 | Rhyhorn |\\n| 112 | Rhydon |\\n| 113 | Chansey |\\n| 114 | Tangela |\\n| 115 | Kangaskhan |\\n| 116 | Horsea |\\n| 117 | Seadra |\\n| 118 | Goldeen |\\n| 119 | Seaking |\\n| 120 | Staryu |\\n| 121 | Starmie |\\n| 122 | Mr. Mime |\\n| 123 | Scyther |\\n| 124 | Jynx |\\n| 125 | Electabuzz |\\n| 126 | Magmar |\\n| 127 | Pinsir |\\n| 128 | Tauros |\\n| 129 | Magikarp |\\n| 130 | Gyarados |\\n| 131 | Lapras |\\n| 132 | Ditto |\\n| 133 | EeveeS |\\n| 134 | Vaporeon |\\n| 135 | Jolteon |\\n| 136 | Flareon |\\n| 137 | Porygon |\\n| 138 | OmanyteF |\\n| 139 | OmastarF |\\n| 140 | KabutoF |\\n| 141 | KabutopsF |\\n| 142 | AerodactylF |\\n| 143 | Snorlax |\\n| 144 | ArticunoL |\\n| 145 | ZapdosL |\\n| 146 | MoltresL |\\n| 147 | Dratini |\\n| 148 | Dragonair |\\n| 149 | Dragonite |\\n| 150 | MewtwoL |\\n| 151 | MewM |\\n| No additional Poke\\u0301mon | No additional Poke\\u0301mon |\\n\\n| 353 | Shuppet | 488 | CresseliaL | 595 | Joltik |\\n| --- | --- | --- | --- |\",\n",
      "      \"file_id\": \"c3c29481-48fc-4799-8b20-366d9dccb268\",\n",
      "      \"file_name\": \"List_of_Pok\\u00e9mon.pdf\",\n",
      "      \"score\": 0.59921265,\n",
      "      \"order\": 26,\n",
      "      \"public_url\": \"\",\n",
      "      \"labels\": []\n",
      "    },\n",
      "    {\n",
      "      \"text\": \" Ultra Moon | Nintendo 3DS | 5 | 88 | 809 |\\n| VII | 2016\\u20132019 | Kanto | Let's Go, Pikachu! and Let's Go, Eevee! | Nintendo Switch | 2[c] | 88 | 809 |\\n| VIII | 2019\\u20132022 | Galar | Sword and Shield | Nintendo Switch | 81 | 96 | 905 |\\n| VIII | 2019\\u20132022 | Galar | The Isle of Armor expansion | Nintendo Switch | 3 | 96 | 905 |\\n| VIII | 2019\\u20132022 | Galar | The Crown Tundra expansion | Nintendo Switch | 5 | 96 | 905 |\\n| VIII | 2019\\u20132022 | Sinnoh | Brilliant Diamond and Shining Pearl | Nintendo Switch | None | 96 | 905 |\\n| VIII | 2019\\u20132022 | Hisui[d] | Legends: Arceus | Nintendo Switch | 7 | 96 | 905 |\\n| IX | 2022\\u2013 present | Paldea | Scarlet and Violet | Nintendo Switch | 105[e] | 120 | 1025 |\\n| IX | 2022\\u2013 present | Kitakami | The Teal Mask expansion | Nintendo Switch | 7 | 120 | 1025 |\\n| IX | 2022\\u2013 present | Unova, Paldea | The Indigo Disk expansion | Nintendo Switch | 7 | 120 | 1025 |\\n| IX | 2022\\u2013 present | Kitakami | Mochi Mayhem expansion | Nintendo Switch | 1 | 120 | 1025 |\\n| IX | 2022\\u2013 present | Kalos | Legends: Z-A | Nintendo Switch, Nintendo Switch 2[33][34] | TBA | 120 | 1025 |\\n\\n### List of species\\n\\nPok\\u00e9mon species glossary\\n\\n| Key | Key | Key |\\n| --- | --- | --- |\\n| Color / Letter | Meaning | Description |\\n\",\n",
      "      \"file_id\": \"c3c29481-48fc-4799-8b20-366d9dccb268\",\n",
      "      \"file_name\": \"List_of_Pok\\u00e9mon.pdf\",\n",
      "      \"score\": 0.5917282,\n",
      "      \"order\": 10,\n",
      "      \"public_url\": \"\",\n",
      "      \"labels\": []\n",
      "    },\n",
      "    {\n",
      "      \"text\": \" Pok\\u00e9mon refers to [Scarlet, Violet](https://en.wikipedia.org/wiki/Pok%C3%A9mon_Scarlet_and_Violet), and Legends: Z-A.\\n\\nDue to the large number of Pok\\u00e9mon, a listing of each species is divided into [articles by generation](#list-of-pok\\u00e9mon-1). The 1025 Pok\\u00e9mon are organized by their number in the [National Pok\\u00e9dex](https://en.wikipedia.org/wiki/Gameplay_of_Pok%C3%A9mon#Pok%C3%A9dex)\\u2014an electronic encyclopedia that provides various information on Pok\\u00e9mon. The National Pok\\u00e9dex is subdivided into regional Pok\\u00e9dex series, each revolving around species introduced at the time of their respective generations along with older generations. For example, the Johto Pok\\u00e9dex, generation II, covers the 100 species introduced in Gold and Silver in addition to the original 151 species. The encyclopedias follow a general ordering: first\\n\\npartner Pok\\u00e9mon[[1]](#cite_note-partner-1) are listed first, followed by species obtainable early in the respective games, and are concluded with Legendary and Mythical Pok\\u00e9mon.\\n\\nGeneration V is the sole exception, as Victini is the first Pok\\u00e9mon in the Unova Pok\\u00e9dex.\\n\\n## Concept\\n\\n[Satoshi Tajiri](https://en.wikipedia.org/wiki/Satoshi_Tajiri)\\u2014who later founded [Game Freak](https://en.wikipedia.org/wiki/Game_Freak)\\u2014conceived the premise of Pok\\u00e9mon in general in 1989, when the [Game Boy](https://en.wikipedia.org/wiki/Game_Boy) was released. The creatures that inhabit the world of Pok\\u00e9mon are also called Pok\\u00e9mon.[[2]](#cite_note-TIME-2) The word \\\"Pok\\u00e9mon\\\" is a [romanize](https://en.wikipedia.org/wiki/Romanization_of_Japanese)d [contraction](https://en.wikipedia.org/wiki/Contraction_(grammar)) of the Japanese brand Pocket Monsters (\\u30dd\\u30b1\\u30c3\\u30c8\\u30e2\\u30f3\\u30b9\\u30bf\\u30fc, Poketto Monsut\\u0101).[[3]](#cite_note-NYT1-3) The concept of the Pok\\u00e9mon universe, in both the video games and the general fictional world of Pok\\u00e9mon, stems most notably from Tajiri's childhood hobby of [insect collecting](https://en.wikipedia.org/wiki/Insect_collecting). Other influences on the concept include [Ultraman](https://en.wikipedia.org/wiki/Ultraman_(196\",\n",
      "      \"file_id\": \"c3c29481-48fc-4799-8b20-366d9dccb268\",\n",
      "      \"file_name\": \"List_of_Pok\\u00e9mon.pdf\",\n",
      "      \"score\": 0.58309937,\n",
      "      \"order\": 2,\n",
      "      \"public_url\": \"\",\n",
      "      \"labels\": []\n",
      "    },\n",
      "    {\n",
      "      \"text\": \"1 | Qwilfish | 311 | Plusle | 446 | MunchlaxB[g] | 553 | Krookodile | 709 | Trevenant | 781 | Dhelmise | 869 | Alcre |\\n| 61 | Poliwhirl | 212 | Scizor | 312 | Minun | 447 | RioluB[g] | 554 | Darumaka | 710 | Pumpkaboo | 782 | Jangmo-o | 870 | Falin |\\n| 62 | Poliwrath | 213 | Shuckle | 313 | Volbeat | 448 | Lucario | 555 | Darmanitan | 711 | Gourgeist | 783 | Hakamo-o | 871 | Pinc |\\n| 63 | Abra | 214 | Heracross | 314 | Illumise | 449 | Hippopotas | 556 | Maractus | 712 | Bergmite | 784 | Kommo-o | 872 | Snom |\\n| 64 | Kadabra | 215 | Sneasel | 315 | Roselia | 450 | Hippowdon | 557 | Dwebble | 713 | Avalugg | 785 | Tapu KokoL | 873 | Fros |\\n| 65 | Alakazam | 216 | Teddiursa | 316 | Gulpin | 451 | Skorupi | 558 | Crustle | 714 | Noibat | 786 | Tapu LeleL | 874 | Stonj |\\n| 66 | Machop | 217 | Ursaring | 317 | Swalot | 452 | Drapion | 559 | Scraggy | 715 | Noivern | 787 | Tapu BuluL | 875 | Eiscu |\\n| 67 | Machoke | \",\n",
      "      \"file_id\": \"c3c29481-48fc-4799-8b20-366d9dccb268\",\n",
      "      \"file_name\": \"List_of_Pok\\u00e9mon.pdf\",\n",
      "      \"score\": 0.5656433,\n",
      "      \"order\": 20,\n",
      "      \"public_url\": \"\",\n",
      "      \"labels\": []\n",
      "    },\n",
      "    {\n",
      "      \"text\": \" of 105 [glitch](https://en.wikipedia.org/wiki/Glitch) Pok\\u00e9mon. These species were not designed by the games' designers but could be encountered via the use of several glitches. Among them is a glitch dubbed [MissingNo.](https://en.wikipedia.org/wiki/MissingNo), which became highly notorious.[[47]](#cite_note-55)\\n\\n## Notes\\n\\n1. Official promotional sources have preferred the use of first partner or first partner Pok\\u00e9mon since at least 2019.[[1]](#cite_note-partner-1)\\n2. The Generation I and II main series games were later re-released via the Nintendo 3DS eShop in 2016\\u20132018, with the Generation I titles being in celebration of the franchise's 20th anniversary.\\n3. Two Pok\\u00e9mon, Meltan and Melmetal, were introduced in a 2018 update to the spin-off [gam](https://en.wikipedia.org/wiki/Mobile_game)e [Pok\\u00e9mon Go](https://en.wikipedia.org/wiki/Pok%C3%A9mon_Go). Let's Go, Pikachu! and Let's Go, Eevee! include Meltan and Melmetal as playable Pok\\u00e9mon only through being transferred over from Pok\\u00e9mon Go.[[31]](#cite_note-33)\\n4. Hisui was the ancient name for the region of Sinnoh\\n5. Two Paradox Pok\\u00e9mon, Walking Wake and Iron Leaves, were added post-release in an online event starting 27 February 2023.[[32]](#cite_note-36)\\n6. Certain mythical Pok\\u00e9mon are permanently obtainable in-game, being Deoxys in [Omega Ruby and Alpha Sapphire](https://en.wikipedia.org/wiki/Pok%C3%A9mon_Omega_Ruby_and_Alpha_Sapphire),[[37]](#cite_note-42) Magearna in [Sun,](https://en.wikipedia.org/wiki/Pok%C3%A9mon_Sun_and_Moon) [Moon](https://en.wikipedia.org/wiki/Pok%C3%A9mon_Sun_and_Moon), [Ultra Sun and Ultra Moon](https://en.wikipedia.org/wiki/Pok%C3%A9mon_Ultra_Sun_and_Ultra_Moon),[[38]](#cite_note-43) Celebi in the [Virtual Console](https://en.wikipedia.org/wiki/Virtual_Console\",\n",
      "      \"file_id\": \"c3c29481-48fc-4799-8b20-366d9dccb268\",\n",
      "      \"file_name\": \"List_of_Pok\\u00e9mon.pdf\",\n",
      "      \"score\": 0.563282,\n",
      "      \"order\": 30,\n",
      "      \"public_url\": \"\",\n",
      "      \"labels\": []\n",
      "    },\n",
      "    {\n",
      "      \"text\": \" Decidueye | 812 | Rilla |\\n| 4 | CharmanderS | 155 | CyndaquilS | 255 | TorchicS | 390 | ChimcharS | 497 | Serperior | 653 | FennekinS | 725 | LittenS | 813 | Scor |\\n| 5 | Charmeleon | 156 | Quilava | 256 | Combusken | 391 | Monferno | 498 | TepigS | 654 | Braixen | 726 | Torracat | 814 | Rabo |\\n| 6 | Charizard | 157 | Typhlosion | 257 | Blaziken | 392 | Infernape | 499 | Pignite | 655 | Delphox | 727 | Incineroar | 815 | Cind |\\n| 7 | SquirtleS | 158 | TotodileS | 258 | MudkipS | 393 | PiplupS | 500 | Emboar | 656 | FroakieS | 728 | PopplioS | 816 | Sobb |\\n| 8 | Wartortle | 159 | Croconaw | 259 | Marshtomp | 394 | Prinplup | 501 | OshawottS | 657 | Frogadier | 729 | Brionne | 817 | Drizz |\\n| 9 | Blastoise | 160 | Feraligatr | 260 | Swampert | 395 | Empoleon | 502 | Dewott | 658 | Greninja | 730 | Primarina | 818 | Intele |\\n| 10 | Caterpie | 161 | Sentret | 261 | Poochyena | 396 | Starly | 503 | Samurott | 659 | Bunnelby | 731 | Pikipek | \",\n",
      "      \"file_id\": \"c3c29481-48fc-4799-8b20-366d9dccb268\",\n",
      "      \"file_name\": \"List_of_Pok\\u00e9mon.pdf\",\n",
      "      \"score\": 0.55667496,\n",
      "      \"order\": 12,\n",
      "      \"public_url\": \"\",\n",
      "      \"labels\": []\n",
      "    },\n",
      "    {\n",
      "      \"text\": \" Pidgeot | 169 | Crobat | 269 | Dustox | 404 | Luxio | 511 | Pansage | 667 | Litleo | 739 | Crabrawler | 827 | Nicki |\\n| 19 | Rattata | 170 | Chinchou | 270 | Lotad | 405 | Luxray | 512 | Simisage | 668 | Pyroar | 740 | Crabominable | 828 | Thiev |\\n| 20 | Raticate | 171 | Lanturn | 271 | Lombre | 406 | BudewB[g] | 513 | Pansear | 669 | Flabe\\u0301be\\u0301 | 741 | Oricorio | 829 | Goss |\\n| 21 | Spearow | 172 | PichuB[g] | 272 | Ludicolo | 407 | Roserade | 514 | Simisear | 670 | Floette | 742 | Cutiefly | 830 | Elde |\\n| 22 | Fearow | 173 | CleffaB[g] | 273 | Seedot | 408 | CranidosF[h] | 515 | Panpour | 671 | Florges | 743 | Ribombee | 831 | Wool |\\n| 23 | Ekans | 174 | IgglybuffB | 274 | Nuzleaf | 409 | RampardosF[h] | 516 | Simipour | 672 | Skiddo | 744 | Rockruff | 832 | Dubw |\\n| 24 | Arbok | 175 | TogepiB[g] | 275 | Shiftry | 410 | ShieldonF[h] | 517 | Munna | 673 | Gogoat | 745 | Lycanroc | 833 | Chew |\\n| 25 |\",\n",
      "      \"file_id\": \"c3c29481-48fc-4799-8b20-366d9dccb268\",\n",
      "      \"file_name\": \"List_of_Pok\\u00e9mon.pdf\",\n",
      "      \"score\": 0.5561333,\n",
      "      \"order\": 14,\n",
      "      \"public_url\": \"\",\n",
      "      \"labels\": []\n",
      "    },\n",
      "    {\n",
      "      \"text\": \"819 | Skwo |\\n| 11 | Metapod | 162 | Furret | 262 | Mightyena | 397 | Staravia | 504 | Patrat | 660 | Diggersby | 732 | Trumbeak | 820 | Gree |\\n| 12 | Butterfree | 163 | Hoothoot | 263 | Zigzagoon | 398 | Staraptor | 505 | Watchog | 661 | Fletchling | 733 | Toucannon | 821 | Rook |\\n| 13 | Weedle | 164 | Noctowl | 264 | Linoone | 399 | Bidoof | 506 | Lillipup | 662 | Fletchinder | 734 | Yungoos | 822 | Corvi |\\n| 14 | Kakuna | 165 | Ledyba | 265 | Wurmple | 400 | Bibarel | 507 | Herdier | 663 | Talonflame | 735 | Gumshoos | 823 | Corvi |\\n| 15 | Beedrill | 166 | Ledian | 266 | Silcoon | 401 | Kricketot | 508 | Stoutland | 664 | Scatterbug | 736 | Grubbin | 824 | Blipb |\\n| 16 | Pidgey | 167 | Spinarak | 267 | Beautifly | 402 | Kricketune | 509 | Purrloin | 665 | Spewpa | 737 | Charjabug | 825 | Dottl |\\n| 17 | Pidgeotto | 168 | Ariados | 268 | Cascoon | 403 | Shinx | 510 | Liepard | 666 | Vivillon | 738 | Vikavolt | 826 | Orbe |\\n| 18 |\",\n",
      "      \"file_id\": \"c3c29481-48fc-4799-8b20-366d9dccb268\",\n",
      "      \"file_name\": \"List_of_Pok\\u00e9mon.pdf\",\n",
      "      \"score\": 0.55358887,\n",
      "      \"order\": 13,\n",
      "      \"public_url\": \"\",\n",
      "      \"labels\": []\n",
      "    },\n",
      "    {\n",
      "      \"text\": \" --- | --- |\\n| 354 | Banette | 489 | PhioneM | 596 | Galvantula |\\n| 355 | Duskull | 490 | ManaphyM | 597 | Ferroseed |\\n| 356 | Dusclops | 491 | DarkraiM | 598 | Ferrothorn |\\n| 357 | Tropius | 492 | ShayminM | 599 | Klink |\\n| 358 | Chimecho | 493 | ArceusM | 600 | Klang |\\n| 359 | Absol | No additional Poke\\u0301mon | No additional Poke\\u0301mon | 601 | Klinklang |\\n| No additional Poke\\u0301mon | No additional Poke\\u0301mon | 360 | WynautB | 602 | Tynamo |\\n| No additional Poke\\u0301mon | No additional Poke\\u0301mon | 361 | Snorunt | 603 | Eelektrik |\\n| No additional Poke\\u0301mon | No additional Poke\\u0301mon | 362 | Glalie | 604 | Eelektross |\\n| No additional Poke\\u0301mon | No additional Poke\\u0301mon | 363 | Spheal | 605 | Elgyem |\\n| No additional Poke\\u0301mon | No additional Poke\\u0301mon | 364 | Sealeo | 606 | Beheeyem |\\n| No additional Poke\\u0301mon | No additional Poke\\u0301mon | 365 | Walrein | 607 | Litwick |\\n| No additional Poke\\u0301mon | No additional Poke\\u0301mon | 366 | Clamperl | 608 | Lampent |\\n| No additional Poke\\u0301mon | No additional Poke\\u0301mon | 367 | Huntail | 609 | Chandelure |\\n| No additional Poke\\u0301mon | No additional Poke\\u0301mon | 368 | Gorebyss | 610 | Axew |\\n| No additional Poke\\u0301mon | No additional Poke\\u0301mon | 369 | Relicanth | 611 | Fraxure |\\n| No additional Poke\\u0301mon | No additional Poke\\u0301mon | 370 | Luvdisc | 612 | Haxorus |\\n| No additional Poke\\u0301mon | No additional Poke\\u0301mon | 371 | Bagon | 613 | Cubchoo |\\n| No additional Poke\\u0301mon | No additional Poke\\u0301mon | \",\n",
      "      \"file_id\": \"c3c29481-48fc-4799-8b20-366d9dccb268\",\n",
      "      \"file_name\": \"List_of_Pok\\u00e9mon.pdf\",\n",
      "      \"score\": 0.5519638,\n",
      "      \"order\": 27,\n",
      "      \"public_url\": \"\",\n",
      "      \"labels\": []\n",
      "    },\n",
      "    {\n",
      "      \"text\": \" 283 | Surskit | 418 | Buizel | 525 | Boldore | 681 | Aegislash | 753 | Fomantis | 841 | Flap |\\n| 33 | Nidorino | 184 | Azumarill | 284 | Masquerain | 419 | Floatzel | 526 | Gigalith | 682 | Spritzee | 754 | Lurantis | 842 | Appl |\\n| 34 | Nidoking | 185 | Sudowoodo | 285 | Shroomish | 420 | Cherubi | 527 | Woobat | 683 | Aromatisse | 755 | Morelull | 843 | Silico |\\n| 35 | Clefairy | 186 | Politoed | 286 | Breloom | 421 | Cherrim | 528 | Swoobat | 684 | Swirlix | 756 | Shiinotic | 844 | Sand |\\n| 36 | Clefable | 187 | Hoppip | 287 | Slakoth | 422 | Shellos | 529 | Drilbur | 685 | Slurpuff | 757 | Salandit | 845 | Cram |\\n| 37 | Vulpix | 188 | Skiploom | 288 | Vigoroth | 423 | Gastrodon | 530 | Excadrill | 686 | Inkay | 758 | Salazzle | 846 | Arrok |\\n| 38 | Ninetales | 189 | Jumpluff | 289 | Slaking | 424 | Ambipom | 531 | Audino | 687 | Malamar | 759 | Stufful | 847 | Barra |\\n| 39 | Jigglypuff | 190 | Aipom | 290 | Nincada\",\n",
      "      \"file_id\": \"c3c29481-48fc-4799-8b20-366d9dccb268\",\n",
      "      \"file_name\": \"List_of_Pok\\u00e9mon.pdf\",\n",
      "      \"score\": 0.5488243,\n",
      "      \"order\": 16,\n",
      "      \"public_url\": \"\",\n",
      "      \"labels\": []\n",
      "    },\n",
      "    {\n",
      "      \"text\": \" | 425 | Drifloon | 532 | Timburr | 688 | Binacle | 760 | Bewear | 848 | Toxe |\\n| 40 | Wigglytuff | 191 | Sunkern | 291 | Ninjask | 426 | Drifblim | 533 | Gurdurr | 689 | Barbaracle | 761 | Bounsweet | 849 | Toxtr |\\n| 41 | Zubat | 192 | Sunflora | 292 | Shedinja | 427 | Buneary | 534 | Conkeldurr | 690 | Skrelp | 762 | Steenee | 850 | Sizzli |\\n| 42 | Golbat | 193 | Yanma | 293 | Whismur | 428 | Lopunny | 535 | Tympole | 691 | Dragalge | 763 | Tsareena | 851 | Cent |\\n| 43 | Oddish | 194 | Wooper | 294 | Loudred | 429 | Mismagius | 536 | Palpitoad | 692 | Clauncher | 764 | Comfey | 852 | Clob |\\n| 44 | Gloom | 195 | Quagsire | 295 | Exploud | 430 | Honchkrow | 537 | Seismitoad | 693 | Clawitzer | 765 | Oranguru | 853 | Grap |\\n| 45 | Vileplume | 196 | Espeon | 296 | Makuhita | 431 | Glameow | 538 | Throh | 694 | Helioptile | 766 | Passimian | 854 | Sinis |\\n| 46 | Paras | 197 | Umbreon | 297 | Hariyama | 432 | Purugly |\",\n",
      "      \"file_id\": \"c3c29481-48fc-4799-8b20-366d9dccb268\",\n",
      "      \"file_name\": \"List_of_Pok\\u00e9mon.pdf\",\n",
      "      \"score\": 0.5446205,\n",
      "      \"order\": 17,\n",
      "      \"public_url\": \"\",\n",
      "      \"labels\": []\n",
      "    },\n",
      "    {\n",
      "      \"text\": \" --- | --- |\\n| 53 | Persian | 204 | Pineco | 304 | Aron | 439 | Mime Jr.B[g] | 546 | Cottonee | 702 | Dedenne | 774 | Minior | 862 | Obst |\\n| 54 | Psyduck | 205 | Forretress | 305 | Lairon | 440 | HappinyB[g] | 547 | Whimsicott | 703 | Carbink | 775 | Komala | 863 | Perrs |\\n| 55 | Golduck | 206 | Dunsparce | 306 | Aggron | 441 | Chatot | 548 | Petilil | 704 | Goomy | 776 | Turtonator | 864 | Curs |\\n| 56 | Mankey | 207 | Gligar | 307 | Meditite | 442 | Spiritomb | 549 | Lilligant | 705 | Sliggoo | 777 | Togedemaru | 865 | Sirfet |\\n| 57 | Primeape | 208 | Steelix | 308 | Medicham | 443 | Gible | 550 | Basculin | 706 | Goodra | 778 | Mimikyu | 866 | Mr. R |\\n| 58 | Growlithe | 209 | Snubbull | 309 | Electrike | 444 | Gabite | 551 | Sandile | 707 | Klefki | 779 | Bruxish | 867 | Rune |\\n| 59 | Arcanine | 210 | Granbull | 310 | Manectric | 445 | Garchomp | 552 | Krokorok | 708 | Phantump | 780 | Drampa | 868 | Milce |\\n| 60 | Poliwag | 21\",\n",
      "      \"file_id\": \"c3c29481-48fc-4799-8b20-366d9dccb268\",\n",
      "      \"file_name\": \"List_of_Pok\\u00e9mon.pdf\",\n",
      "      \"score\": 0.54356766,\n",
      "      \"order\": 19,\n",
      "      \"public_url\": \"\",\n",
      "      \"labels\": []\n",
      "    },\n",
      "    {\n",
      "      \"text\": \") version of [Crystal](https://en.wikipedia.org/wiki/Pok%C3%A9mon_Crystal),[[39]](#cite_note-44) Keldeo in [Sword and Shield](https://en.wikipedia.org/wiki/Pok%C3%A9mon_Sword_and_Shield) 's The Crown Tundra expansion,[[40]](#cite_note-45) Mew, Jirachi, Darkrai and Arceus in [Brilliant Diamond and Shining Pearl](https://en.wikipedia.org/wiki/Pok%C3%A9mon_Brilliant_Diamond_and_Shining_Pearl),[[41]](#cite_note-46)[[42]](#cite_note-47) Manaphy, Phione, Shaymin, Darkrai and Arceus in Legends: Arceus,[[43]](#cite_note-LAlocations-48) and Meloetta in [Scarlet and Violet](https://en.wikipedia.org/wiki/Pok%C3%A9mon_Scarlet_and_Violet) 's The Indigo Disk expansion.[[44]](#cite_note-MeloettaSV-49)\\n7. Legends: Arceus has no breeding mechanic.[[46]](#cite_note-52) Consequently Pichu, Cleffa, Togepi, Elekid, Magby, Budew, Chingling, Bonsly, Mime Jr., Happiny, Munchlax, Riolu, and Mantyke can only be found in the wild in that game.\\n8. Although Cranidos, Rampardos, Shieldon and Bastiodon are Fossil Pok\\u00e9mon, they are obtainable in the wild in Legends: Arceus.[[43]](#cite_note-LAlocations-48)\\n\\n## References\\n\\n1. [Masuda, Junichi](https://en.wikipedia.org/wiki/Junichi_Masuda) (5 June 2019). [\\\"Pok\\u00e9mon Direct 6.5.2019\\\" (https://](https://www.youtube.com/watch?v=PpjVUOJkX-s) [www.youtube.com/watch?v=PpjVUOJkX-s)](https://www.youtube.com/watch?v=PpjVUOJkX-s). [Nintendo of America](https://en.wikipedia.org/wiki/Nintendo_of_America). Event occurs at\",\n",
      "      \"file_id\": \"c3c29481-48fc-4799-8b20-366d9dccb268\",\n",
      "      \"file_name\": \"List_of_Pok\\u00e9mon.pdf\",\n",
      "      \"score\": 0.5413513,\n",
      "      \"order\": 31,\n",
      "      \"public_url\": \"\",\n",
      "      \"labels\": []\n",
      "    },\n",
      "    {\n",
      "      \"text\": \"| No additional Poke\\u0301mon | No additional Poke\\u0301mon | No additional Poke\\u0301mon | No additional Poke\\u0301mon | 633 | Deino |\\n| No additional Poke\\u0301mon | No additional Poke\\u0301mon | No additional Poke\\u0301mon | No additional Poke\\u0301mon | 634 | Zweilous |\\n| No additional Poke\\u0301mon | No additional Poke\\u0301mon | No additional Poke\\u0301mon | No additional Poke\\u0301mon | 635 | Hydreigon |\\n| No additional Poke\\u0301mon | No additional Poke\\u0301mon | No additional Poke\\u0301mon | No additional Poke\\u0301mon | 636 | Larvesta |\\n| No additional Poke\\u0301mon | No additional Poke\\u0301mon | No additional Poke\\u0301mon | No additional Poke\\u0301mon | 637 | Volcarona |\\n| No additional Poke\\u0301mon | No additional Poke\\u0301mon | No additional Poke\\u0301mon | No additional Poke\\u0301mon | 638 | CobalionL |\\n| No additional Poke\\u0301mon | No additional Poke\\u0301mon | No additional Poke\\u0301mon | No additional Poke\\u0301mon | 639 | TerrakionL |\\n| No additional Poke\\u0301mon | No additional Poke\\u0301mon | No additional Poke\\u0301mon | No additional Poke\\u0301mon | 640 | VirizionL |\\n| No additional Poke\\u0301mon | No additional Poke\\u0301mon | No additional Poke\\u0301mon | No additional Poke\\u0301mon | 641 | TornadusL |\\n| No additional Poke\\u0301mon | No additional Poke\\u0301mon | No additional Poke\\u0301mon | No additional Poke\\u0301mon | 642 | ThundurusL |\\n| No additional Poke\\u0301mon | No additional Poke\\u0301mon | No additional Poke\\u0301mon | No additional Poke\\u0301mon | 643 | ReshiramL |\\n| No additional Poke\\u0301mon | No additional Poke\\u0301mon | No additional Poke\\u0301mon | No additional Poke\\u0301mon | 644 | ZekromL |\\n| No additional Poke\\u0301mon | No additional Poke\\u0301mon | No additional Poke\\u0301mon | No additional Poke\\u0301mon | 645 | LandorusL |\\n\\n| \\u200b | \\u200b | \\u200b | \\u200b | 646 | KyuremL | \\u200b | \\u200b | \\u200b |\\n| --- | --- | --- | --- | --- | --- | --- | --- | --- |\\n| **** | **** | **** | **** | **647** | **KeldeoM** | **** | **** | **** |\\n| **** | **** | **** | **** | **648** | **MeloettaM** | **** | **** | **** |\\n| **** | **** | **** | **** | **649** | **GenesectM** | **** | **** | **** |\\n\\n### Glitch species\\n\\nIn the Game Boy Pok\\u00e9mon games, Pok\\u00e9mon Red, Green, Blue, and Yellow, players were able to access a set\",\n",
      "      \"file_id\": \"c3c29481-48fc-4799-8b20-366d9dccb268\",\n",
      "      \"file_name\": \"List_of_Pok\\u00e9mon.pdf\",\n",
      "      \"score\": 0.5406914,\n",
      "      \"order\": 29,\n",
      "      \"public_url\": \"\",\n",
      "      \"labels\": []\n",
      "    }\n",
      "  ]\n",
      "}\n"
     ]
    }
   ],
   "execution_count": 10
  },
  {
   "metadata": {},
   "cell_type": "markdown",
   "source": [
    "# Web Search\n",
    "You can use web search as a tool to Maestro."
   ],
   "id": "d87932d9732047bf"
  },
  {
   "metadata": {
    "ExecuteTime": {
     "end_time": "2025-09-20T17:27:27.212028Z",
     "start_time": "2025-09-20T17:26:51.810970Z"
    }
   },
   "cell_type": "code",
   "source": [
    "run_result = await client.beta.maestro.runs.create_and_poll(\n",
    "    input=(\n",
    "        \"Give me a list of 5 pokemons from the first generation and 4 pokemons from generation 3\"\n",
    "    ),\n",
    "    tools=[{\"type\": \"web_search\"}],\n",
    "    include=[\"data_sources\"],\n",
    ")\n",
    "display(Markdown(run_result.result))\n"
   ],
   "id": "3419b1a1a9c55da4",
   "outputs": [
    {
     "data": {
      "text/plain": [
       "<IPython.core.display.Markdown object>"
      ],
      "text/markdown": "Here are 5 Pokémon from the first generation:\n1. Bulbasaur\n2. Charmander\n3. Squirtle\n4. Pikachu\n5. Jigglypuff\n\nAnd here are 4 Pokémon from the third generation:\n1. Treecko\n2. Torchic\n3. Mudkip\n4. Zigzagoon"
     },
     "metadata": {},
     "output_type": "display_data",
     "jetTransient": {
      "display_id": null
     }
    }
   ],
   "execution_count": 13
  },
  {
   "metadata": {},
   "cell_type": "markdown",
   "source": [
    "# Chat messages (history)\n",
    "`input` can be either a `string` or a list of dictionaries, consists of `role` and `content`."
   ],
   "id": "f9c13e013ed1d8a"
  },
  {
   "cell_type": "code",
   "execution_count": 12,
   "id": "53e001f1a4387045",
   "metadata": {},
   "outputs": [
    {
     "name": "stdout",
     "output_type": "stream",
     "text": [
      "Result: Arceus\n"
     ]
    }
   ],
   "source": [
    "run = await client.beta.maestro.runs.create_and_poll(\n",
    "    input=[\n",
    "        {\"role\": \"user\", \"content\": \"hi\"},\n",
    "        {\"role\": \"assistant\", \"content\": \"Hello, how may I assist you today?\"},\n",
    "        {\"role\": \"user\", \"content\": \"Which Pokemon is the best?\"},\n",
    "    ],\n",
    "    budget=\"low\",\n",
    "    poll_interval_sec=1,\n",
    "    poll_timeout_sec=20,\n",
    ")\n",
    "\n",
    "print(\"Result:\", run.result)"
   ]
  }
 ],
 "metadata": {
  "kernelspec": {
   "display_name": "Python 3 (ipykernel)",
   "language": "python",
   "name": "python3"
  },
  "language_info": {
   "codemirror_mode": {
    "name": "ipython",
    "version": 3
   },
   "file_extension": ".py",
   "mimetype": "text/x-python",
   "name": "python",
   "nbconvert_exporter": "python",
   "pygments_lexer": "ipython3",
   "version": "3.9.6"
  }
 },
 "nbformat": 4,
 "nbformat_minor": 5
}
