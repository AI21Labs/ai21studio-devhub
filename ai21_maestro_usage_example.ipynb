{
 "cells": [
  {
   "cell_type": "markdown",
   "id": "d42640cf",
   "metadata": {},
   "source": [
    "# AI21 Maestro — Usage Example\n",
    "\n",
    "Here you will find simple usage example for AI21 Maestro. For more information, check out ai21 [technical documentation](https://docs.ai21.com/)."
   ]
  },
  {
   "cell_type": "markdown",
   "id": "3cbd2ac6",
   "metadata": {},
   "source": [
    "**Setup.** Import Maestro SDK classes. Make sure your API key is configured (env or client init). You can find your api key [here](https://studio.ai21.com/v2/account/api-key?source=docs&_gl=1*u1mkxz*_gcl_au*OTIzMDQ5NzU0LjE3NDkyOTE4NjA)."
   ]
  },
  {
   "cell_type": "code",
   "execution_count": 1,
   "id": "2d9439a5",
   "metadata": {
    "ExecuteTime": {
     "end_time": "2025-09-19T18:27:28.318919Z",
     "start_time": "2025-09-19T18:27:27.448561Z"
    }
   },
   "outputs": [
    {
     "name": "stdout",
     "output_type": "stream",
     "text": [
      "Requirement already satisfied: ai21 in /Users/yuvalbelfer/.pyenv/versions/3.9.6/envs/jupyter-env/lib/python3.9/site-packages (4.2.0)\n",
      "Requirement already satisfied: httpx<1.0.0,>=0.27.0 in /Users/yuvalbelfer/.pyenv/versions/3.9.6/envs/jupyter-env/lib/python3.9/site-packages (from ai21) (0.27.0)\n",
      "Requirement already satisfied: pydantic<3.0.0,>=1.9.0 in /Users/yuvalbelfer/.pyenv/versions/3.9.6/envs/jupyter-env/lib/python3.9/site-packages (from ai21) (2.8.2)\n",
      "Requirement already satisfied: tenacity<9.0.0,>=8.3.0 in /Users/yuvalbelfer/.pyenv/versions/3.9.6/envs/jupyter-env/lib/python3.9/site-packages (from ai21) (8.5.0)\n",
      "Requirement already satisfied: typing-extensions<5.0.0,>=4.9.0 in /Users/yuvalbelfer/.pyenv/versions/3.9.6/envs/jupyter-env/lib/python3.9/site-packages (from ai21) (4.12.2)\n",
      "Requirement already satisfied: anyio in /Users/yuvalbelfer/.pyenv/versions/3.9.6/envs/jupyter-env/lib/python3.9/site-packages (from httpx<1.0.0,>=0.27.0->ai21) (4.4.0)\n",
      "Requirement already satisfied: certifi in /Users/yuvalbelfer/.pyenv/versions/3.9.6/envs/jupyter-env/lib/python3.9/site-packages (from httpx<1.0.0,>=0.27.0->ai21) (2022.6.15)\n",
      "Requirement already satisfied: httpcore==1.* in /Users/yuvalbelfer/.pyenv/versions/3.9.6/envs/jupyter-env/lib/python3.9/site-packages (from httpx<1.0.0,>=0.27.0->ai21) (1.0.2)\n",
      "Requirement already satisfied: idna in /Users/yuvalbelfer/.pyenv/versions/3.9.6/envs/jupyter-env/lib/python3.9/site-packages (from httpx<1.0.0,>=0.27.0->ai21) (3.3)\n",
      "Requirement already satisfied: sniffio in /Users/yuvalbelfer/.pyenv/versions/3.9.6/envs/jupyter-env/lib/python3.9/site-packages (from httpx<1.0.0,>=0.27.0->ai21) (1.3.0)\n",
      "Requirement already satisfied: h11<0.15,>=0.13 in /Users/yuvalbelfer/.pyenv/versions/3.9.6/envs/jupyter-env/lib/python3.9/site-packages (from httpcore==1.*->httpx<1.0.0,>=0.27.0->ai21) (0.14.0)\n",
      "Requirement already satisfied: annotated-types>=0.4.0 in /Users/yuvalbelfer/.pyenv/versions/3.9.6/envs/jupyter-env/lib/python3.9/site-packages (from pydantic<3.0.0,>=1.9.0->ai21) (0.7.0)\n",
      "Requirement already satisfied: pydantic-core==2.20.1 in /Users/yuvalbelfer/.pyenv/versions/3.9.6/envs/jupyter-env/lib/python3.9/site-packages (from pydantic<3.0.0,>=1.9.0->ai21) (2.20.1)\n",
      "Requirement already satisfied: exceptiongroup>=1.0.2 in /Users/yuvalbelfer/.pyenv/versions/3.9.6/envs/jupyter-env/lib/python3.9/site-packages (from anyio->httpx<1.0.0,>=0.27.0->ai21) (1.1.2)\n",
      "\n",
      "\u001b[1m[\u001b[0m\u001b[34;49mnotice\u001b[0m\u001b[1;39;49m]\u001b[0m\u001b[39;49m A new release of pip is available: \u001b[0m\u001b[31;49m23.3.1\u001b[0m\u001b[39;49m -> \u001b[0m\u001b[32;49m25.2\u001b[0m\n",
      "\u001b[1m[\u001b[0m\u001b[34;49mnotice\u001b[0m\u001b[1;39;49m]\u001b[0m\u001b[39;49m To update, run: \u001b[0m\u001b[32;49mpython3.9 -m pip install --upgrade pip\u001b[0m\n"
     ]
    }
   ],
   "source": [
    "# Setup and initialization\n",
    "!pip install ai21\n",
    "\n",
    "import ai21"
   ]
  },
  {
   "cell_type": "markdown",
   "id": "00922c9c",
   "metadata": {},
   "source": [
    "**Setup.** Import Maestro SDK classes. Make sure your API key is configured (env or client init)."
   ]
  },
  {
   "cell_type": "code",
   "execution_count": 2,
   "id": "a63295d8",
   "metadata": {},
   "outputs": [],
   "source": [
    "from ai21 import AsyncAI21Client\n",
    "\n",
    "AI21_API_KEY = \"<YOUR_AI21_API_KEY_HERE>\"\n",
    "client = AsyncAI21Client(api_key=AI21_API_KEY)"
   ]
  },
  {
   "cell_type": "markdown",
   "id": "2610d67b",
   "metadata": {},
   "source": [
    "## Generate with Requirements\n",
    "Use requirements to get more accurate results. Maestro will validate that all your requirements are met, and will provide a report card at the end of the run.\n",
    "\n",
    "The parameters:\n",
    "\n",
    "1. `requirements` is a list of either:\n",
    "   - `Requirement` objects\n",
    "   - an ordinary dictionary with the keys `name` and `description`.\n",
    "2. Use `include` to get a `requirements_result` with a full report of which requirements were actually fulfilled.\n",
    "3. `models` is a list of strings representing Model integration names you previously set in [AI21 Studio](https://studio.ai21.com/).\n",
    "\n",
    "Let's look at the example:\n",
    "We want to extract information from an unstructured text, but without the LLM making up things."
   ]
  },
  {
   "cell_type": "markdown",
   "id": "3de33a38",
   "metadata": {},
   "source": [
    "First, we will build the prompt and define the requirements:"
   ]
  },
  {
   "cell_type": "code",
   "execution_count": 3,
   "id": "8c1f28f5fd1e4754",
   "metadata": {},
   "outputs": [],
   "source": [
    "prompt = \"\"\"You are an expert in extracting structured information from unstructured text, specifically travel booking conversations.\n",
    "You are given a conversation as plain text between a user and an AI travel agent. Extract and return the following fields:\n",
    "Name: Full name of the traveler\n",
    "HotelName: Name of the hotel selected by the traveler\n",
    "CheckInDate: Check-in date in YYYY-MM-DD format if the date can fully be extracted\n",
    "CheckOutDate: Check-out date in YYYY-MM-DD format if the date can fully be extracted\n",
    "City: City where the hotel is located\n",
    "Country: Country where the hotel is located\n",
    "NumberOfGuests: Total number of guests\"\"\"\n",
    "\n",
    "requirements = [\n",
    "    {\n",
    "        \"name\": \"bullets\",\n",
    "        \"description\": \"Return a bulleted list where each field is a bullet.\",\n",
    "    },\n",
    "    {\n",
    "        \"name\": \"NA\",\n",
    "        \"description\": 'If any field is not mentioned or can’t be fully extracted from the conversation, fill it with \"NA\".',\n",
    "    },\n",
    "    {\n",
    "        \"name\": \"don't make things up\",\n",
    "        \"description\": \"Do not invent, infer, or assume any details that are not explicitly stated in the conversation.\",\n",
    "    },\n",
    "]\n",
    "\n",
    "\n",
    "conversation = \"\"\"Conversation:\n",
    "User: Hi there! I'm planning a trip to Rome next month and need help booking a hotel.\n",
    "AI: I'd be happy to help! Could you tell me your travel dates and how many people will be staying?\n",
    "User: Sure. I'll be arriving on July 10th and checking out on July 15th. It'll be just me and my wife, so 2 guests.\n",
    "AI: Great. Would you like me to recommend some hotels in Rome, Italy?\n",
    "User: Yes, please.\n",
    "AI: Here are a few options:\n",
    "Hotel Artemide\n",
    "The Rome EDITION\n",
    "Hotel Nazionale\n",
    "Do any of these interest you?\n",
    "User: Hotel Artemide sounds perfect. Let's go with that.\n",
    "AI: Excellent choice! May I have your full name for the reservation?\n",
    "User: It's Jonathan Rivera.\n",
    "AI: Thank you, Jonathan. I've reserved a room at Hotel Artemide in Rome, Italy for 2 guests from July 10 to July 15.\"\"\""
   ]
  },
  {
   "cell_type": "code",
   "execution_count": 4,
   "id": "f4bbedd71440bcc9",
   "metadata": {
    "scrolled": true
   },
   "outputs": [],
   "source": [
    "import json\n",
    "\n",
    "run_input = f\"\"\"{prompt}\n",
    "\n",
    "{conversation}\"\"\"\n",
    "\n",
    "run = await client.beta.maestro.runs.create_and_poll(\n",
    "    input=run_input,\n",
    "    requirements=requirements,\n",
    "    include=[\"requirements_result\"],\n",
    "    budget=\"low\",\n",
    ")"
   ]
  },
  {
   "cell_type": "markdown",
   "id": "755d64b7",
   "metadata": {},
   "source": [
    "Let's take a look at the output and the report card on the requirements:"
   ]
  },
  {
   "cell_type": "code",
   "execution_count": 5,
   "id": "a5c5e887",
   "metadata": {},
   "outputs": [
    {
     "name": "stdout",
     "output_type": "stream",
     "text": [
      "Run 068cdf15-48e4-7757-8000-cc73d015d060 status: completed.\n",
      "Result:\n",
      "- Name: Jonathan Rivera\n",
      "- HotelName: Hotel Artemide\n",
      "- CheckInDate: 2023-07-10\n",
      "- CheckOutDate: 2023-07-15\n",
      "- City: Rome\n",
      "- Country: Italy\n",
      "- NumberOfGuests: 2\n",
      "\n",
      "************************\n",
      "\n",
      "Requirements result:\n",
      "{\n",
      "  \"score\": 0.9,\n",
      "  \"finish_reason\": \"Budget exhausted\",\n",
      "  \"requirements\": [\n",
      "    {\n",
      "      \"name\": \"bullets\",\n",
      "      \"description\": \"Return a bulleted list where each field is a bullet.\",\n",
      "      \"is_mandatory\": false,\n",
      "      \"score\": 1.0,\n",
      "      \"reason\": \"None\"\n",
      "    },\n",
      "    {\n",
      "      \"name\": \"NA\",\n",
      "      \"description\": \"If any field is not mentioned or can\\u2019t be fully extracted from the conversation, fill it with \\\"NA\\\".\",\n",
      "      \"is_mandatory\": false,\n",
      "      \"score\": 1.0,\n",
      "      \"reason\": \"None\"\n",
      "    },\n",
      "    {\n",
      "      \"name\": \"don't make things up\",\n",
      "      \"description\": \"Do not invent, infer, or assume any details that are not explicitly stated in the conversation.\",\n",
      "      \"is_mandatory\": false,\n",
      "      \"score\": 0.6,\n",
      "      \"reason\": \"The response correctly extracted Name, HotelName, City, Country, and NumberOfGuests. However, the CheckInDate and CheckOutDate include the year 2023, which was not explicitly stated in the conversation. The user only provided the month and day (\\\"July 10th\\\" and \\\"July 15th\\\"), and the year was inferred, violating the criterion.\"\n",
      "    }\n",
      "  ]\n",
      "}\n"
     ]
    }
   ],
   "source": [
    "print(f\"Run {run.id} status: {run.status}.\\nResult:\")\n",
    "print(run.result)\n",
    "print(\"\\n************************\\n\")\n",
    "print(\"Requirements result:\")\n",
    "print(json.dumps(run.requirements_result, indent=2))"
   ]
  },
  {
   "cell_type": "markdown",
   "id": "ed24cb71bd746f4a",
   "metadata": {},
   "source": [
    "## External Tools: Http\n",
    "For now, Maestro supports only POST requests."
   ]
  },
  {
   "cell_type": "markdown",
   "id": "39f1cd21",
   "metadata": {},
   "source": [
    "We will show a simple example of using Echo API.\n",
    "First, we will define the http tool:"
   ]
  },
  {
   "cell_type": "code",
   "execution_count": 6,
   "id": "0e59a5cb",
   "metadata": {},
   "outputs": [],
   "source": [
    "import json\n",
    "from ai21.models.maestro import HttpTool, Function, Parameters, Endpoint\n",
    "\n",
    "echo_tool = HttpTool(\n",
    "    type=\"http\",\n",
    "    function=Function(\n",
    "        name=\"echo_post_httpbin\",\n",
    "        description=\"Echo back a message string using httpbin.org\",\n",
    "        parameters=Parameters(\n",
    "            type=\"object\",\n",
    "            properties={\n",
    "                \"message\": {\n",
    "                    \"type\": \"string\",\n",
    "                    \"description\": \"Any string to echo back\"\n",
    "                }\n",
    "            },\n",
    "            required=[\"message\"],\n",
    "        ),\n",
    "    ),\n",
    "    endpoint=Endpoint(\n",
    "        url=\"https://httpbin.org/post\"\n",
    "    ),\n",
    ")"
   ]
  },
  {
   "cell_type": "markdown",
   "id": "ce293858",
   "metadata": {},
   "source": [
    "Now, we will pass that tool to Maestro."
   ]
  },
  {
   "cell_type": "code",
   "execution_count": 7,
   "id": "ac15e785",
   "metadata": {},
   "outputs": [],
   "source": [
    "message = \"Stop repeating everything I say!\"\n",
    "\n",
    "run_result = await client.beta.maestro.runs.create_and_poll(\n",
    "    input=(\n",
    "        f\"Call the tool 'echo_post_httpbin' with:\\n\"\n",
    "        f'{{\"message\": \"{message}\"}}\\n'\n",
    "        \"Return the tool's raw JSON response.\"\n",
    "    ),\n",
    "    tools=[echo_tool],\n",
    ")\n",
    "\n",
    "# httpbin puts echoed content under 'json'\n",
    "resp = json.loads(run_result.result)"
   ]
  },
  {
   "cell_type": "code",
   "execution_count": 8,
   "id": "02d19e2e",
   "metadata": {},
   "outputs": [
    {
     "name": "stdout",
     "output_type": "stream",
     "text": [
      "Original message: Stop repeating everything I say!\n",
      "Agent answer: Stop repeating everything I say!\n"
     ]
    }
   ],
   "source": [
    "print(\"Original message:\", message)\n",
    "print(\"Agent answer:\", resp.get(\"json\", {}).get(\"message\"))"
   ]
  },
  {
   "cell_type": "markdown",
   "id": "daadff13",
   "metadata": {},
   "source": [
    "# Enable File Search (RAG)"
   ]
  },
  {
   "cell_type": "markdown",
   "id": "32893439c1171887",
   "metadata": {},
   "source": [
    "You can upload files to the library and use \"file_search\" as a tool to Maestro.\n",
    "In this example, we will upload the [following page from Wikipedia](https://en.wikipedia.org/wiki/List_of_Pok%C3%A9mon) (downloaded as pdf)."
   ]
  },
  {
   "cell_type": "code",
   "execution_count": 9,
   "id": "91c52597eeb6ef7a",
   "metadata": {},
   "outputs": [
    {
     "name": "stdout",
     "output_type": "stream",
     "text": [
      "a9fa288d-a6b6-4a54-b294-f09b14978cbe\n"
     ]
    }
   ],
   "source": [
    "file_path = \"data/List_of_Pokémon.pdf\"\n",
    "\n",
    "file_id = await client.library.files.create(\n",
    "    file_path=str(file_path)\n",
    ")\n",
    "\n",
    "print(file_id)"
   ]
  },
  {
   "cell_type": "markdown",
   "id": "483dfbdd",
   "metadata": {},
   "source": [
    "Now enable the `file_search` tool in Maestro:"
   ]
  },
  {
   "cell_type": "code",
   "execution_count": 10,
   "id": "a905f430",
   "metadata": {},
   "outputs": [],
   "source": [
    "run_result = await client.beta.maestro.runs.create_and_poll(\n",
    "    input=(\n",
    "        \"Give me a list of 5 pokemons from the first generation and 4 pokemons from generation 3\"\n",
    "    ),\n",
    "    tools=[{\"type\": \"file_search\"}],\n",
    ")"
   ]
  },
  {
   "cell_type": "markdown",
   "id": "70ed9fdd",
   "metadata": {},
   "source": [
    "Let's see the result:"
   ]
  },
  {
   "cell_type": "code",
   "execution_count": 11,
   "id": "579917df",
   "metadata": {},
   "outputs": [
    {
     "data": {
      "text/markdown": [
       "Here is a list of 5 Pokémon from the first generation and 4 Pokémon from the third generation based on the provided context:\n",
       "\n",
       "**Generation I Pokémon:**\n",
       "1. Bulbasaur\n",
       "2. Ivysaur\n",
       "3. Venusaur\n",
       "4. Charmander\n",
       "5. Charmeleon\n",
       "\n",
       "**Generation III Pokémon:**\n",
       "1. Treecko\n",
       "2. Grovyle\n",
       "3. Sceptile\n",
       "4. Torchic"
      ],
      "text/plain": [
       "<IPython.core.display.Markdown object>"
      ]
     },
     "metadata": {},
     "output_type": "display_data"
    }
   ],
   "source": [
    "from IPython.display import Markdown, display\n",
    "\n",
    "display(Markdown(run_result.result))"
   ]
  },
  {
   "cell_type": "markdown",
   "id": "f9c13e013ed1d8a",
   "metadata": {},
   "source": [
    "# Chat messages (history)\n",
    "`input` can be either a `string` or a list of dictionaries, consists of `role` and `content`."
   ]
  },
  {
   "cell_type": "code",
   "execution_count": 12,
   "id": "53e001f1a4387045",
   "metadata": {},
   "outputs": [
    {
     "name": "stdout",
     "output_type": "stream",
     "text": [
      "Result: Arceus\n"
     ]
    }
   ],
   "source": [
    "run = await client.beta.maestro.runs.create_and_poll(\n",
    "    input=[\n",
    "        {\"role\": \"user\", \"content\": \"hi\"},\n",
    "        {\"role\": \"assistant\", \"content\": \"Hello, how may I assist you today?\"},\n",
    "        {\"role\": \"user\", \"content\": \"Which Pokemon is the best?\"},\n",
    "    ],\n",
    "    budget=\"low\",\n",
    "    poll_interval_sec=1,\n",
    "    poll_timeout_sec=20,\n",
    ")\n",
    "\n",
    "print(\"Result:\", run.result)"
   ]
  }
 ],
 "metadata": {
  "kernelspec": {
   "display_name": "Python 3 (ipykernel)",
   "language": "python",
   "name": "python3"
  },
  "language_info": {
   "codemirror_mode": {
    "name": "ipython",
    "version": 3
   },
   "file_extension": ".py",
   "mimetype": "text/x-python",
   "name": "python",
   "nbconvert_exporter": "python",
   "pygments_lexer": "ipython3",
   "version": "3.9.6"
  }
 },
 "nbformat": 4,
 "nbformat_minor": 5
}
