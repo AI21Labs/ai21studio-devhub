{
 "cells": [
  {
   "cell_type": "markdown",
   "id": "faf618aa",
   "metadata": {},
   "source": [
    "# Building a Financial Analyst Assistant Using Conversational RAG"
   ]
  },
  {
   "cell_type": "markdown",
   "id": "983d39ee",
   "metadata": {},
   "source": [
    "In this notebook we will build a financial analyst assistant using AI21 Conversational RAG endpoint.\n",
    "If you're interested on learning more about this endpoint, you can read the following [blog](https://www.ai21.com/blog/conversational-ai-with-rag) or watch a [video intro](https://www.youtube.com/watch?v=-gZ7W6E0cGc)."
   ]
  },
  {
   "cell_type": "markdown",
   "id": "c6d1d663",
   "metadata": {},
   "source": [
    "See below the architecture behind AI21's Conversational RAG endpoint, showing how the Execution Engine decides whether to route incoming queries to the Retrieval Engine or directly to the LLM."
   ]
  },
  {
   "cell_type": "markdown",
   "id": "26ed6fb6",
   "metadata": {},
   "source": [
    "![title](convrag_architecture.png)"
   ]
  },
  {
   "cell_type": "markdown",
   "id": "3292eed5",
   "metadata": {},
   "source": [
    "## Imports & Setup"
   ]
  },
  {
   "cell_type": "markdown",
   "id": "45651dbe",
   "metadata": {},
   "source": [
    "We will use the AI21 SDK throughout this notebook."
   ]
  },
  {
   "cell_type": "code",
   "execution_count": 1,
   "id": "ca9d6fce",
   "metadata": {},
   "outputs": [
    {
     "name": "stdout",
     "output_type": "stream",
     "text": [
      "Requirement already satisfied: ai21 in /Users/yuvalbelfer/.pyenv/versions/3.9.6/envs/jupyter-env/lib/python3.9/site-packages (2.12.0)\n",
      "Requirement already satisfied: ai21-tokenizer<1.0.0,>=0.11.0 in /Users/yuvalbelfer/.pyenv/versions/3.9.6/envs/jupyter-env/lib/python3.9/site-packages (from ai21) (0.11.3)\n",
      "Requirement already satisfied: httpx<0.28.0,>=0.27.0 in /Users/yuvalbelfer/.pyenv/versions/3.9.6/envs/jupyter-env/lib/python3.9/site-packages (from ai21) (0.27.0)\n",
      "Requirement already satisfied: pydantic<3.0.0,>=1.9.0 in /Users/yuvalbelfer/.pyenv/versions/3.9.6/envs/jupyter-env/lib/python3.9/site-packages (from ai21) (2.8.2)\n",
      "Requirement already satisfied: tenacity<9.0.0,>=8.3.0 in /Users/yuvalbelfer/.pyenv/versions/3.9.6/envs/jupyter-env/lib/python3.9/site-packages (from ai21) (8.5.0)\n",
      "Requirement already satisfied: typing-extensions<5.0.0,>=4.9.0 in /Users/yuvalbelfer/.pyenv/versions/3.9.6/envs/jupyter-env/lib/python3.9/site-packages (from ai21) (4.12.2)\n",
      "Requirement already satisfied: anyio<5.0.0,>=4.4.0 in /Users/yuvalbelfer/.pyenv/versions/3.9.6/envs/jupyter-env/lib/python3.9/site-packages (from ai21-tokenizer<1.0.0,>=0.11.0->ai21) (4.4.0)\n",
      "Requirement already satisfied: sentencepiece<1.0.0,>=0.2.0 in /Users/yuvalbelfer/.pyenv/versions/3.9.6/envs/jupyter-env/lib/python3.9/site-packages (from ai21-tokenizer<1.0.0,>=0.11.0->ai21) (0.2.0)\n",
      "Requirement already satisfied: tokenizers<1.0.0,>=0.15.0 in /Users/yuvalbelfer/.pyenv/versions/3.9.6/envs/jupyter-env/lib/python3.9/site-packages (from ai21-tokenizer<1.0.0,>=0.11.0->ai21) (0.19.1)\n",
      "Requirement already satisfied: certifi in /Users/yuvalbelfer/.pyenv/versions/3.9.6/envs/jupyter-env/lib/python3.9/site-packages (from httpx<0.28.0,>=0.27.0->ai21) (2022.6.15)\n",
      "Requirement already satisfied: httpcore==1.* in /Users/yuvalbelfer/.pyenv/versions/3.9.6/envs/jupyter-env/lib/python3.9/site-packages (from httpx<0.28.0,>=0.27.0->ai21) (1.0.2)\n",
      "Requirement already satisfied: idna in /Users/yuvalbelfer/.pyenv/versions/3.9.6/envs/jupyter-env/lib/python3.9/site-packages (from httpx<0.28.0,>=0.27.0->ai21) (3.3)\n",
      "Requirement already satisfied: sniffio in /Users/yuvalbelfer/.pyenv/versions/3.9.6/envs/jupyter-env/lib/python3.9/site-packages (from httpx<0.28.0,>=0.27.0->ai21) (1.3.0)\n",
      "Requirement already satisfied: h11<0.15,>=0.13 in /Users/yuvalbelfer/.pyenv/versions/3.9.6/envs/jupyter-env/lib/python3.9/site-packages (from httpcore==1.*->httpx<0.28.0,>=0.27.0->ai21) (0.14.0)\n",
      "Requirement already satisfied: annotated-types>=0.4.0 in /Users/yuvalbelfer/.pyenv/versions/3.9.6/envs/jupyter-env/lib/python3.9/site-packages (from pydantic<3.0.0,>=1.9.0->ai21) (0.7.0)\n",
      "Requirement already satisfied: pydantic-core==2.20.1 in /Users/yuvalbelfer/.pyenv/versions/3.9.6/envs/jupyter-env/lib/python3.9/site-packages (from pydantic<3.0.0,>=1.9.0->ai21) (2.20.1)\n",
      "Requirement already satisfied: exceptiongroup>=1.0.2 in /Users/yuvalbelfer/.pyenv/versions/3.9.6/envs/jupyter-env/lib/python3.9/site-packages (from anyio<5.0.0,>=4.4.0->ai21-tokenizer<1.0.0,>=0.11.0->ai21) (1.1.2)\n",
      "Requirement already satisfied: huggingface-hub<1.0,>=0.16.4 in /Users/yuvalbelfer/.pyenv/versions/3.9.6/envs/jupyter-env/lib/python3.9/site-packages (from tokenizers<1.0.0,>=0.15.0->ai21-tokenizer<1.0.0,>=0.11.0->ai21) (0.24.5)\n",
      "Requirement already satisfied: filelock in /Users/yuvalbelfer/.pyenv/versions/3.9.6/envs/jupyter-env/lib/python3.9/site-packages (from huggingface-hub<1.0,>=0.16.4->tokenizers<1.0.0,>=0.15.0->ai21-tokenizer<1.0.0,>=0.11.0->ai21) (3.12.0)\n",
      "Requirement already satisfied: fsspec>=2023.5.0 in /Users/yuvalbelfer/.pyenv/versions/3.9.6/envs/jupyter-env/lib/python3.9/site-packages (from huggingface-hub<1.0,>=0.16.4->tokenizers<1.0.0,>=0.15.0->ai21-tokenizer<1.0.0,>=0.11.0->ai21) (2023.5.0)\n",
      "Requirement already satisfied: packaging>=20.9 in /Users/yuvalbelfer/.pyenv/versions/3.9.6/envs/jupyter-env/lib/python3.9/site-packages (from huggingface-hub<1.0,>=0.16.4->tokenizers<1.0.0,>=0.15.0->ai21-tokenizer<1.0.0,>=0.11.0->ai21) (23.2)\n",
      "Requirement already satisfied: pyyaml>=5.1 in /Users/yuvalbelfer/.pyenv/versions/3.9.6/envs/jupyter-env/lib/python3.9/site-packages (from huggingface-hub<1.0,>=0.16.4->tokenizers<1.0.0,>=0.15.0->ai21-tokenizer<1.0.0,>=0.11.0->ai21) (6.0.1)\n",
      "Requirement already satisfied: requests in /Users/yuvalbelfer/.pyenv/versions/3.9.6/envs/jupyter-env/lib/python3.9/site-packages (from huggingface-hub<1.0,>=0.16.4->tokenizers<1.0.0,>=0.15.0->ai21-tokenizer<1.0.0,>=0.11.0->ai21) (2.31.0)\n",
      "Requirement already satisfied: tqdm>=4.42.1 in /Users/yuvalbelfer/.pyenv/versions/3.9.6/envs/jupyter-env/lib/python3.9/site-packages (from huggingface-hub<1.0,>=0.16.4->tokenizers<1.0.0,>=0.15.0->ai21-tokenizer<1.0.0,>=0.11.0->ai21) (4.66.4)\n",
      "Requirement already satisfied: charset-normalizer<4,>=2 in /Users/yuvalbelfer/.pyenv/versions/3.9.6/envs/jupyter-env/lib/python3.9/site-packages (from requests->huggingface-hub<1.0,>=0.16.4->tokenizers<1.0.0,>=0.15.0->ai21-tokenizer<1.0.0,>=0.11.0->ai21) (2.1.1)\n",
      "Requirement already satisfied: urllib3<3,>=1.21.1 in /Users/yuvalbelfer/.pyenv/versions/3.9.6/envs/jupyter-env/lib/python3.9/site-packages (from requests->huggingface-hub<1.0,>=0.16.4->tokenizers<1.0.0,>=0.15.0->ai21-tokenizer<1.0.0,>=0.11.0->ai21) (1.26.12)\n",
      "\n",
      "\u001b[1m[\u001b[0m\u001b[34;49mnotice\u001b[0m\u001b[1;39;49m]\u001b[0m\u001b[39;49m A new release of pip is available: \u001b[0m\u001b[31;49m23.3.1\u001b[0m\u001b[39;49m -> \u001b[0m\u001b[32;49m24.2\u001b[0m\n",
      "\u001b[1m[\u001b[0m\u001b[34;49mnotice\u001b[0m\u001b[1;39;49m]\u001b[0m\u001b[39;49m To update, run: \u001b[0m\u001b[32;49mpython3.9 -m pip install --upgrade pip\u001b[0m\n"
     ]
    }
   ],
   "source": [
    "!pip install -U ai21"
   ]
  },
  {
   "cell_type": "code",
   "execution_count": 2,
   "id": "29382adf",
   "metadata": {},
   "outputs": [],
   "source": [
    "import os\n",
    "import requests\n",
    "import json\n",
    "import getpass\n",
    "import ai21\n",
    "from ai21 import AI21Client\n",
    "from ai21.models.chat import ChatMessage\n",
    "from ai21.models.responses.conversational_rag_response import ConversationalRagResponse"
   ]
  },
  {
   "cell_type": "markdown",
   "id": "6bbb4cbc",
   "metadata": {},
   "source": [
    "Enter your AI21 API key. You can get it from your [account page](https://studio.ai21.com/account/api-key)."
   ]
  },
  {
   "cell_type": "code",
   "execution_count": 3,
   "id": "dbafc383",
   "metadata": {},
   "outputs": [
    {
     "name": "stdout",
     "output_type": "stream",
     "text": [
      "Enter your AI21 api key:········\n"
     ]
    }
   ],
   "source": [
    "AI21_API_KEY = getpass.getpass(prompt='Enter your AI21 api key:')"
   ]
  },
  {
   "cell_type": "markdown",
   "id": "dc405b47",
   "metadata": {},
   "source": [
    "This notebook is using AI21 SDK for the entire process. First, we create an AI21 client."
   ]
  },
  {
   "cell_type": "code",
   "execution_count": 4,
   "id": "355b859a",
   "metadata": {},
   "outputs": [],
   "source": [
    "client = AI21Client(api_key=AI21_API_KEY)"
   ]
  },
  {
   "cell_type": "markdown",
   "id": "72bf08fb",
   "metadata": {},
   "source": [
    "## Data Preparation"
   ]
  },
  {
   "cell_type": "markdown",
   "id": "54b1a8a1",
   "metadata": {},
   "source": [
    "To simulate organizational data for finance, we will download 5 10-K forms from Amazon from Amazon’s [Investor Relations](https://ir.aboutamazon.com/sec-filings/default.aspx) page."
   ]
  },
  {
   "cell_type": "code",
   "execution_count": null,
   "id": "a2513352",
   "metadata": {},
   "outputs": [],
   "source": [
    "# Get the data - download 10k forms from AMZN from the last five years\n",
    "os.mkdir(\"data\")\n",
    "!wget 'https://d18rn0p25nwr6d.cloudfront.net/CIK-0001018724/c7c14359-36fa-40c3-b3ca-5bf7f3fa0b96.pdf' -O 'data/amazon_2023.pdf'\n",
    "!wget 'https://d18rn0p25nwr6d.cloudfront.net/CIK-0001018724/d2fde7ee-05f7-419d-9ce8-186de4c96e25.pdf' -O 'data/amazon_2022.pdf'\n",
    "!wget 'https://d18rn0p25nwr6d.cloudfront.net/CIK-0001018724/f965e5c3-fded-45d3-bbdb-f750f156dcc9.pdf' -O 'data/amazon_2021.pdf'\n",
    "!wget 'https://d18rn0p25nwr6d.cloudfront.net/CIK-0001018724/336d8745-ea82-40a5-9acc-1a89df23d0f3.pdf' -O 'data/amazon_2020.pdf'\n",
    "!wget 'https://d18rn0p25nwr6d.cloudfront.net/CIK-0001018724/4d39f579-19d8-4119-b087-ee618abf82d6.pdf' -O 'data/amazon_2019.pdf'"
   ]
  },
  {
   "cell_type": "markdown",
   "id": "0a5fdcd2",
   "metadata": {},
   "source": [
    "Upload the files to the RAG Engine. Note that we are using a label, to organize our database and later make the search more focused, and hence more efficient and accurate."
   ]
  },
  {
   "cell_type": "code",
   "execution_count": null,
   "id": "8bf1f875",
   "metadata": {},
   "outputs": [],
   "source": [
    "file_list = [os.path.join(\"data\", f) for f in os.listdir(\"data\")]\n",
    "for file in file_list:\n",
    "    response = client.library.files.create(file_path=file, labels = ['10k_example'])"
   ]
  },
  {
   "cell_type": "markdown",
   "id": "f00ab434",
   "metadata": {},
   "source": [
    "## Setting up Conversational RAG"
   ]
  },
  {
   "cell_type": "markdown",
   "id": "72486655",
   "metadata": {},
   "source": [
    "Now let’s set up the system. The API has the same interface as the chat API, and the retrieval process is seamless to the user and only visible through the fields in the response. There are several ways to work with chat APIs. We choose to save the conversation history in a global variable. We also define a default answer in the case where the question should be answered using the documents, but the information is just not there:"
   ]
  },
  {
   "cell_type": "code",
   "execution_count": 5,
   "id": "71465f94",
   "metadata": {},
   "outputs": [],
   "source": [
    "# Global variable for maintaining the history\n",
    "conversation_history = []\n",
    "DEFAULT_RESPONSE = \"I'm sorry, I cannot answer your questions based on the documents I have access to.\"\n",
    "\n",
    "def call_convrag(message, labels):\n",
    "    # Convert chat history to convrag messages format\n",
    "    conversation_history.append(ChatMessage(content=message, role=\"user\"))\n",
    "\n",
    "    try:\n",
    "        chat_response = client.beta.conversational_rag.create(\n",
    "            messages=conversation_history,\n",
    "            labels=labels\n",
    "        )\n",
    "        \n",
    "    except Exception as err:\n",
    "        print(f\"Error occurred: {err}\")\n",
    "        conversation_history.pop()\n",
    "        return\n",
    "    \n",
    "    if chat_response.context_retrieved and not chat_response.answer_in_context:\n",
    "        conversation_history.append(ChatMessage(content=DEFAULT_RESPONSE, role=\"assistant\"))\n",
    "    else:\n",
    "        conversation_history.append(ChatMessage(content=chat_response.choices[0].content, role=\"assistant\"))\n",
    "\n",
    "    return chat_response\n",
    "\n",
    "\n",
    "def print_convrag_response(chat_response: ConversationalRagResponse):\n",
    "    if response.context_retrieved and not response.answer_in_context:\n",
    "        print(DEFAULT_RESPONSE)\n",
    "    else:\n",
    "        print(response.choices[0].content)"
   ]
  },
  {
   "cell_type": "markdown",
   "id": "29ae6513",
   "metadata": {},
   "source": [
    "Now we want to interact with our assistant. Note that we are using a label for all our calls, to make sure the search is faster and more accurate. Starting with a simple hello:"
   ]
  },
  {
   "cell_type": "code",
   "execution_count": 6,
   "id": "33b2d0e8",
   "metadata": {},
   "outputs": [
    {
     "name": "stdout",
     "output_type": "stream",
     "text": [
      " Hello! I'm here and ready to assist you. How can I help you today?\n"
     ]
    }
   ],
   "source": [
    "message = \"Hello, how are you?\"\n",
    "\n",
    "response = call_convrag(message=message, labels=['10k_example'])\n",
    "\n",
    "print_convrag_response(response)"
   ]
  },
  {
   "cell_type": "markdown",
   "id": "d711b820",
   "metadata": {},
   "source": [
    "As you can see, we get a generic answer. Obviously, there’s no need to retrieve any of our organizational data to answer this question. Here is the response:"
   ]
  },
  {
   "cell_type": "code",
   "execution_count": 11,
   "id": "4fdd628f",
   "metadata": {},
   "outputs": [
    {
     "name": "stdout",
     "output_type": "stream",
     "text": [
      " 1,525,000.\n"
     ]
    }
   ],
   "source": [
    "message = \"I want to do some research about Amazon in the last couple of years. Let's start with an easy one - how many employees did Amazon have by the end of 2023?\"\n",
    "\n",
    "response = call_convrag(message=message, labels=['10k_example'])\n",
    "\n",
    "print_convrag_response(response)"
   ]
  },
  {
   "cell_type": "markdown",
   "id": "46aab4bb",
   "metadata": {},
   "source": [
    "As you can see, in this case the model went through the retrieval process, and generated an answer based on our organizational data. You can also look at the full response:"
   ]
  },
  {
   "cell_type": "code",
   "execution_count": 12,
   "id": "f6759925",
   "metadata": {},
   "outputs": [
    {
     "data": {
      "text/plain": [
       "{'id': 'c161940a-fe82-40df-8dda-8afbe7e6cf64',\n",
       " 'choices': [{'role': 'assistant', 'content': ' 1,525,000.'}],\n",
       " 'search_queries': ['How many employees did Amazon have by the end of 2023?'],\n",
       " 'context_retrieved': True,\n",
       " 'answer_in_context': True,\n",
       " 'sources': [{'text': 'Our employees are critical to our mission of being Earth’s most customer-centric company. As of December 31, 2020, we employed approximately 1,298,000 full-time and part-time employees. Additionally, we utilize independent contractors and temporary personnel to supplement our workforce. Competition for qualified personnel has historically been intense, particularly for software engineers, computer scientists, and other technical staff.\\nWe focus on investment and innovation, inclusion and diversity, safety, and engagement to hire and develop the best talent. We rely on numerous and evolving initiatives to implement these objectives and invent mechanisms for talent development, including industry-leading pay and benefits, skills training programs such as Amazon Career Choice and the Amazon Technical Academy, mentorship and support resources, and programs that advance engagement, communication, and feedback.',\n",
       "   'file_id': '96672297-5496-42ee-9897-b1fcf1b0ce84',\n",
       "   'file_name': 'amazon_2020.pdf',\n",
       "   'score': 0.8220664,\n",
       "   'order': 25,\n",
       "   'public_url': None,\n",
       "   'labels': ['10k_example']},\n",
       "  {'text': 'Our employees are critical to our mission of being Earth’s most customer-centric company. As of December 31, 2023, we employed approximately 1,525,000 full-time and part-time employees. Additionally, we use independent contractors and temporary personnel to supplement our workforce. Competition for qualified personnel is intense, particularly for software engineers, computer scientists, and other technical staff, and constrained labor markets have increased competition for personnel across other parts of our business.',\n",
       "   'file_id': '39526ed3-1517-4f8d-a206-ad7d364b2019',\n",
       "   'file_name': 'amazon_2023.pdf',\n",
       "   'score': 0.8126054,\n",
       "   'order': 26,\n",
       "   'public_url': None,\n",
       "   'labels': ['10k_example']},\n",
       "  {'text': 'Our employees are critical to our mission of being Earth’s most customer-centric company. As of December 31, 2022, we employed approximately 1,541,000 full-time and part-time employees. Additionally, we use independent contractors and temporary personnel to supplement our workforce. Competition for qualified personnel is intense, particularly for software engineers, computer scientists, and other technical staff, and constrained labor markets have increased competition for personnel across other parts of our business.',\n",
       "   'file_id': '948501b8-57bf-46e6-8239-4b8fc6dd9865',\n",
       "   'file_name': 'amazon_2022.pdf',\n",
       "   'score': 0.8037356,\n",
       "   'order': 26,\n",
       "   'public_url': None,\n",
       "   'labels': ['10k_example']}]}"
      ]
     },
     "execution_count": 12,
     "metadata": {},
     "output_type": "execute_result"
    }
   ],
   "source": [
    "response.dict()"
   ]
  },
  {
   "cell_type": "markdown",
   "id": "b63bda4b",
   "metadata": {},
   "source": [
    "Interesting to look at the following fields:\n",
    "\n",
    "**context_retrieved**: indicates whether the execution engine decided to route the message to the Retrieval Engine and use the top retrieved segments as context (_True_), or the answer is determined solely by the LLM (_False_).\n",
    "\n",
    "**answer_in_context**: only relevant when **context_retrieved** = _True_. If False, this indicates the model cannot answer the user's question based on the provided context. This means that either your documents do not contain the needed information, or that you should adjust some of the retrieval parameters."
   ]
  },
  {
   "cell_type": "markdown",
   "id": "05aba11f",
   "metadata": {},
   "source": [
    "Let’s continue the conversation with a more complex question:"
   ]
  },
  {
   "cell_type": "code",
   "execution_count": 24,
   "id": "423ed216",
   "metadata": {},
   "outputs": [
    {
     "name": "stdout",
     "output_type": "stream",
     "text": [
      " In 2022, Amazon.com, Inc. announced a 20-for-1 stock split of its common stock, which was also accompanied by an increase in the number of authorized shares of common stock. This stock split was reflected in all share, restricted stock unit (\"RSU\"), and per share or per RSU information throughout the company's Annual Report on Form 10-K.\n"
     ]
    }
   ],
   "source": [
    "message = \"Thanks. Any major stock events I should know about, including values and splits?\"\n",
    "\n",
    "response = call_convrag(message=message, labels=['10k_example'])\n",
    "\n",
    "print_convrag_response(response)"
   ]
  },
  {
   "cell_type": "markdown",
   "id": "caaab4ff",
   "metadata": {},
   "source": [
    "Looking good! Note that this answer combines knowledge from several different sources in our database. You can look at the **sources** field in the response to see them.\n",
    "\n",
    "Feeling emboldened by this success, we may be tempted to ask more questions:"
   ]
  },
  {
   "cell_type": "code",
   "execution_count": 25,
   "id": "3be93f6f",
   "metadata": {},
   "outputs": [
    {
     "name": "stdout",
     "output_type": "stream",
     "text": [
      "I'm sorry, I cannot answer your questions based on the documents I have access to.\n"
     ]
    }
   ],
   "source": [
    "message = \"How does it compare to Google's stock?\"\n",
    "\n",
    "response = call_convrag(message=message, labels=['10k_example'])\n",
    "\n",
    "print_convrag_response(response)"
   ]
  },
  {
   "cell_type": "markdown",
   "id": "8eca1749",
   "metadata": {},
   "source": [
    "Why does the system answer like this? Because the reports we have in our system only date back until 2019. There is a clear indication by the API that the answer is not in any of the documents, allowing for easy parsing and providing a default ‘No response’ message that you can pre define."
   ]
  },
  {
   "cell_type": "markdown",
   "id": "f4b88185",
   "metadata": {},
   "source": [
    "You can see the full conversation history below, as stored in our global variable:"
   ]
  },
  {
   "cell_type": "code",
   "execution_count": 26,
   "id": "ac12e8ad",
   "metadata": {},
   "outputs": [
    {
     "data": {
      "text/plain": [
       "[ChatMessage(role='user', content='Hello, how are you?'),\n",
       " ChatMessage(role='assistant', content=\" Hello! I'm here and ready to assist you. How can I help you today?\"),\n",
       " ChatMessage(role='user', content=\"I want to do some research about Amazon in the last couple of years. Let's start with an easy one - how many employees did Amazon have by the end of 2023?\"),\n",
       " ChatMessage(role='assistant', content=' 1,525,000.'),\n",
       " ChatMessage(role='user', content='Thanks. Any major stock events I should know about, including values and splits?'),\n",
       " ChatMessage(role='assistant', content=' In 2022, Amazon.com, Inc. announced a 20-for-1 stock split of its common stock, which was also accompanied by an increase in the number of authorized shares of common stock. This stock split was reflected in all share, restricted stock unit (\"RSU\"), and per share or per RSU information throughout the company\\'s Annual Report on Form 10-K.'),\n",
       " ChatMessage(role='user', content=\"How does it compare to Google's stock?\"),\n",
       " ChatMessage(role='assistant', content=\"I'm sorry, I cannot answer your questions based on the documents I have access to.\")]"
      ]
     },
     "execution_count": 26,
     "metadata": {},
     "output_type": "execute_result"
    }
   ],
   "source": [
    "conversation_history"
   ]
  }
 ],
 "metadata": {
  "kernelspec": {
   "display_name": "Python 3 (ipykernel)",
   "language": "python",
   "name": "python3"
  },
  "language_info": {
   "codemirror_mode": {
    "name": "ipython",
    "version": 3
   },
   "file_extension": ".py",
   "mimetype": "text/x-python",
   "name": "python",
   "nbconvert_exporter": "python",
   "pygments_lexer": "ipython3",
   "version": "3.9.6"
  }
 },
 "nbformat": 4,
 "nbformat_minor": 5
}
